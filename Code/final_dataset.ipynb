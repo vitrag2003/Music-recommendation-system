{
 "cells": [
  {
   "cell_type": "code",
   "execution_count": 12,
   "metadata": {},
   "outputs": [],
   "source": [
    "import os\n",
    "import pandas as pd\n",
    "import numpy as np\n",
    "import json\n",
    "import spotipy\n",
    "import spotipy.oauth2 as oauth2\n",
    "from spotipy.oauth2 import SpotifyOAuth,SpotifyClientCredentials\n",
    "import yaml\n",
    "import re\n",
    "from tqdm import tqdm\n",
    "import multiprocessing as mp\n",
    "import time\n",
    "import random\n",
    "import datetime\n",
    "import pickle\n",
    "from sklearn.feature_extraction.text import TfidfVectorizer\n",
    "from sklearn.metrics.pairwise import cosine_similarity\n",
    "from sklearn.preprocessing import MinMaxScaler\n",
    "import matplotlib.pyplot as plt\n",
    "#from skimage import io\n",
    "from sklearn.preprocessing import OneHotEncoder\n",
    "import pickle\n"
   ]
  },
  {
   "cell_type": "code",
   "execution_count": 13,
   "metadata": {},
   "outputs": [],
   "source": [
    "df=pd.read_csv('../Data/1M_unique_processed_data.csv')"
   ]
  },
  {
   "cell_type": "code",
   "execution_count": 14,
   "metadata": {},
   "outputs": [
    {
     "data": {
      "text/plain": [
       "(66243, 31)"
      ]
     },
     "execution_count": 14,
     "metadata": {},
     "output_type": "execute_result"
    }
   ],
   "source": [
    "df.drop_duplicates(inplace=True)\n",
    "df.drop_duplicates(subset='track_uri',inplace=True)\n",
    "df.shape"
   ]
  },
  {
   "cell_type": "code",
   "execution_count": 15,
   "metadata": {},
   "outputs": [],
   "source": [
    "# List of columns to drop\n",
    "columns_to_drop = ['name', 'num_holdouts', 'pid', 'num_tracks', 'num_samples', 'pos', 'time_signature','genres']\n",
    "\n",
    "# Drop the specified columns\n",
    "df.drop(columns=columns_to_drop, inplace=True)\n",
    "# Dropping rows with missing values in specified columns\n"
   ]
  },
  {
   "cell_type": "code",
   "execution_count": 16,
   "metadata": {},
   "outputs": [
    {
     "name": "stdout",
     "output_type": "stream",
     "text": [
      "(6624, 23)\n"
     ]
    }
   ],
   "source": [
    "df = df.sample(frac=0.1, random_state=42)  # Adjust fraction size as needed\n",
    "\n",
    "# Display the shape of the sampled dataset\n",
    "print(df.shape)"
   ]
  },
  {
   "cell_type": "code",
   "execution_count": 17,
   "metadata": {},
   "outputs": [],
   "source": [
    "df.dropna(subset=['danceability'], inplace=True)\n"
   ]
  },
  {
   "cell_type": "code",
   "execution_count": 18,
   "metadata": {},
   "outputs": [
    {
     "data": {
      "text/plain": [
       "Index(['artist_name', 'track_uri', 'artist_uri', 'track_name', 'album_uri',\n",
       "       'track_duration_ms', 'album_name', 'danceability', 'energy', 'key',\n",
       "       'loudness', 'mode', 'speechiness', 'acousticness', 'instrumentalness',\n",
       "       'liveness', 'valence', 'tempo', 'type', 'audio_duration_ms',\n",
       "       'release_date', 'popularity', 'artist_pop'],\n",
       "      dtype='object')"
      ]
     },
     "execution_count": 18,
     "metadata": {},
     "output_type": "execute_result"
    }
   ],
   "source": [
    "df.columns"
   ]
  },
  {
   "cell_type": "code",
   "execution_count": 19,
   "metadata": {},
   "outputs": [
    {
     "data": {
      "text/plain": [
       "artist_name            0\n",
       "track_uri              0\n",
       "artist_uri             0\n",
       "track_name             0\n",
       "album_uri              0\n",
       "track_duration_ms      0\n",
       "album_name             0\n",
       "danceability           0\n",
       "energy                 0\n",
       "key                    0\n",
       "loudness               0\n",
       "mode                   0\n",
       "speechiness            0\n",
       "acousticness           0\n",
       "instrumentalness       0\n",
       "liveness               0\n",
       "valence                0\n",
       "tempo                  0\n",
       "type                   0\n",
       "audio_duration_ms      0\n",
       "release_date          23\n",
       "popularity            23\n",
       "artist_pop           101\n",
       "dtype: int64"
      ]
     },
     "execution_count": 19,
     "metadata": {},
     "output_type": "execute_result"
    }
   ],
   "source": [
    "df.isnull().sum()"
   ]
  },
  {
   "cell_type": "code",
   "execution_count": 20,
   "metadata": {},
   "outputs": [],
   "source": [
    "xgb_model = pickle.load(open('../Models/xgb.pkl', 'rb'))  # Update with your file path\n",
    "scaler = pickle.load(open('../Models/scaler.pkl', 'rb'))\n",
    "label_encoder = pickle.load(open('../Models/encoder.pkl', 'rb'))\n"
   ]
  },
  {
   "cell_type": "code",
   "execution_count": 21,
   "metadata": {},
   "outputs": [],
   "source": [
    "\n",
    "\n",
    "# Keep only relevant features\n",
    "input_features = df[['danceability', 'energy', 'key', 'loudness', 'mode',\n",
    "                            'speechiness', 'acousticness', 'instrumentalness',\n",
    "                            'liveness', 'valence', 'tempo']]\n",
    "\n",
    "# Scale the features using the previously saved scaler\n",
    "scaled_features = scaler.transform(input_features)\n",
    "scaled_df = pd.DataFrame(scaled_features, columns=input_features.columns)\n",
    "\n",
    "# Make predictions using the XGBoost model\n",
    "predictions = xgb_model.predict(scaled_df)\n",
    "\n",
    "# Inverse transform the numeric labels back to genre names\n",
    "predicted_genres = label_encoder.inverse_transform(predictions)\n",
    "\n",
    "# Add the predicted 'genre' column to the original dataframe\n",
    "df['genre'] = predicted_genres\n",
    "\n",
    "\n"
   ]
  },
  {
   "cell_type": "code",
   "execution_count": 22,
   "metadata": {},
   "outputs": [
    {
     "data": {
      "text/plain": [
       "Index(['artist_name', 'track_uri', 'artist_uri', 'track_name', 'album_uri',\n",
       "       'track_duration_ms', 'album_name', 'danceability', 'energy', 'key',\n",
       "       'loudness', 'mode', 'speechiness', 'acousticness', 'instrumentalness',\n",
       "       'liveness', 'valence', 'tempo', 'type', 'audio_duration_ms',\n",
       "       'release_date', 'popularity', 'artist_pop', 'genre'],\n",
       "      dtype='object')"
      ]
     },
     "execution_count": 22,
     "metadata": {},
     "output_type": "execute_result"
    }
   ],
   "source": [
    "df.columns"
   ]
  },
  {
   "cell_type": "code",
   "execution_count": 23,
   "metadata": {},
   "outputs": [
    {
     "data": {
      "text/plain": [
       "(5024, 8)"
      ]
     },
     "execution_count": 23,
     "metadata": {},
     "output_type": "execute_result"
    }
   ],
   "source": [
    "columns_to_keep = ['artist_name', 'track_name', 'artist_pop', 'popularity','release_date','genre','track_uri','artist_uri']\n",
    "df = df.dropna(subset=columns_to_keep)\n",
    "\n",
    "# Selecting only the columns of interest\n",
    "df = df[columns_to_keep]\n",
    "df.shape"
   ]
  },
  {
   "cell_type": "code",
   "execution_count": 24,
   "metadata": {},
   "outputs": [],
   "source": [
    "df.to_csv('../Data/Spotify_with_genre.csv', index=False)\n"
   ]
  }
 ],
 "metadata": {
  "kernelspec": {
   "display_name": "Python 3",
   "language": "python",
   "name": "python3"
  },
  "language_info": {
   "codemirror_mode": {
    "name": "ipython",
    "version": 3
   },
   "file_extension": ".py",
   "mimetype": "text/x-python",
   "name": "python",
   "nbconvert_exporter": "python",
   "pygments_lexer": "ipython3",
   "version": "3.11.6"
  }
 },
 "nbformat": 4,
 "nbformat_minor": 2
}
