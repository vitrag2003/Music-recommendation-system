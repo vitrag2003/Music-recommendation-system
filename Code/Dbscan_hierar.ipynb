{
 "cells": [
  {
   "cell_type": "code",
   "execution_count": 1,
   "metadata": {},
   "outputs": [],
   "source": [
    "import pandas as pd\n",
    "import numpy as np"
   ]
  },
  {
   "cell_type": "code",
   "execution_count": 2,
   "metadata": {},
   "outputs": [],
   "source": [
    "df=pd.read_csv('../Data/Spotify_with_genre.csv')"
   ]
  },
  {
   "cell_type": "code",
   "execution_count": 3,
   "metadata": {},
   "outputs": [
    {
     "data": {
      "text/html": [
       "<div>\n",
       "<style scoped>\n",
       "    .dataframe tbody tr th:only-of-type {\n",
       "        vertical-align: middle;\n",
       "    }\n",
       "\n",
       "    .dataframe tbody tr th {\n",
       "        vertical-align: top;\n",
       "    }\n",
       "\n",
       "    .dataframe thead th {\n",
       "        text-align: right;\n",
       "    }\n",
       "</style>\n",
       "<table border=\"1\" class=\"dataframe\">\n",
       "  <thead>\n",
       "    <tr style=\"text-align: right;\">\n",
       "      <th></th>\n",
       "      <th>artist_name</th>\n",
       "      <th>track_name</th>\n",
       "      <th>artist_pop</th>\n",
       "      <th>popularity</th>\n",
       "      <th>release_date</th>\n",
       "      <th>genre</th>\n",
       "      <th>track_uri</th>\n",
       "      <th>artist_uri</th>\n",
       "    </tr>\n",
       "  </thead>\n",
       "  <tbody>\n",
       "    <tr>\n",
       "      <th>0</th>\n",
       "      <td>A Thousand Horses</td>\n",
       "      <td>Preachin' To The Choir</td>\n",
       "      <td>37.0</td>\n",
       "      <td>0.0</td>\n",
       "      <td>2017-06-02</td>\n",
       "      <td>Rap</td>\n",
       "      <td>6JKj9seJCshLVCfBLFp7dS</td>\n",
       "      <td>55RI2GNCfyXr0f14uIdhwd</td>\n",
       "    </tr>\n",
       "    <tr>\n",
       "      <th>1</th>\n",
       "      <td>Water Liars</td>\n",
       "      <td>You Work Days I Work Nights</td>\n",
       "      <td>29.0</td>\n",
       "      <td>10.0</td>\n",
       "      <td>2012</td>\n",
       "      <td>dnb</td>\n",
       "      <td>7L7u4PrNt5WMtVI9lHWlLm</td>\n",
       "      <td>6k3UpifDbb2ox25edM5j3P</td>\n",
       "    </tr>\n",
       "    <tr>\n",
       "      <th>2</th>\n",
       "      <td>Chambao</td>\n",
       "      <td>Sera</td>\n",
       "      <td>44.0</td>\n",
       "      <td>31.0</td>\n",
       "      <td>2007-11-06</td>\n",
       "      <td>Rap</td>\n",
       "      <td>12EyOqMPMyAKlKSynICAGN</td>\n",
       "      <td>2qhLqZ1pkiUl5HNrU2Nz0R</td>\n",
       "    </tr>\n",
       "    <tr>\n",
       "      <th>3</th>\n",
       "      <td>Jeezy</td>\n",
       "      <td>Big Shit Poppin</td>\n",
       "      <td>69.0</td>\n",
       "      <td>19.0</td>\n",
       "      <td>2007-08-07</td>\n",
       "      <td>Rap</td>\n",
       "      <td>3tCDjKseLQJhShfbeg4m7K</td>\n",
       "      <td>4yBK75WVCQXej1p04GWqxH</td>\n",
       "    </tr>\n",
       "    <tr>\n",
       "      <th>4</th>\n",
       "      <td>La Arrolladora Banda El Limón De Rene Camacho</td>\n",
       "      <td>No La Voy A Engañar</td>\n",
       "      <td>74.0</td>\n",
       "      <td>54.0</td>\n",
       "      <td>2012</td>\n",
       "      <td>Rap</td>\n",
       "      <td>0UICwSsSpUt98XkeCfupFn</td>\n",
       "      <td>5bSfBBCxY8QAk4Pifveisz</td>\n",
       "    </tr>\n",
       "  </tbody>\n",
       "</table>\n",
       "</div>"
      ],
      "text/plain": [
       "                                     artist_name                   track_name  \\\n",
       "0                              A Thousand Horses       Preachin' To The Choir   \n",
       "1                                    Water Liars  You Work Days I Work Nights   \n",
       "2                                        Chambao                         Sera   \n",
       "3                                          Jeezy              Big Shit Poppin   \n",
       "4  La Arrolladora Banda El Limón De Rene Camacho          No La Voy A Engañar   \n",
       "\n",
       "   artist_pop  popularity release_date genre               track_uri  \\\n",
       "0        37.0         0.0   2017-06-02   Rap  6JKj9seJCshLVCfBLFp7dS   \n",
       "1        29.0        10.0         2012   dnb  7L7u4PrNt5WMtVI9lHWlLm   \n",
       "2        44.0        31.0   2007-11-06   Rap  12EyOqMPMyAKlKSynICAGN   \n",
       "3        69.0        19.0   2007-08-07   Rap  3tCDjKseLQJhShfbeg4m7K   \n",
       "4        74.0        54.0         2012   Rap  0UICwSsSpUt98XkeCfupFn   \n",
       "\n",
       "               artist_uri  \n",
       "0  55RI2GNCfyXr0f14uIdhwd  \n",
       "1  6k3UpifDbb2ox25edM5j3P  \n",
       "2  2qhLqZ1pkiUl5HNrU2Nz0R  \n",
       "3  4yBK75WVCQXej1p04GWqxH  \n",
       "4  5bSfBBCxY8QAk4Pifveisz  "
      ]
     },
     "execution_count": 3,
     "metadata": {},
     "output_type": "execute_result"
    }
   ],
   "source": [
    "df.head()"
   ]
  },
  {
   "cell_type": "code",
   "execution_count": 4,
   "metadata": {},
   "outputs": [],
   "source": [
    "from sklearn.preprocessing import LabelEncoder"
   ]
  },
  {
   "cell_type": "code",
   "execution_count": 5,
   "metadata": {},
   "outputs": [],
   "source": [
    "label_encoder = LabelEncoder()"
   ]
  },
  {
   "cell_type": "code",
   "execution_count": 6,
   "metadata": {},
   "outputs": [],
   "source": [
    "df['artist_name'] = label_encoder.fit_transform(df['artist_name'])\n",
    "df['genre'] = label_encoder.fit_transform(df['genre'])"
   ]
  },
  {
   "cell_type": "code",
   "execution_count": 7,
   "metadata": {},
   "outputs": [],
   "source": [
    "df['release_date']=pd.to_datetime(df['release_date'], errors='coerce')"
   ]
  },
  {
   "cell_type": "code",
   "execution_count": 8,
   "metadata": {},
   "outputs": [],
   "source": [
    "df.dropna(subset=['release_date'], inplace=True)"
   ]
  },
  {
   "cell_type": "code",
   "execution_count": 9,
   "metadata": {},
   "outputs": [],
   "source": [
    "df['year'] = df['release_date'].dt.year"
   ]
  },
  {
   "cell_type": "code",
   "execution_count": 10,
   "metadata": {},
   "outputs": [],
   "source": [
    "df.drop(columns=['release_date'], inplace=True)"
   ]
  },
  {
   "cell_type": "code",
   "execution_count": 11,
   "metadata": {},
   "outputs": [
    {
     "data": {
      "text/html": [
       "<div>\n",
       "<style scoped>\n",
       "    .dataframe tbody tr th:only-of-type {\n",
       "        vertical-align: middle;\n",
       "    }\n",
       "\n",
       "    .dataframe tbody tr th {\n",
       "        vertical-align: top;\n",
       "    }\n",
       "\n",
       "    .dataframe thead th {\n",
       "        text-align: right;\n",
       "    }\n",
       "</style>\n",
       "<table border=\"1\" class=\"dataframe\">\n",
       "  <thead>\n",
       "    <tr style=\"text-align: right;\">\n",
       "      <th></th>\n",
       "      <th>artist_name</th>\n",
       "      <th>track_name</th>\n",
       "      <th>artist_pop</th>\n",
       "      <th>popularity</th>\n",
       "      <th>genre</th>\n",
       "      <th>track_uri</th>\n",
       "      <th>artist_uri</th>\n",
       "      <th>year</th>\n",
       "    </tr>\n",
       "  </thead>\n",
       "  <tbody>\n",
       "    <tr>\n",
       "      <th>0</th>\n",
       "      <td>34</td>\n",
       "      <td>Preachin' To The Choir</td>\n",
       "      <td>37.0</td>\n",
       "      <td>0.0</td>\n",
       "      <td>1</td>\n",
       "      <td>6JKj9seJCshLVCfBLFp7dS</td>\n",
       "      <td>55RI2GNCfyXr0f14uIdhwd</td>\n",
       "      <td>2017</td>\n",
       "    </tr>\n",
       "    <tr>\n",
       "      <th>1</th>\n",
       "      <td>2911</td>\n",
       "      <td>You Work Days I Work Nights</td>\n",
       "      <td>29.0</td>\n",
       "      <td>10.0</td>\n",
       "      <td>2</td>\n",
       "      <td>7L7u4PrNt5WMtVI9lHWlLm</td>\n",
       "      <td>6k3UpifDbb2ox25edM5j3P</td>\n",
       "      <td>2012</td>\n",
       "    </tr>\n",
       "    <tr>\n",
       "      <th>2</th>\n",
       "      <td>485</td>\n",
       "      <td>Sera</td>\n",
       "      <td>44.0</td>\n",
       "      <td>31.0</td>\n",
       "      <td>1</td>\n",
       "      <td>12EyOqMPMyAKlKSynICAGN</td>\n",
       "      <td>2qhLqZ1pkiUl5HNrU2Nz0R</td>\n",
       "      <td>2007</td>\n",
       "    </tr>\n",
       "    <tr>\n",
       "      <th>3</th>\n",
       "      <td>1268</td>\n",
       "      <td>Big Shit Poppin</td>\n",
       "      <td>69.0</td>\n",
       "      <td>19.0</td>\n",
       "      <td>1</td>\n",
       "      <td>3tCDjKseLQJhShfbeg4m7K</td>\n",
       "      <td>4yBK75WVCQXej1p04GWqxH</td>\n",
       "      <td>2007</td>\n",
       "    </tr>\n",
       "    <tr>\n",
       "      <th>4</th>\n",
       "      <td>1525</td>\n",
       "      <td>No La Voy A Engañar</td>\n",
       "      <td>74.0</td>\n",
       "      <td>54.0</td>\n",
       "      <td>1</td>\n",
       "      <td>0UICwSsSpUt98XkeCfupFn</td>\n",
       "      <td>5bSfBBCxY8QAk4Pifveisz</td>\n",
       "      <td>2012</td>\n",
       "    </tr>\n",
       "  </tbody>\n",
       "</table>\n",
       "</div>"
      ],
      "text/plain": [
       "   artist_name                   track_name  artist_pop  popularity  genre  \\\n",
       "0           34       Preachin' To The Choir        37.0         0.0      1   \n",
       "1         2911  You Work Days I Work Nights        29.0        10.0      2   \n",
       "2          485                         Sera        44.0        31.0      1   \n",
       "3         1268              Big Shit Poppin        69.0        19.0      1   \n",
       "4         1525          No La Voy A Engañar        74.0        54.0      1   \n",
       "\n",
       "                track_uri              artist_uri  year  \n",
       "0  6JKj9seJCshLVCfBLFp7dS  55RI2GNCfyXr0f14uIdhwd  2017  \n",
       "1  7L7u4PrNt5WMtVI9lHWlLm  6k3UpifDbb2ox25edM5j3P  2012  \n",
       "2  12EyOqMPMyAKlKSynICAGN  2qhLqZ1pkiUl5HNrU2Nz0R  2007  \n",
       "3  3tCDjKseLQJhShfbeg4m7K  4yBK75WVCQXej1p04GWqxH  2007  \n",
       "4  0UICwSsSpUt98XkeCfupFn  5bSfBBCxY8QAk4Pifveisz  2012  "
      ]
     },
     "execution_count": 11,
     "metadata": {},
     "output_type": "execute_result"
    }
   ],
   "source": [
    "df.head()"
   ]
  },
  {
   "cell_type": "code",
   "execution_count": 12,
   "metadata": {},
   "outputs": [],
   "source": [
    "from sklearn.preprocessing import MinMaxScaler"
   ]
  },
  {
   "cell_type": "code",
   "execution_count": 13,
   "metadata": {},
   "outputs": [],
   "source": [
    "scaler = MinMaxScaler()"
   ]
  },
  {
   "cell_type": "code",
   "execution_count": 14,
   "metadata": {},
   "outputs": [],
   "source": [
    "numerical_features = ['artist_pop', 'popularity']\n",
    "df[numerical_features] = scaler.fit_transform(df[numerical_features])"
   ]
  },
  {
   "cell_type": "code",
   "execution_count": 15,
   "metadata": {},
   "outputs": [
    {
     "data": {
      "text/html": [
       "<div>\n",
       "<style scoped>\n",
       "    .dataframe tbody tr th:only-of-type {\n",
       "        vertical-align: middle;\n",
       "    }\n",
       "\n",
       "    .dataframe tbody tr th {\n",
       "        vertical-align: top;\n",
       "    }\n",
       "\n",
       "    .dataframe thead th {\n",
       "        text-align: right;\n",
       "    }\n",
       "</style>\n",
       "<table border=\"1\" class=\"dataframe\">\n",
       "  <thead>\n",
       "    <tr style=\"text-align: right;\">\n",
       "      <th></th>\n",
       "      <th>artist_name</th>\n",
       "      <th>track_name</th>\n",
       "      <th>artist_pop</th>\n",
       "      <th>popularity</th>\n",
       "      <th>genre</th>\n",
       "      <th>track_uri</th>\n",
       "      <th>artist_uri</th>\n",
       "      <th>year</th>\n",
       "    </tr>\n",
       "  </thead>\n",
       "  <tbody>\n",
       "    <tr>\n",
       "      <th>0</th>\n",
       "      <td>34</td>\n",
       "      <td>Preachin' To The Choir</td>\n",
       "      <td>0.37</td>\n",
       "      <td>0.000000</td>\n",
       "      <td>1</td>\n",
       "      <td>6JKj9seJCshLVCfBLFp7dS</td>\n",
       "      <td>55RI2GNCfyXr0f14uIdhwd</td>\n",
       "      <td>2017</td>\n",
       "    </tr>\n",
       "    <tr>\n",
       "      <th>1</th>\n",
       "      <td>2911</td>\n",
       "      <td>You Work Days I Work Nights</td>\n",
       "      <td>0.29</td>\n",
       "      <td>0.108696</td>\n",
       "      <td>2</td>\n",
       "      <td>7L7u4PrNt5WMtVI9lHWlLm</td>\n",
       "      <td>6k3UpifDbb2ox25edM5j3P</td>\n",
       "      <td>2012</td>\n",
       "    </tr>\n",
       "    <tr>\n",
       "      <th>2</th>\n",
       "      <td>485</td>\n",
       "      <td>Sera</td>\n",
       "      <td>0.44</td>\n",
       "      <td>0.336957</td>\n",
       "      <td>1</td>\n",
       "      <td>12EyOqMPMyAKlKSynICAGN</td>\n",
       "      <td>2qhLqZ1pkiUl5HNrU2Nz0R</td>\n",
       "      <td>2007</td>\n",
       "    </tr>\n",
       "    <tr>\n",
       "      <th>3</th>\n",
       "      <td>1268</td>\n",
       "      <td>Big Shit Poppin</td>\n",
       "      <td>0.69</td>\n",
       "      <td>0.206522</td>\n",
       "      <td>1</td>\n",
       "      <td>3tCDjKseLQJhShfbeg4m7K</td>\n",
       "      <td>4yBK75WVCQXej1p04GWqxH</td>\n",
       "      <td>2007</td>\n",
       "    </tr>\n",
       "    <tr>\n",
       "      <th>4</th>\n",
       "      <td>1525</td>\n",
       "      <td>No La Voy A Engañar</td>\n",
       "      <td>0.74</td>\n",
       "      <td>0.586957</td>\n",
       "      <td>1</td>\n",
       "      <td>0UICwSsSpUt98XkeCfupFn</td>\n",
       "      <td>5bSfBBCxY8QAk4Pifveisz</td>\n",
       "      <td>2012</td>\n",
       "    </tr>\n",
       "  </tbody>\n",
       "</table>\n",
       "</div>"
      ],
      "text/plain": [
       "   artist_name                   track_name  artist_pop  popularity  genre  \\\n",
       "0           34       Preachin' To The Choir        0.37    0.000000      1   \n",
       "1         2911  You Work Days I Work Nights        0.29    0.108696      2   \n",
       "2          485                         Sera        0.44    0.336957      1   \n",
       "3         1268              Big Shit Poppin        0.69    0.206522      1   \n",
       "4         1525          No La Voy A Engañar        0.74    0.586957      1   \n",
       "\n",
       "                track_uri              artist_uri  year  \n",
       "0  6JKj9seJCshLVCfBLFp7dS  55RI2GNCfyXr0f14uIdhwd  2017  \n",
       "1  7L7u4PrNt5WMtVI9lHWlLm  6k3UpifDbb2ox25edM5j3P  2012  \n",
       "2  12EyOqMPMyAKlKSynICAGN  2qhLqZ1pkiUl5HNrU2Nz0R  2007  \n",
       "3  3tCDjKseLQJhShfbeg4m7K  4yBK75WVCQXej1p04GWqxH  2007  \n",
       "4  0UICwSsSpUt98XkeCfupFn  5bSfBBCxY8QAk4Pifveisz  2012  "
      ]
     },
     "execution_count": 15,
     "metadata": {},
     "output_type": "execute_result"
    }
   ],
   "source": [
    "df.head()"
   ]
  },
  {
   "cell_type": "code",
   "execution_count": 16,
   "metadata": {},
   "outputs": [],
   "source": [
    "from sklearn.cluster import DBSCAN, HDBSCAN, OPTICS\n",
    "# from sklearn.preprocessing import StandardScaler"
   ]
  },
  {
   "cell_type": "code",
   "execution_count": 17,
   "metadata": {},
   "outputs": [
    {
     "data": {
      "text/html": [
       "<div>\n",
       "<style scoped>\n",
       "    .dataframe tbody tr th:only-of-type {\n",
       "        vertical-align: middle;\n",
       "    }\n",
       "\n",
       "    .dataframe tbody tr th {\n",
       "        vertical-align: top;\n",
       "    }\n",
       "\n",
       "    .dataframe thead th {\n",
       "        text-align: right;\n",
       "    }\n",
       "</style>\n",
       "<table border=\"1\" class=\"dataframe\">\n",
       "  <thead>\n",
       "    <tr style=\"text-align: right;\">\n",
       "      <th></th>\n",
       "      <th>artist_pop</th>\n",
       "      <th>popularity</th>\n",
       "      <th>year</th>\n",
       "      <th>genre</th>\n",
       "      <th>artist_name</th>\n",
       "    </tr>\n",
       "  </thead>\n",
       "  <tbody>\n",
       "    <tr>\n",
       "      <th>0</th>\n",
       "      <td>0.37</td>\n",
       "      <td>0.000000</td>\n",
       "      <td>2017</td>\n",
       "      <td>1</td>\n",
       "      <td>34</td>\n",
       "    </tr>\n",
       "    <tr>\n",
       "      <th>1</th>\n",
       "      <td>0.29</td>\n",
       "      <td>0.108696</td>\n",
       "      <td>2012</td>\n",
       "      <td>2</td>\n",
       "      <td>2911</td>\n",
       "    </tr>\n",
       "    <tr>\n",
       "      <th>2</th>\n",
       "      <td>0.44</td>\n",
       "      <td>0.336957</td>\n",
       "      <td>2007</td>\n",
       "      <td>1</td>\n",
       "      <td>485</td>\n",
       "    </tr>\n",
       "    <tr>\n",
       "      <th>3</th>\n",
       "      <td>0.69</td>\n",
       "      <td>0.206522</td>\n",
       "      <td>2007</td>\n",
       "      <td>1</td>\n",
       "      <td>1268</td>\n",
       "    </tr>\n",
       "    <tr>\n",
       "      <th>4</th>\n",
       "      <td>0.74</td>\n",
       "      <td>0.586957</td>\n",
       "      <td>2012</td>\n",
       "      <td>1</td>\n",
       "      <td>1525</td>\n",
       "    </tr>\n",
       "  </tbody>\n",
       "</table>\n",
       "</div>"
      ],
      "text/plain": [
       "   artist_pop  popularity  year  genre  artist_name\n",
       "0        0.37    0.000000  2017      1           34\n",
       "1        0.29    0.108696  2012      2         2911\n",
       "2        0.44    0.336957  2007      1          485\n",
       "3        0.69    0.206522  2007      1         1268\n",
       "4        0.74    0.586957  2012      1         1525"
      ]
     },
     "execution_count": 17,
     "metadata": {},
     "output_type": "execute_result"
    }
   ],
   "source": [
    "features_for_clustering = ['artist_pop', 'popularity', 'year', 'genre', 'artist_name']\n",
    "weights= {'artist_pop': 1, 'popularity': 2, 'year': 3, 'genre': 4, 'artist_name': 1}\n",
    "\n",
    "df[features_for_clustering].head()"
   ]
  },
  {
   "cell_type": "code",
   "execution_count": 18,
   "metadata": {},
   "outputs": [],
   "source": [
    "df['artist_pop'] = df['artist_pop']*weights['artist_pop']\n",
    "df['popularity'] = df['popularity']*weights['popularity']\n",
    "df['year'] = df['year']*weights['year']"
   ]
  },
  {
   "cell_type": "code",
   "execution_count": 19,
   "metadata": {},
   "outputs": [],
   "source": [
    "from scipy.spatial.distance import hamming\n",
    "\n",
    "def weighted_distance(x, y):\n",
    "    num_dist = np.sqrt(\n",
    "        weights['artist_pop'] * (x[0] - y[0])**2 +\n",
    "        weights['popularity'] * (x[1] - y[1])**2 +\n",
    "        weights['year'] * (x[2] - y[2])**2\n",
    "    )\n",
    "    # year_dist = hamming(x[2], y[2])\n",
    "    genre_dist = hamming(x[3], y[3])\n",
    "    artist_dist = hamming(x[4], y[4])\n",
    "    # genre_dist = np.count_nonzero(x[3], y[3])/len(x[3])\n",
    "    # artist_dist = np.count_nonzero(x[4], y[4])/len(x[4])\n",
    "    cat_dist = weights['genre']*genre_dist + weights['artist_name']*artist_dist\n",
    "    \n",
    "    # return num_dist  + weights['genre']*genre_dist + weights['artist_name']*artist_dist\n",
    "    return num_dist + cat_dist\n"
   ]
  },
  {
   "cell_type": "code",
   "execution_count": 20,
   "metadata": {},
   "outputs": [],
   "source": [
    "# Initialize DBSCAN\n",
    "dbscan = DBSCAN(eps=0.3, min_samples=2, n_jobs=-1)  # Adjust eps and min_samples as per your data\n",
    "hdbscan=HDBSCAN(min_cluster_size=3, metric=weighted_distance, n_jobs=-1)"
   ]
  },
  {
   "cell_type": "code",
   "execution_count": 21,
   "metadata": {},
   "outputs": [],
   "source": [
    "# Fit DBSCAN clustering\n",
    "clusters = dbscan.fit_predict(df[features_for_clustering])\n"
   ]
  },
  {
   "cell_type": "code",
   "execution_count": 22,
   "metadata": {},
   "outputs": [],
   "source": [
    "hclusters=hdbscan.fit_predict(df[features_for_clustering])"
   ]
  },
  {
   "cell_type": "code",
   "execution_count": 23,
   "metadata": {},
   "outputs": [],
   "source": [
    "# Add cluster labels to dataframe\n",
    "df['cluster'] = clusters\n",
    "df['hcluster'] = hclusters"
   ]
  },
  {
   "cell_type": "code",
   "execution_count": 24,
   "metadata": {},
   "outputs": [],
   "source": [
    "import matplotlib.pyplot as plt\n",
    "\n",
    "def plotClusters(col,algoName):\n",
    "    for idx,i in enumerate(features_for_clustering):\n",
    "        for j in features_for_clustering[idx+1:]:\n",
    "            if i==j:\n",
    "                continue\n",
    "            plt.figure(figsize=(6, 4))\n",
    "            plt.scatter(df[i], df[j], c=df[col], cmap='viridis', marker='o', alpha=0.8)\n",
    "            plt.xlabel(i)\n",
    "            plt.ylabel(j)\n",
    "            plt.title(f'{algoName} Clustering') \n",
    "            plt.colorbar(label='Cluster')\n",
    "            plt.grid(True) \n",
    "            plt.show() \n"
   ]
  },
  {
   "cell_type": "code",
   "execution_count": 25,
   "metadata": {},
   "outputs": [],
   "source": [
    "# plotClusters('cluster','DBSCAN')"
   ]
  },
  {
   "cell_type": "code",
   "execution_count": 26,
   "metadata": {},
   "outputs": [
    {
     "name": "stdout",
     "output_type": "stream",
     "text": [
      "Centroid values:\n",
      "         artist_pop  popularity         year     genre  artist_name\n",
      "cluster                                                            \n",
      "-1         0.530699    0.544594  6025.203849  1.694227  1519.355904\n",
      " 0         0.690000    0.434783  6021.000000  1.000000  1268.000000\n",
      " 1         0.740000    0.891304  6045.000000  1.000000  2227.000000\n",
      " 2         0.680000    1.000000  5976.000000  1.000000  2466.000000\n",
      " 3         0.700000    0.793478  6045.000000  1.000000  1016.000000\n",
      "...             ...         ...          ...       ...          ...\n",
      " 349       0.700000    0.880435  6012.000000  1.000000  1016.000000\n",
      " 350       0.820000    0.010870  6039.000000  1.000000  1204.000000\n",
      " 351       0.700000    0.000000  6027.000000  0.000000   867.000000\n",
      " 352       0.790000    0.706522  6051.000000  1.000000  2816.000000\n",
      " 353       0.330000    0.641304  5976.000000  1.000000  1564.000000\n",
      "\n",
      "[355 rows x 5 columns]\n"
     ]
    }
   ],
   "source": [
    "# Calculate centroid values\n",
    "centroid_values = df.groupby('cluster')[features_for_clustering].mean()\n",
    "\n",
    "print(\"Centroid values:\")\n",
    "print(centroid_values)"
   ]
  },
  {
   "cell_type": "code",
   "execution_count": 27,
   "metadata": {},
   "outputs": [],
   "source": [
    "# plotClusters('hcluster','HDBSCAN')"
   ]
  },
  {
   "cell_type": "code",
   "execution_count": 28,
   "metadata": {},
   "outputs": [
    {
     "name": "stdout",
     "output_type": "stream",
     "text": [
      "Centroid values:\n",
      "          artist_pop  popularity    year     genre  artist_name\n",
      "hcluster                                                       \n",
      "-1          0.559392    0.702422  6031.2  1.422785  1543.739241\n",
      " 0          0.470000    0.000000  5700.0  3.000000  2671.000000\n",
      " 1          0.706667    0.224638  5898.0  5.000000  2045.666667\n",
      " 2          0.540714    0.816770  5952.0  1.428571  2041.785714\n",
      " 3          0.716667    1.115942  5949.0  0.000000  1332.333333\n",
      "...              ...         ...     ...       ...          ...\n",
      " 491        0.770000    0.755435  6048.0  1.000000  1589.000000\n",
      " 492        0.690000    0.934783  6048.0  1.000000  1583.333333\n",
      " 493        0.711111    0.917874  6048.0  1.000000  2084.444444\n",
      " 494        0.540000    0.094203  6048.0  1.000000  1825.500000\n",
      " 495        0.550000    0.000000  6048.0  1.000000   938.000000\n",
      "\n",
      "[497 rows x 5 columns]\n"
     ]
    }
   ],
   "source": [
    "centroid_values = df.groupby('hcluster')[features_for_clustering].mean()\n",
    "\n",
    "print(\"Centroid values:\")\n",
    "print(centroid_values)"
   ]
  },
  {
   "cell_type": "code",
   "execution_count": 29,
   "metadata": {},
   "outputs": [
    {
     "name": "stdout",
     "output_type": "stream",
     "text": [
      "Number of clusters formed: 354\n"
     ]
    }
   ],
   "source": [
    "# Count the number of clusters formed\n",
    "num_clusters = len(set(clusters)) - (1 if -1 in clusters else 0)  # Exclude noise points if present (-1 indicates noise)\n",
    "print(\"Number of clusters formed:\", num_clusters)"
   ]
  },
  {
   "cell_type": "code",
   "execution_count": 30,
   "metadata": {},
   "outputs": [
    {
     "name": "stdout",
     "output_type": "stream",
     "text": [
      "Number of clusters formed: 496\n"
     ]
    }
   ],
   "source": [
    "num_clusters = len(set(hclusters)) - (1 if -1 in hclusters else 0)  # Exclude noise points if present (-1 indicates noise)\n",
    "print(\"Number of clusters formed:\", num_clusters)"
   ]
  },
  {
   "cell_type": "markdown",
   "metadata": {},
   "source": [
    "Hierarchical clustering:"
   ]
  },
  {
   "cell_type": "code",
   "execution_count": 31,
   "metadata": {},
   "outputs": [],
   "source": [
    "from sklearn.cluster import AgglomerativeClustering"
   ]
  },
  {
   "cell_type": "code",
   "execution_count": 32,
   "metadata": {},
   "outputs": [
    {
     "name": "stderr",
     "output_type": "stream",
     "text": [
      "c:\\Users\\Yuval\\AppData\\Local\\Programs\\Python\\Python39\\lib\\site-packages\\sklearn\\cluster\\_agglomerative.py:1006: FutureWarning: Attribute `affinity` was deprecated in version 1.2 and will be removed in 1.4. Use `metric` instead\n",
      "  warnings.warn(\n"
     ]
    }
   ],
   "source": [
    "# Hierarchical clustering\n",
    "hc = AgglomerativeClustering(n_clusters=3, affinity='euclidean', linkage='ward')\n",
    "hierarhical_clusters = hc.fit_predict(df[features_for_clustering])"
   ]
  },
  {
   "cell_type": "code",
   "execution_count": 33,
   "metadata": {},
   "outputs": [],
   "source": [
    "#Add cluster labels to dataframe\n",
    "df['hierarchical_cluster'] = hierarhical_clusters"
   ]
  },
  {
   "cell_type": "code",
   "execution_count": 34,
   "metadata": {},
   "outputs": [],
   "source": [
    "# Visualize clusters\n",
    "# plt.figure(figsize=(8, 6))\n",
    "# plt.scatter(df['year'], df['popularity'], c=df['hierarchical_cluster'], cmap='viridis', marker='o', alpha=0.8)\n",
    "# plt.xlabel('Year')\n",
    "# plt.ylabel('Track Popularity')\n",
    "# plt.title('Hierarchical Clustering')\n",
    "# plt.colorbar(label='Cluster')\n",
    "# plt.grid(True)\n",
    "# plt.show()\n",
    "\n",
    "# plotClusters('hierarchical_cluster','Hierarchical')"
   ]
  },
  {
   "cell_type": "code",
   "execution_count": 35,
   "metadata": {},
   "outputs": [
    {
     "name": "stdout",
     "output_type": "stream",
     "text": [
      "Number of clusters formed by hierarchical clustering: 3\n"
     ]
    }
   ],
   "source": [
    "# Count the number of clusters formed\n",
    "num_clusters_hc = len(set(hierarhical_clusters))\n",
    "print(\"Number of clusters formed by hierarchical clustering:\", num_clusters_hc)"
   ]
  },
  {
   "cell_type": "code",
   "execution_count": 36,
   "metadata": {},
   "outputs": [],
   "source": [
    "optics=OPTICS(min_samples=3)"
   ]
  },
  {
   "cell_type": "code",
   "execution_count": 37,
   "metadata": {},
   "outputs": [
    {
     "name": "stderr",
     "output_type": "stream",
     "text": [
      "c:\\Users\\Yuval\\AppData\\Local\\Programs\\Python\\Python39\\lib\\site-packages\\sklearn\\cluster\\_optics.py:995: RuntimeWarning: divide by zero encountered in divide\n",
      "  ratio = reachability_plot[:-1] / reachability_plot[1:]\n"
     ]
    }
   ],
   "source": [
    "optics_clusters=optics.fit_predict(df[features_for_clustering])"
   ]
  },
  {
   "cell_type": "code",
   "execution_count": 38,
   "metadata": {},
   "outputs": [],
   "source": [
    "df['ocluster'] = optics_clusters\n"
   ]
  },
  {
   "cell_type": "code",
   "execution_count": 39,
   "metadata": {},
   "outputs": [],
   "source": [
    "# plotClusters('ocluster','OPTICS')"
   ]
  },
  {
   "cell_type": "code",
   "execution_count": 40,
   "metadata": {},
   "outputs": [
    {
     "name": "stdout",
     "output_type": "stream",
     "text": [
      "Number of clusters formed by OPTICS: 693\n"
     ]
    }
   ],
   "source": [
    "# Count the number of clusters formed\n",
    "num_clusters_optics = len(set(optics_clusters)) - (1 if -1 in optics_clusters else 0)  # Exclude noise points if present (-1 indicates noise)\n",
    "print(\"Number of clusters formed by OPTICS:\", num_clusters_optics)"
   ]
  },
  {
   "cell_type": "code",
   "execution_count": 41,
   "metadata": {},
   "outputs": [
    {
     "name": "stdout",
     "output_type": "stream",
     "text": [
      "Centroid values:\n",
      "          artist_pop  popularity         year     genre  artist_name\n",
      "ocluster                                                            \n",
      "-1          0.531016    0.534642  6026.006452  2.138710  1503.563441\n",
      " 0          0.676667    0.949275  6048.000000  1.000000    36.333333\n",
      " 1          0.800000    1.347826  6045.000000  1.000000    38.000000\n",
      " 2          0.623333    0.949275  6049.000000  1.000000    27.666667\n",
      " 3          0.770000    1.057971  6045.000000  0.666667    20.333333\n",
      "...              ...         ...          ...       ...          ...\n",
      " 688        0.637500    0.907609  5904.000000  1.000000  2347.500000\n",
      " 689        0.567143    0.282609  5892.000000  1.000000   868.857143\n",
      " 690        0.740000    0.829193  5913.857143  1.857143  1558.000000\n",
      " 691        0.463333    1.152174  5895.000000  3.000000  1611.333333\n",
      " 692        0.470000    0.000000  5700.000000  3.000000  2671.000000\n",
      "\n",
      "[694 rows x 5 columns]\n"
     ]
    }
   ],
   "source": [
    "# Calculate centroid values\n",
    "centroid_values = df.groupby('ocluster')[features_for_clustering].mean()\n",
    "\n",
    "print(\"Centroid values:\")\n",
    "print(centroid_values)"
   ]
  },
  {
   "cell_type": "code",
   "execution_count": 42,
   "metadata": {},
   "outputs": [],
   "source": [
    "from sklearn.metrics import silhouette_score, davies_bouldin_score, calinski_harabasz_score, adjusted_rand_score, homogeneity_score, completeness_score, v_measure_score\n",
    "\n",
    "algoNames=['DBSCAN','HDBSCAN','Hierarchical','OPTICS']\n",
    "cols=['Silhouette Score', 'Davies Bouldin Score', 'Calinski Harabasz Score' ] #, 'Adjusted Rand Score', 'Homogeneity Score', 'Completeness Score', 'V Measure Score'\n",
    " \n",
    "results = pd.DataFrame(columns=cols, index=algoNames)\n",
    "\n",
    "def evalClusteringAlgo(algoName,clusters,features=features_for_clustering):\n",
    "    silhouette = silhouette_score(df[features], clusters)\n",
    "    davies_bouldin = davies_bouldin_score(df[features], clusters)\n",
    "    calinski_harabasz = calinski_harabasz_score(df[features], clusters)\n",
    "    # adjusted_rand = adjusted_rand_score(df['genre'], clusters)\n",
    "    # homogeneity = homogeneity_score(df['genre'], clusters)\n",
    "    # completeness = completeness_score(df['genre'], clusters)\n",
    "    # v_measure = v_measure_score(df['genre'], clusters)\n",
    "    results.loc[algoName] = [silhouette, davies_bouldin, calinski_harabasz] #, adjusted_rand, homogeneity, completeness, v_measure]\n",
    "    \n",
    "    "
   ]
  },
  {
   "cell_type": "code",
   "execution_count": 43,
   "metadata": {},
   "outputs": [
    {
     "data": {
      "text/html": [
       "<div>\n",
       "<style scoped>\n",
       "    .dataframe tbody tr th:only-of-type {\n",
       "        vertical-align: middle;\n",
       "    }\n",
       "\n",
       "    .dataframe tbody tr th {\n",
       "        vertical-align: top;\n",
       "    }\n",
       "\n",
       "    .dataframe thead th {\n",
       "        text-align: right;\n",
       "    }\n",
       "</style>\n",
       "<table border=\"1\" class=\"dataframe\">\n",
       "  <thead>\n",
       "    <tr style=\"text-align: right;\">\n",
       "      <th></th>\n",
       "      <th>Silhouette Score</th>\n",
       "      <th>Davies Bouldin Score</th>\n",
       "      <th>Calinski Harabasz Score</th>\n",
       "    </tr>\n",
       "  </thead>\n",
       "  <tbody>\n",
       "    <tr>\n",
       "      <th>DBSCAN</th>\n",
       "      <td>-0.66501</td>\n",
       "      <td>2.859046</td>\n",
       "      <td>2.344913</td>\n",
       "    </tr>\n",
       "    <tr>\n",
       "      <th>HDBSCAN</th>\n",
       "      <td>-0.880222</td>\n",
       "      <td>241.881021</td>\n",
       "      <td>1.556707</td>\n",
       "    </tr>\n",
       "    <tr>\n",
       "      <th>Hierarchical</th>\n",
       "      <td>0.56605</td>\n",
       "      <td>0.497496</td>\n",
       "      <td>17123.231928</td>\n",
       "    </tr>\n",
       "    <tr>\n",
       "      <th>OPTICS</th>\n",
       "      <td>-0.006493</td>\n",
       "      <td>2.573982</td>\n",
       "      <td>11.671417</td>\n",
       "    </tr>\n",
       "  </tbody>\n",
       "</table>\n",
       "</div>"
      ],
      "text/plain": [
       "             Silhouette Score Davies Bouldin Score Calinski Harabasz Score\n",
       "DBSCAN               -0.66501             2.859046                2.344913\n",
       "HDBSCAN             -0.880222           241.881021                1.556707\n",
       "Hierarchical          0.56605             0.497496            17123.231928\n",
       "OPTICS              -0.006493             2.573982               11.671417"
      ]
     },
     "execution_count": 43,
     "metadata": {},
     "output_type": "execute_result"
    }
   ],
   "source": [
    "evalClusteringAlgo('DBSCAN',clusters)\n",
    "evalClusteringAlgo('HDBSCAN',hclusters)\n",
    "evalClusteringAlgo('Hierarchical',hierarhical_clusters) \n",
    "evalClusteringAlgo('OPTICS',optics_clusters)\n",
    "\n",
    "results.head()"
   ]
  },
  {
   "cell_type": "code",
   "execution_count": 44,
   "metadata": {},
   "outputs": [
    {
     "name": "stdout",
     "output_type": "stream",
     "text": [
      "Silhouette score for DBSCAN: -0.6650097292247373\n",
      "Silhouette score for hierarchical clustering: 0.5660496753254635\n",
      "Silhouette score for HDBSCAN: -0.8802222044910336\n",
      "Silhouette score for OPTICS: -0.006492933416917398\n"
     ]
    }
   ],
   "source": [
    "from sklearn.metrics import silhouette_score\n",
    "\n",
    "# Calculate silhouette score for DBSCAN\n",
    "silhouette_score_dbscan = silhouette_score(df[features_for_clustering], clusters)\n",
    "\n",
    "# Calculate silhouette score for hierarchical clustering\n",
    "silhouette_score_hc = silhouette_score(df[features_for_clustering], df['hierarchical_cluster'])\n",
    "\n",
    "silhouette_score_hdbscan = silhouette_score(df[features_for_clustering], hclusters)\n",
    "\n",
    "silhouette_score_optics = silhouette_score(df[features_for_clustering], optics_clusters)\n",
    "\n",
    "print(\"Silhouette score for DBSCAN:\", silhouette_score_dbscan)\n",
    "print(\"Silhouette score for hierarchical clustering:\", silhouette_score_hc)\n",
    "print(\"Silhouette score for HDBSCAN:\", silhouette_score_hdbscan)\n",
    "print(\"Silhouette score for OPTICS:\", silhouette_score_optics)"
   ]
  }
 ],
 "metadata": {
  "kernelspec": {
   "display_name": "Python 3",
   "language": "python",
   "name": "python3"
  },
  "language_info": {
   "codemirror_mode": {
    "name": "ipython",
    "version": 3
   },
   "file_extension": ".py",
   "mimetype": "text/x-python",
   "name": "python",
   "nbconvert_exporter": "python",
   "pygments_lexer": "ipython3",
   "version": "3.9.13"
  }
 },
 "nbformat": 4,
 "nbformat_minor": 2
}
