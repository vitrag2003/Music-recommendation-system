{
 "cells": [
  {
   "cell_type": "code",
   "execution_count": 1,
   "metadata": {},
   "outputs": [],
   "source": [
    "import pandas as pd\n",
    "import numpy as np"
   ]
  },
  {
   "cell_type": "code",
   "execution_count": 2,
   "metadata": {},
   "outputs": [],
   "source": [
    "df=pd.read_csv('../Data/1M_unique_processed_data.csv')"
   ]
  },
  {
   "cell_type": "code",
   "execution_count": 3,
   "metadata": {},
   "outputs": [
    {
     "data": {
      "text/html": [
       "<div>\n",
       "<style scoped>\n",
       "    .dataframe tbody tr th:only-of-type {\n",
       "        vertical-align: middle;\n",
       "    }\n",
       "\n",
       "    .dataframe tbody tr th {\n",
       "        vertical-align: top;\n",
       "    }\n",
       "\n",
       "    .dataframe thead th {\n",
       "        text-align: right;\n",
       "    }\n",
       "</style>\n",
       "<table border=\"1\" class=\"dataframe\">\n",
       "  <thead>\n",
       "    <tr style=\"text-align: right;\">\n",
       "      <th></th>\n",
       "      <th>artist_name</th>\n",
       "      <th>track_uri</th>\n",
       "      <th>artist_uri</th>\n",
       "      <th>track_name</th>\n",
       "      <th>album_uri</th>\n",
       "      <th>track_duration_ms</th>\n",
       "      <th>album_name</th>\n",
       "    </tr>\n",
       "  </thead>\n",
       "  <tbody>\n",
       "    <tr>\n",
       "      <th>0</th>\n",
       "      <td>AronChupa</td>\n",
       "      <td>66U0ASk1VHZsqIkpMjKX3B</td>\n",
       "      <td>5vCOdeiQt9LyzdI87kt5Sh</td>\n",
       "      <td>Little Swing</td>\n",
       "      <td>spotify:album:4S5MLjwRSi0NJ5nikflYnZ</td>\n",
       "      <td>163809</td>\n",
       "      <td>Little Swing</td>\n",
       "    </tr>\n",
       "    <tr>\n",
       "      <th>1</th>\n",
       "      <td>AronChupa</td>\n",
       "      <td>66U0ASk1VHZsqIkpMjKX3B</td>\n",
       "      <td>5vCOdeiQt9LyzdI87kt5Sh</td>\n",
       "      <td>Little Swing</td>\n",
       "      <td>spotify:album:4S5MLjwRSi0NJ5nikflYnZ</td>\n",
       "      <td>163809</td>\n",
       "      <td>Little Swing</td>\n",
       "    </tr>\n",
       "    <tr>\n",
       "      <th>2</th>\n",
       "      <td>AronChupa</td>\n",
       "      <td>5MhsZlmKJG6X5kTHkdwC4B</td>\n",
       "      <td>5vCOdeiQt9LyzdI87kt5Sh</td>\n",
       "      <td>I'm an Albatraoz</td>\n",
       "      <td>spotify:album:1qHVYbxQ6IS8YRviorKDJI</td>\n",
       "      <td>166848</td>\n",
       "      <td>I'm an Albatraoz</td>\n",
       "    </tr>\n",
       "    <tr>\n",
       "      <th>3</th>\n",
       "      <td>AronChupa</td>\n",
       "      <td>5MhsZlmKJG6X5kTHkdwC4B</td>\n",
       "      <td>5vCOdeiQt9LyzdI87kt5Sh</td>\n",
       "      <td>I'm an Albatraoz</td>\n",
       "      <td>spotify:album:1qHVYbxQ6IS8YRviorKDJI</td>\n",
       "      <td>166848</td>\n",
       "      <td>I'm an Albatraoz</td>\n",
       "    </tr>\n",
       "    <tr>\n",
       "      <th>4</th>\n",
       "      <td>AronChupa</td>\n",
       "      <td>5MhsZlmKJG6X5kTHkdwC4B</td>\n",
       "      <td>5vCOdeiQt9LyzdI87kt5Sh</td>\n",
       "      <td>I'm an Albatraoz</td>\n",
       "      <td>spotify:album:1qHVYbxQ6IS8YRviorKDJI</td>\n",
       "      <td>166848</td>\n",
       "      <td>I'm an Albatraoz</td>\n",
       "    </tr>\n",
       "  </tbody>\n",
       "</table>\n",
       "</div>"
      ],
      "text/plain": [
       "  artist_name               track_uri              artist_uri  \\\n",
       "0   AronChupa  66U0ASk1VHZsqIkpMjKX3B  5vCOdeiQt9LyzdI87kt5Sh   \n",
       "1   AronChupa  66U0ASk1VHZsqIkpMjKX3B  5vCOdeiQt9LyzdI87kt5Sh   \n",
       "2   AronChupa  5MhsZlmKJG6X5kTHkdwC4B  5vCOdeiQt9LyzdI87kt5Sh   \n",
       "3   AronChupa  5MhsZlmKJG6X5kTHkdwC4B  5vCOdeiQt9LyzdI87kt5Sh   \n",
       "4   AronChupa  5MhsZlmKJG6X5kTHkdwC4B  5vCOdeiQt9LyzdI87kt5Sh   \n",
       "\n",
       "         track_name                             album_uri  track_duration_ms  \\\n",
       "0      Little Swing  spotify:album:4S5MLjwRSi0NJ5nikflYnZ             163809   \n",
       "1      Little Swing  spotify:album:4S5MLjwRSi0NJ5nikflYnZ             163809   \n",
       "2  I'm an Albatraoz  spotify:album:1qHVYbxQ6IS8YRviorKDJI             166848   \n",
       "3  I'm an Albatraoz  spotify:album:1qHVYbxQ6IS8YRviorKDJI             166848   \n",
       "4  I'm an Albatraoz  spotify:album:1qHVYbxQ6IS8YRviorKDJI             166848   \n",
       "\n",
       "         album_name  \n",
       "0      Little Swing  \n",
       "1      Little Swing  \n",
       "2  I'm an Albatraoz  \n",
       "3  I'm an Albatraoz  \n",
       "4  I'm an Albatraoz  "
      ]
     },
     "execution_count": 3,
     "metadata": {},
     "output_type": "execute_result"
    }
   ],
   "source": [
    "df.head()"
   ]
  },
  {
   "cell_type": "code",
   "execution_count": 4,
   "metadata": {},
   "outputs": [],
   "source": [
    "df.drop_duplicates(inplace=True)"
   ]
  },
  {
   "cell_type": "code",
   "execution_count": 5,
   "metadata": {},
   "outputs": [],
   "source": [
    "df.reset_index(drop=True, inplace=True)"
   ]
  },
  {
   "cell_type": "code",
   "execution_count": 6,
   "metadata": {},
   "outputs": [
    {
     "data": {
      "text/plain": [
       "<bound method DataFrame.drop of                 artist_name               track_uri              artist_uri  \\\n",
       "0                 AronChupa  66U0ASk1VHZsqIkpMjKX3B  5vCOdeiQt9LyzdI87kt5Sh   \n",
       "1                 AronChupa  5MhsZlmKJG6X5kTHkdwC4B  5vCOdeiQt9LyzdI87kt5Sh   \n",
       "2                 AronChupa  3MBwTrIg7HrNXSFVQ5rj41  5vCOdeiQt9LyzdI87kt5Sh   \n",
       "3                     Lorde  0GZoB8h0kqXn7XFm4Sj06k  163tK9Wjr9P9DmM0AVK7lm   \n",
       "4                     Lorde  35kahykNu00FPysz3C2euR  163tK9Wjr9P9DmM0AVK7lm   \n",
       "...                     ...                     ...                     ...   \n",
       "66238        Jordan Comolli  4En9CdcGz7zDay9thG0oUi  0OirGRY55NlQeqOHKhvpbm   \n",
       "66239                 Teams  5fgZv37iE8pDNOcmQRvhFL  6Ju8rLVGq0MMt0NaXyfLJJ   \n",
       "66240  The Royal Movie Band  3p5vcN5Q9JawdzBbh5ceVr  1YMADOVqFTlVjZwbCOSp6c   \n",
       "66241          Alice Deejay  1cKRBp7hrBVD4eP3W9x2AI  0aNCjE72yyrhKQB1qfPBpi   \n",
       "66242         Ashley DuBose  4InLm5a9Qtkru6YxEjM4Qc  2Y9lO01ABSO8OkBU8FI1mp   \n",
       "\n",
       "                                              track_name  \\\n",
       "0                                           Little Swing   \n",
       "1                                       I'm an Albatraoz   \n",
       "2                                              Bad Water   \n",
       "3      Yellow Flicker Beat - From The Hunger Games: M...   \n",
       "4                                      White Teeth Teens   \n",
       "...                                                  ...   \n",
       "66238                                             Enigma   \n",
       "66239                                             Stunts   \n",
       "66240                                            Starman   \n",
       "66241                  Better Off Alone - Vocal Club RMX   \n",
       "66242                                        Intoxicated   \n",
       "\n",
       "                                  album_uri  track_duration_ms  \\\n",
       "0      spotify:album:4S5MLjwRSi0NJ5nikflYnZ             163809   \n",
       "1      spotify:album:1qHVYbxQ6IS8YRviorKDJI             166848   \n",
       "2      spotify:album:0ro0zmdWrwlLcPrZPAWmPo             210000   \n",
       "3      spotify:album:4UEPxQx0cTcYNsE0n32MHV             232506   \n",
       "4      spotify:album:0rmhjUgoVa17LZuS8xWQ3v             216600   \n",
       "...                                     ...                ...   \n",
       "66238  spotify:album:0NVNOlUlltRY3U2hW3TUgb             187569   \n",
       "66239  spotify:album:2iamNHiA06vFxbTk1mgc1d             326373   \n",
       "66240  spotify:album:63Ayga8d1117BO6ECavJgA             223173   \n",
       "66241  spotify:album:4Bbi9dcZgtJiJqEkiclbpK             412426   \n",
       "66242  spotify:album:5NjFyeZJkYAh5ri9eh8ZSO             279322   \n",
       "\n",
       "                     album_name  \n",
       "0                  Little Swing  \n",
       "1              I'm an Albatraoz  \n",
       "2                     Bad Water  \n",
       "3           Yellow Flicker Beat  \n",
       "4                  Pure Heroine  \n",
       "...                         ...  \n",
       "66238                    Enigma  \n",
       "66239                  Dxys Xff  \n",
       "66240  Peliculas De Cine Vol. 2  \n",
       "66241          Better Off Alone  \n",
       "66242                    Be You  \n",
       "\n",
       "[66243 rows x 7 columns]>"
      ]
     },
     "execution_count": 6,
     "metadata": {},
     "output_type": "execute_result"
    }
   ],
   "source": [
    "df.drop"
   ]
  },
  {
   "cell_type": "code",
   "execution_count": 7,
   "metadata": {},
   "outputs": [],
   "source": [
    "import spotipy\n",
    "from spotipy.oauth2 import SpotifyClientCredentials\n",
    "from spotipy.client import SpotifyException"
   ]
  },
  {
   "cell_type": "code",
   "execution_count": 8,
   "metadata": {},
   "outputs": [],
   "source": [
    "def get_track_info_from_spotify_url(spotify_url):\n",
    "    # Replace 'YOUR_CLIENT_ID' and 'YOUR_CLIENT_SECRET' with your Spotify API credentials\n",
    "    client_id = '50beacb0249f4571ab26da522c0fba5b'\n",
    "    client_secret = '9db120d4abec4c1fa0fb3c5ffe53ed92'\n",
    "\n",
    "    # Set up the Spotify API client\n",
    "    client_credentials_manager = SpotifyClientCredentials(client_id=client_id, client_secret=client_secret)\n",
    "    sp = spotipy.Spotify(client_credentials_manager=client_credentials_manager,requests_timeout=1000)\n",
    "\n",
    "    try:\n",
    "        # Extract the track ID from the Spotify URL\n",
    "        track_id = spotify_url.split('/')[-1]\n",
    "\n",
    "        # Get track information using the Spotify API\n",
    "        track_info = sp.track(track_id)\n",
    "\n",
    "        # Extract and return the track name\n",
    "        track_name = track_info['name']\n",
    "\n",
    "        artist_id = track_info['artists'][0]['id']\n",
    "        artist_info = sp.artist(artist_id)\n",
    "        \n",
    "\n",
    "        return track_info,track_name,artist_info\n",
    "        \n",
    "\n",
    "    except SpotifyException as e:\n",
    "        print(f\"SpotifyException: {e}\")\n",
    "        return None"
   ]
  },
  {
   "cell_type": "code",
   "execution_count": 9,
   "metadata": {},
   "outputs": [],
   "source": [
    "def convert_uri_to_url(spotify_uri):\n",
    "    # Example: spotify:album:73TNMu44lT0m1h1Nn6Bfiq\n",
    "    uri_parts = spotify_uri.split(':')\n",
    "    if len(uri_parts) == 3:\n",
    "        uri_type, uri_id = uri_parts[1], uri_parts[2]\n",
    "        return f'https://open.spotify.com/{uri_type}/{uri_id}'\n",
    "    else:\n",
    "        return None"
   ]
  },
  {
   "cell_type": "code",
   "execution_count": 10,
   "metadata": {},
   "outputs": [],
   "source": [
    "def get_track_info_from_spotify_uri(spotify_uri):\n",
    "    spotify_url = convert_uri_to_url(spotify_uri)\n",
    "    \n",
    "    if spotify_url is not None:\n",
    "        return get_track_info_from_spotify_url(spotify_url)\n",
    "    else:\n",
    "        print(\"Invalid Spotify URI format.\")\n",
    "        return None"
   ]
  },
  {
   "cell_type": "code",
   "execution_count": 11,
   "metadata": {},
   "outputs": [
    {
     "data": {
      "text/plain": [
       "str"
      ]
     },
     "execution_count": 11,
     "metadata": {},
     "output_type": "execute_result"
    }
   ],
   "source": [
    "spotify_uri = 'spotify:track:66U0ASk1VHZsqIkpMjKX3B'\n",
    "track_info,track_name,artist_info = get_track_info_from_spotify_uri(spotify_uri)\n",
    "type(spotify_uri)"
   ]
  },
  {
   "cell_type": "code",
   "execution_count": 12,
   "metadata": {},
   "outputs": [
    {
     "data": {
      "text/plain": [
       "str"
      ]
     },
     "execution_count": 12,
     "metadata": {},
     "output_type": "execute_result"
    }
   ],
   "source": [
    "spotify_uri = 'spotify:track:66U0ASk1VHZsqIkpMjKX3B'\n",
    "current_track_id = convert_uri_to_url(spotify_uri)\n",
    "type(current_track_id)"
   ]
  },
  {
   "cell_type": "code",
   "execution_count": 13,
   "metadata": {},
   "outputs": [
    {
     "name": "stdout",
     "output_type": "stream",
     "text": [
      "Track Name: Little Swing\n",
      "Artist: AronChupa\n",
      "Artist Genres: swedish pop\n"
     ]
    }
   ],
   "source": [
    "track_info,track_name,artist_info = get_track_info_from_spotify_uri(spotify_uri)\n",
    "if artist_info is not None:\n",
    "    track_name = track_info['name']\n",
    "    artist_name = track_info['artists'][0]['name']\n",
    "    genres = artist_info['genres'] if 'genres' in artist_info else []\n",
    "\n",
    "    print(f\"Track Name: {track_name}\")\n",
    "    print(f\"Artist: {artist_name}\")\n",
    "    print(f\"Artist Genres: {', '.join(genres)}\" if genres else \"No Genre available\")\n",
    "\n",
    "else:\n",
    "    print(\"Failed to retrieve track information.\")"
   ]
  },
  {
   "cell_type": "code",
   "execution_count": 14,
   "metadata": {},
   "outputs": [],
   "source": [
    "unique_genres_df=pd.read_csv('../Data/unique_genres.csv')"
   ]
  },
  {
   "cell_type": "code",
   "execution_count": 15,
   "metadata": {},
   "outputs": [
    {
     "data": {
      "text/html": [
       "<div>\n",
       "<style scoped>\n",
       "    .dataframe tbody tr th:only-of-type {\n",
       "        vertical-align: middle;\n",
       "    }\n",
       "\n",
       "    .dataframe tbody tr th {\n",
       "        vertical-align: top;\n",
       "    }\n",
       "\n",
       "    .dataframe thead th {\n",
       "        text-align: right;\n",
       "    }\n",
       "</style>\n",
       "<table border=\"1\" class=\"dataframe\">\n",
       "  <thead>\n",
       "    <tr style=\"text-align: right;\">\n",
       "      <th></th>\n",
       "      <th>artist_name</th>\n",
       "      <th>unique_genres</th>\n",
       "    </tr>\n",
       "  </thead>\n",
       "  <tbody>\n",
       "    <tr>\n",
       "      <th>0</th>\n",
       "      <td>AronChupa</td>\n",
       "      <td>['swedish pop']</td>\n",
       "    </tr>\n",
       "    <tr>\n",
       "      <th>1</th>\n",
       "      <td>Lorde</td>\n",
       "      <td>['art pop', 'metropopolis', 'nz pop', 'pop']</td>\n",
       "    </tr>\n",
       "    <tr>\n",
       "      <th>2</th>\n",
       "      <td>Alesso</td>\n",
       "      <td>['dance pop', 'edm', 'pop', 'pop dance']</td>\n",
       "    </tr>\n",
       "    <tr>\n",
       "      <th>3</th>\n",
       "      <td>The Script</td>\n",
       "      <td>['celtic rock', 'pop']</td>\n",
       "    </tr>\n",
       "    <tr>\n",
       "      <th>4</th>\n",
       "      <td>Fall Out Boy</td>\n",
       "      <td>['emo', 'modern rock', 'pop', 'rock']</td>\n",
       "    </tr>\n",
       "  </tbody>\n",
       "</table>\n",
       "</div>"
      ],
      "text/plain": [
       "    artist_name                                 unique_genres\n",
       "0     AronChupa                               ['swedish pop']\n",
       "1         Lorde  ['art pop', 'metropopolis', 'nz pop', 'pop']\n",
       "2        Alesso      ['dance pop', 'edm', 'pop', 'pop dance']\n",
       "3    The Script                        ['celtic rock', 'pop']\n",
       "4  Fall Out Boy         ['emo', 'modern rock', 'pop', 'rock']"
      ]
     },
     "execution_count": 15,
     "metadata": {},
     "output_type": "execute_result"
    }
   ],
   "source": [
    "unique_genres_df.head()"
   ]
  },
  {
   "cell_type": "code",
   "execution_count": 16,
   "metadata": {},
   "outputs": [],
   "source": [
    "import time"
   ]
  },
  {
   "cell_type": "code",
   "execution_count": 1,
   "metadata": {},
   "outputs": [
    {
     "name": "stderr",
     "output_type": "stream",
     "text": [
      "Fetching Recommendations:   0%|          | 0/3 [00:00<?, ?track/s]"
     ]
    },
    {
     "name": "stdout",
     "output_type": "stream",
     "text": [
      "Recommended Tracks:\n",
      "Track Name: Hawayein\n",
      "Artist: Pritam\n",
      "Track URL: https://open.spotify.com/track/0l6g8Z8mqGbGXFOjigYetD\n",
      "Artist URL: https://open.spotify.com/artist/1wRPtKGflJrBx9BmLsSwlU\n",
      "Album URL: https://open.spotify.com/album/4I39l0YJ7tmSBXZGZamN5E\n",
      "Album Name: Jab Harry Met Sejal (Original Motion Picture Soundtrack)\n"
     ]
    },
    {
     "data": {
      "text/html": [
       "<img src=\"https://i.scdn.co/image/ab67616d0000b273a08a13555e245f7f11aba13f\" width=\"300\" height=\"300\"/>"
      ],
      "text/plain": [
       "<IPython.core.display.Image object>"
      ]
     },
     "metadata": {},
     "output_type": "display_data"
    },
    {
     "name": "stdout",
     "output_type": "stream",
     "text": [
      "\n",
      "\n",
      "Track Name: Oh Ho Ho Ho (Remix)\n",
      "Artist: Sukhbir\n",
      "Track URL: https://open.spotify.com/track/3F0I9AkbRwz12yz7Hxn0bF\n",
      "Artist URL: https://open.spotify.com/artist/7bcSOvqOKoyZqU41p5YuoJ\n",
      "Album URL: https://open.spotify.com/album/5wUJ0hK8HJMpf5WEotPihO\n",
      "Album Name: Hindi Medium\n"
     ]
    },
    {
     "data": {
      "text/html": [
       "<img src=\"https://i.scdn.co/image/ab67616d0000b273a71488f39620ba195aede1c3\" width=\"300\" height=\"300\"/>"
      ],
      "text/plain": [
       "<IPython.core.display.Image object>"
      ]
     },
     "metadata": {},
     "output_type": "display_data"
    },
    {
     "name": "stdout",
     "output_type": "stream",
     "text": [
      "\n",
      "\n",
      "Track Name: Asal Mein\n",
      "Artist: Darshan Raval\n",
      "Track URL: https://open.spotify.com/track/0rMeOAvbQZ2RTG4B6L1M4p\n",
      "Artist URL: https://open.spotify.com/artist/2GoeZ0qOTt6kjsWW4eA6LS\n",
      "Album URL: https://open.spotify.com/album/7pFrr9ypVrxpZNF97YUQjK\n",
      "Album Name: Asal Mein\n"
     ]
    },
    {
     "data": {
      "text/html": [
       "<img src=\"https://i.scdn.co/image/ab67616d0000b2736597f07e711333210fa77b1c\" width=\"300\" height=\"300\"/>"
      ],
      "text/plain": [
       "<IPython.core.display.Image object>"
      ]
     },
     "metadata": {},
     "output_type": "display_data"
    },
    {
     "name": "stderr",
     "output_type": "stream",
     "text": [
      "Fetching Recommendations: 100%|██████████| 3/3 [00:00<00:00, 166.15track/s]"
     ]
    },
    {
     "name": "stdout",
     "output_type": "stream",
     "text": [
      "\n",
      "\n"
     ]
    },
    {
     "name": "stderr",
     "output_type": "stream",
     "text": [
      "\n"
     ]
    }
   ],
   "source": [
    "import spotipy\n",
    "from spotipy.oauth2 import SpotifyClientCredentials\n",
    "from tqdm import tqdm\n",
    "from IPython.display import display, Image  # For Jupyter Notebook\n",
    "\n",
    "def get_track_id(sp, artist_name, track_name):\n",
    "    results = sp.search(q=f'artist:{artist_name} track:{track_name}', type='track', limit=1)\n",
    "    \n",
    "    if results['tracks']['items']:\n",
    "        return results['tracks']['items'][0]['id']\n",
    "    else:\n",
    "        return None\n",
    "\n",
    "def get_recommendations(sp, track_id):\n",
    "    recommendations = sp.recommendations(seed_tracks=[track_id], limit=3)\n",
    "    return recommendations['tracks']\n",
    "\n",
    "# Replace 'YOUR_CLIENT_ID' and 'YOUR_CLIENT_SECRET' with your Spotify API credentials\n",
    "client_id = 'daf3beb333354b5aa084d6d682c3866e'\n",
    "client_secret = '6d02027f7d024335868a682d5666a919'\n",
    "\n",
    "client_credentials_manager = SpotifyClientCredentials(client_id=client_id, client_secret=client_secret)\n",
    "sp = spotipy.Spotify(client_credentials_manager=client_credentials_manager)\n",
    "\n",
    "current_artist_name = 'Pritam'\n",
    "current_track_name = 'Kabira (Encore)'\n",
    "\n",
    "track_id = get_track_id(sp, current_artist_name, current_track_name)\n",
    "\n",
    "if track_id:\n",
    "    recommended_tracks = get_recommendations(sp, track_id)\n",
    "\n",
    "    print(\"Recommended Tracks:\")\n",
    "    for track in tqdm(recommended_tracks, desc=\"Fetching Recommendations\", unit=\"track\"):\n",
    "        print(f\"Track Name: {track['name']}\")\n",
    "        print(f\"Artist: {track['artists'][0]['name']}\")\n",
    "        print(f\"Track URL: {track['external_urls']['spotify']}\")\n",
    "        print(f\"Artist URL: {track['artists'][0]['external_urls']['spotify']}\")\n",
    "        print(f\"Album URL: {track['album']['external_urls']['spotify']}\")\n",
    "        print(f\"Album Name: {track['album']['name']}\")\n",
    "        \n",
    "        # Display the image of the recommended song's thumbnail with reduced size\n",
    "        if track['album']['images']:\n",
    "            image_url = track['album']['images'][0]['url']\n",
    "            display(Image(url=image_url, width=300, height=300))  # Adjust width and height as needed\n",
    "\n",
    "        print(\"\\n\")\n",
    "\n",
    "else:\n",
    "    print(\"Track not found.\")"
   ]
  },
  {
   "cell_type": "code",
   "execution_count": null,
   "metadata": {},
   "outputs": [],
   "source": []
  }
 ],
 "metadata": {
  "kernelspec": {
   "display_name": "Python 3",
   "language": "python",
   "name": "python3"
  },
  "language_info": {
   "codemirror_mode": {
    "name": "ipython",
    "version": 3
   },
   "file_extension": ".py",
   "mimetype": "text/x-python",
   "name": "python",
   "nbconvert_exporter": "python",
   "pygments_lexer": "ipython3",
   "version": "3.11.6"
  }
 },
 "nbformat": 4,
 "nbformat_minor": 2
}
