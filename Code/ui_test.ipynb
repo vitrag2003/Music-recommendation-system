{
 "cells": [
  {
   "cell_type": "code",
   "execution_count": 137,
   "metadata": {},
   "outputs": [],
   "source": [
    "import pandas as pd\n",
    "import numpy as np"
   ]
  },
  {
   "cell_type": "code",
   "execution_count": 138,
   "metadata": {},
   "outputs": [],
   "source": [
    "df=pd.read_csv('../Data/Spotify_with_genre_clustered.csv')"
   ]
  },
  {
   "cell_type": "code",
   "execution_count": 139,
   "metadata": {},
   "outputs": [
    {
     "data": {
      "text/html": [
       "<div>\n",
       "<style scoped>\n",
       "    .dataframe tbody tr th:only-of-type {\n",
       "        vertical-align: middle;\n",
       "    }\n",
       "\n",
       "    .dataframe tbody tr th {\n",
       "        vertical-align: top;\n",
       "    }\n",
       "\n",
       "    .dataframe thead th {\n",
       "        text-align: right;\n",
       "    }\n",
       "</style>\n",
       "<table border=\"1\" class=\"dataframe\">\n",
       "  <thead>\n",
       "    <tr style=\"text-align: right;\">\n",
       "      <th></th>\n",
       "      <th>artist_name</th>\n",
       "      <th>track_name</th>\n",
       "      <th>artist_pop</th>\n",
       "      <th>popularity</th>\n",
       "      <th>genre</th>\n",
       "      <th>track_uri</th>\n",
       "      <th>artist_uri</th>\n",
       "      <th>year</th>\n",
       "      <th>cluster</th>\n",
       "    </tr>\n",
       "  </thead>\n",
       "  <tbody>\n",
       "    <tr>\n",
       "      <th>0</th>\n",
       "      <td>34</td>\n",
       "      <td>Preachin' To The Choir</td>\n",
       "      <td>0.37</td>\n",
       "      <td>0.000000</td>\n",
       "      <td>1</td>\n",
       "      <td>6JKj9seJCshLVCfBLFp7dS</td>\n",
       "      <td>55RI2GNCfyXr0f14uIdhwd</td>\n",
       "      <td>2017</td>\n",
       "      <td>6</td>\n",
       "    </tr>\n",
       "    <tr>\n",
       "      <th>1</th>\n",
       "      <td>2911</td>\n",
       "      <td>You Work Days I Work Nights</td>\n",
       "      <td>0.29</td>\n",
       "      <td>0.108696</td>\n",
       "      <td>2</td>\n",
       "      <td>7L7u4PrNt5WMtVI9lHWlLm</td>\n",
       "      <td>6k3UpifDbb2ox25edM5j3P</td>\n",
       "      <td>2012</td>\n",
       "      <td>0</td>\n",
       "    </tr>\n",
       "    <tr>\n",
       "      <th>2</th>\n",
       "      <td>485</td>\n",
       "      <td>Sera</td>\n",
       "      <td>0.44</td>\n",
       "      <td>0.336957</td>\n",
       "      <td>1</td>\n",
       "      <td>12EyOqMPMyAKlKSynICAGN</td>\n",
       "      <td>2qhLqZ1pkiUl5HNrU2Nz0R</td>\n",
       "      <td>2007</td>\n",
       "      <td>3</td>\n",
       "    </tr>\n",
       "    <tr>\n",
       "      <th>3</th>\n",
       "      <td>1268</td>\n",
       "      <td>Big Shit Poppin</td>\n",
       "      <td>0.69</td>\n",
       "      <td>0.206522</td>\n",
       "      <td>1</td>\n",
       "      <td>3tCDjKseLQJhShfbeg4m7K</td>\n",
       "      <td>4yBK75WVCQXej1p04GWqxH</td>\n",
       "      <td>2007</td>\n",
       "      <td>1</td>\n",
       "    </tr>\n",
       "    <tr>\n",
       "      <th>4</th>\n",
       "      <td>1525</td>\n",
       "      <td>No La Voy A Engañar</td>\n",
       "      <td>0.74</td>\n",
       "      <td>0.586957</td>\n",
       "      <td>1</td>\n",
       "      <td>0UICwSsSpUt98XkeCfupFn</td>\n",
       "      <td>5bSfBBCxY8QAk4Pifveisz</td>\n",
       "      <td>2012</td>\n",
       "      <td>1</td>\n",
       "    </tr>\n",
       "  </tbody>\n",
       "</table>\n",
       "</div>"
      ],
      "text/plain": [
       "   artist_name                   track_name  artist_pop  popularity  genre  \\\n",
       "0           34       Preachin' To The Choir        0.37    0.000000      1   \n",
       "1         2911  You Work Days I Work Nights        0.29    0.108696      2   \n",
       "2          485                         Sera        0.44    0.336957      1   \n",
       "3         1268              Big Shit Poppin        0.69    0.206522      1   \n",
       "4         1525          No La Voy A Engañar        0.74    0.586957      1   \n",
       "\n",
       "                track_uri              artist_uri  year  cluster  \n",
       "0  6JKj9seJCshLVCfBLFp7dS  55RI2GNCfyXr0f14uIdhwd  2017        6  \n",
       "1  7L7u4PrNt5WMtVI9lHWlLm  6k3UpifDbb2ox25edM5j3P  2012        0  \n",
       "2  12EyOqMPMyAKlKSynICAGN  2qhLqZ1pkiUl5HNrU2Nz0R  2007        3  \n",
       "3  3tCDjKseLQJhShfbeg4m7K  4yBK75WVCQXej1p04GWqxH  2007        1  \n",
       "4  0UICwSsSpUt98XkeCfupFn  5bSfBBCxY8QAk4Pifveisz  2012        1  "
      ]
     },
     "execution_count": 139,
     "metadata": {},
     "output_type": "execute_result"
    }
   ],
   "source": [
    "df.head()"
   ]
  },
  {
   "cell_type": "code",
   "execution_count": 140,
   "metadata": {},
   "outputs": [],
   "source": [
    "import spotipy\n",
    "from spotipy.oauth2 import SpotifyClientCredentials\n",
    "from spotipy.client import SpotifyException"
   ]
  },
  {
   "cell_type": "code",
   "execution_count": 141,
   "metadata": {},
   "outputs": [],
   "source": [
    "client_id = '6444952d25014134affbddb6854f27c7'\n",
    "client_secret = '49c9c42e4b54426785ae5856b45b719e'\n",
    "client_credentials_manager = SpotifyClientCredentials(client_id=client_id, client_secret=client_secret)\n",
    "sp = spotipy.Spotify(client_credentials_manager=client_credentials_manager)"
   ]
  },
  {
   "cell_type": "code",
   "execution_count": 142,
   "metadata": {},
   "outputs": [],
   "source": [
    "# Function to fetch track info\n",
    "def get_track_info(track_name):\n",
    "    results = sp.search(q=track_name, limit=1)\n",
    "    if results['tracks']['items']:\n",
    "        track = results['tracks']['items'][0]\n",
    "        track_uri = track['uri'].split(':')[-1]  # Extracting the track URI\n",
    "        artist_name = track['artists'][0]['name']  # Extracting the artist name\n",
    "        release_date = track['album']['release_date'][:4]  # Extracting the year of release\n",
    "        popularity = track['popularity']  # Track popularity\n",
    "        artist_pop = sp.artist(track['artists'][0]['id'])['popularity']  # Artist popularity\n",
    "        return track_uri, artist_name, release_date, popularity, artist_pop\n",
    "    else:\n",
    "        return None, None, None, None, None"
   ]
  },
  {
   "cell_type": "code",
   "execution_count": 143,
   "metadata": {},
   "outputs": [],
   "source": [
    "# Function to fetch specific audio features\n",
    "def get_audio_features(track_url):\n",
    "    audio_features = sp.audio_features([track_url])\n",
    "    if audio_features:\n",
    "        # Extracting only desired audio features\n",
    "        selected_features = {\n",
    "            'danceability': audio_features[0]['danceability'],\n",
    "            'energy': audio_features[0]['energy'],\n",
    "            'key': audio_features[0]['key'],\n",
    "            'loudness': audio_features[0]['loudness'],\n",
    "            'mode': audio_features[0]['mode'],\n",
    "            'speechiness': audio_features[0]['speechiness'],\n",
    "            'acousticness': audio_features[0]['acousticness'],\n",
    "            'instrumentalness': audio_features[0]['instrumentalness'],\n",
    "            'liveness': audio_features[0]['liveness'],\n",
    "            'valence': audio_features[0]['valence'],\n",
    "            'tempo': audio_features[0]['tempo']\n",
    "        }\n",
    "        return selected_features\n",
    "    else:\n",
    "        return None"
   ]
  },
  {
   "cell_type": "code",
   "execution_count": 144,
   "metadata": {},
   "outputs": [
    {
     "name": "stdout",
     "output_type": "stream",
     "text": [
      "Track URL: 7MXVkk9YMctZqd1Srtv4MB\n",
      "Artist: The Weeknd\n",
      "Release Year: 2016\n",
      "Track Popularity: 95\n",
      "Artist Popularity: 95\n",
      "Audio Features: {'danceability': 0.679, 'energy': 0.587, 'key': 7, 'loudness': -7.015, 'mode': 1, 'speechiness': 0.276, 'acousticness': 0.141, 'instrumentalness': 6.35e-06, 'liveness': 0.137, 'valence': 0.486, 'tempo': 186.003}\n"
     ]
    }
   ],
   "source": [
    "# Example usage\n",
    "track_name = input(\"Enter the track name: \")\n",
    "track_uri, artist_name, release_date, popularity, artist_pop = get_track_info(track_name)\n",
    "if track_uri:\n",
    "    print(\"Track URL:\", track_uri)\n",
    "    print(\"Artist:\", artist_name)\n",
    "    print(\"Release Year:\", release_date)\n",
    "    print(\"Track Popularity:\", popularity)\n",
    "    print(\"Artist Popularity:\", artist_pop)\n",
    "    audio_features = get_audio_features(track_uri)\n",
    "    if audio_features:\n",
    "        print(\"Audio Features:\", audio_features)\n",
    "    else:\n",
    "        print(\"Failed to fetch audio features.\")\n",
    "else:\n",
    "    print(\"Track not found.\")"
   ]
  },
  {
   "cell_type": "code",
   "execution_count": 145,
   "metadata": {},
   "outputs": [],
   "source": [
    "import pickle"
   ]
  },
  {
   "cell_type": "code",
   "execution_count": 146,
   "metadata": {},
   "outputs": [],
   "source": [
    "# Load scaler and XGBoost model\n",
    "base_path = '../Models/'\n",
    "with open(base_path+'scaler.pkl', 'rb') as f:\n",
    "    scaler = pickle.load(f)\n",
    "\n",
    "with open(base_path+'xgb.pkl', 'rb') as f:\n",
    "    xgb_model = pickle.load(f)"
   ]
  },
  {
   "cell_type": "code",
   "execution_count": 147,
   "metadata": {},
   "outputs": [
    {
     "data": {
      "text/html": [
       "<div>\n",
       "<style scoped>\n",
       "    .dataframe tbody tr th:only-of-type {\n",
       "        vertical-align: middle;\n",
       "    }\n",
       "\n",
       "    .dataframe tbody tr th {\n",
       "        vertical-align: top;\n",
       "    }\n",
       "\n",
       "    .dataframe thead th {\n",
       "        text-align: right;\n",
       "    }\n",
       "</style>\n",
       "<table border=\"1\" class=\"dataframe\">\n",
       "  <thead>\n",
       "    <tr style=\"text-align: right;\">\n",
       "      <th></th>\n",
       "      <th>danceability</th>\n",
       "      <th>energy</th>\n",
       "      <th>key</th>\n",
       "      <th>loudness</th>\n",
       "      <th>mode</th>\n",
       "      <th>speechiness</th>\n",
       "      <th>acousticness</th>\n",
       "      <th>instrumentalness</th>\n",
       "      <th>liveness</th>\n",
       "      <th>valence</th>\n",
       "      <th>tempo</th>\n",
       "    </tr>\n",
       "  </thead>\n",
       "  <tbody>\n",
       "    <tr>\n",
       "      <th>0</th>\n",
       "      <td>0.679</td>\n",
       "      <td>0.587</td>\n",
       "      <td>7</td>\n",
       "      <td>-7.015</td>\n",
       "      <td>1</td>\n",
       "      <td>0.276</td>\n",
       "      <td>0.141</td>\n",
       "      <td>0.000006</td>\n",
       "      <td>0.137</td>\n",
       "      <td>0.486</td>\n",
       "      <td>186.003</td>\n",
       "    </tr>\n",
       "  </tbody>\n",
       "</table>\n",
       "</div>"
      ],
      "text/plain": [
       "   danceability  energy  key  loudness  mode  speechiness  acousticness  \\\n",
       "0         0.679   0.587    7    -7.015     1        0.276         0.141   \n",
       "\n",
       "   instrumentalness  liveness  valence    tempo  \n",
       "0          0.000006     0.137    0.486  186.003  "
      ]
     },
     "execution_count": 147,
     "metadata": {},
     "output_type": "execute_result"
    }
   ],
   "source": [
    "pd.DataFrame(audio_features, index=[0]).head()"
   ]
  },
  {
   "cell_type": "code",
   "execution_count": 148,
   "metadata": {},
   "outputs": [],
   "source": [
    "# Function to preprocess input features using scaler\n",
    "def preprocess_input(audio_features):\n",
    "    # Convert audio features to numpy array\n",
    "    # features_array = np.array(list(audio_features.values())).reshape(1, -1)\n",
    "    scaled_features = scaler.transform(pd.DataFrame(audio_features, index=[0]))\n",
    "    return scaled_features"
   ]
  },
  {
   "cell_type": "code",
   "execution_count": 149,
   "metadata": {},
   "outputs": [],
   "source": [
    "# Function to make prediction using XGBoost model\n",
    "def predict(features):\n",
    "    return xgb_model.predict(features)[0]"
   ]
  },
  {
   "cell_type": "code",
   "execution_count": 150,
   "metadata": {},
   "outputs": [],
   "source": [
    "# Preprocess input features\n",
    "scaled_features = preprocess_input(audio_features)"
   ]
  },
  {
   "cell_type": "code",
   "execution_count": 151,
   "metadata": {},
   "outputs": [],
   "source": [
    "# Make prediction\n",
    "genre = predict(scaled_features)"
   ]
  },
  {
   "cell_type": "code",
   "execution_count": 152,
   "metadata": {},
   "outputs": [
    {
     "name": "stdout",
     "output_type": "stream",
     "text": [
      "Predicted Genre: Rap\n"
     ]
    }
   ],
   "source": [
    "\n",
    "\n",
    "with open(base_path+'encoder.pkl', 'rb') as f:\n",
    "    genre_map = pickle.load(f)\n",
    "print(\"Predicted Genre:\", genre_map.inverse_transform([int(genre)])[0])"
   ]
  },
  {
   "cell_type": "code",
   "execution_count": 153,
   "metadata": {},
   "outputs": [
    {
     "name": "stdout",
     "output_type": "stream",
     "text": [
      "['A Thousand Horses' 'Water Liars' 'Chambao' ... 'Steve Angello'\n",
      " 'Sebastian Ingrosso' 'Man Man']\n"
     ]
    }
   ],
   "source": [
    "with open(base_path+'label_encoder.pkl', 'rb') as f:\n",
    "    artist_name_map = pickle.load(f)\n",
    "    \n",
    "artists = df['artist_name'].unique()\n",
    "\n",
    "print(artist_name_map.inverse_transform(artists))\n"
   ]
  },
  {
   "cell_type": "code",
   "execution_count": 154,
   "metadata": {},
   "outputs": [
    {
     "name": "stdout",
     "output_type": "stream",
     "text": [
      "[2718]\n"
     ]
    }
   ],
   "source": [
    "print(artist_name_map.transform([artist_name]))"
   ]
  },
  {
   "cell_type": "code",
   "execution_count": 155,
   "metadata": {},
   "outputs": [],
   "source": [
    "# Create DataFrame\n",
    "data_df = pd.DataFrame({\n",
    "    \"artist_pop\": [artist_pop],\n",
    "    \"popularity\": [popularity],\n",
    "    \"year\": [release_date],\n",
    "    \"genre\": [genre],\n",
    "    \"artist_name\": [artist_name_map.transform([artist_name])[0]]\n",
    "})"
   ]
  },
  {
   "cell_type": "code",
   "execution_count": 156,
   "metadata": {},
   "outputs": [],
   "source": [
    "# Load the model\n",
    "with open(base_path+'birch.pkl', 'rb') as f:\n",
    "    birch_model = pickle.load(f)"
   ]
  },
  {
   "cell_type": "code",
   "execution_count": 157,
   "metadata": {},
   "outputs": [
    {
     "name": "stdout",
     "output_type": "stream",
     "text": [
      "Birch Clusters: [0]\n"
     ]
    }
   ],
   "source": [
    "# Use the model to predict clusters\n",
    "cluster = birch_model.predict(data_df)\n",
    "print(\"Birch Clusters:\", cluster)"
   ]
  },
  {
   "cell_type": "code",
   "execution_count": 158,
   "metadata": {},
   "outputs": [
    {
     "name": "stdout",
     "output_type": "stream",
     "text": [
      "Recommendations for the track:\n",
      "            track_name  artist_name  popularity  genre  artist_pop  year\n",
      "2807      Hit The Road         2912    0.239130      1        0.26  2014\n",
      "281   Who I Am (Chyna)         2900    0.217391      1        0.62  2005\n",
      "2200         Right Now         2913    0.000000      1        0.48  2014\n",
      "3394        Me Acuerdo         2884    0.000000      1        0.25  1994\n",
      "524          Fireworks         2913    0.000000      1        0.48  2013\n"
     ]
    }
   ],
   "source": [
    "#recommendation system\n",
    "from sklearn.metrics.pairwise import cosine_similarity\n",
    "\n",
    "#find nearest neighbors using cosine similarity\n",
    "def find_nearest_neighbors(data, index, n_neighbors=5):\n",
    "    similarities = cosine_similarity(data, data[index:index+1]).flatten()\n",
    "    similar_indices = similarities.argsort()[-n_neighbors-1:-1]\n",
    "    return similar_indices\n",
    "\n",
    "# Function to recommend tracks\n",
    "def recommend_tracks(data, cluster, n_recommendations=5):\n",
    "    # Filter data for the same cluster\n",
    "    cluster_data = data[data['cluster'] == cluster]\n",
    "    cluster_data=cluster_data.drop('cluster', axis=1)\n",
    "    features=['artist_name','artist_pop','popularity','year','genre']\n",
    "    # Find nearest neighbors\n",
    "    similar_indices = find_nearest_neighbors(cluster_data[features], 0, n_recommendations)\n",
    "    # Return recommendations\n",
    "    return cluster_data.iloc[similar_indices]\n",
    "\n",
    "# Example usage\n",
    "recommendations = recommend_tracks(df, cluster[0])\n",
    "print(\"Recommendations for the track:\")\n",
    "print(recommendations[['track_name', 'artist_name', 'popularity', 'genre', 'artist_pop', 'year', ]])\n"
   ]
  }
 ],
 "metadata": {
  "kernelspec": {
   "display_name": "Python 3",
   "language": "python",
   "name": "python3"
  },
  "language_info": {
   "codemirror_mode": {
    "name": "ipython",
    "version": 3
   },
   "file_extension": ".py",
   "mimetype": "text/x-python",
   "name": "python",
   "nbconvert_exporter": "python",
   "pygments_lexer": "ipython3",
   "version": "3.9.13"
  }
 },
 "nbformat": 4,
 "nbformat_minor": 2
}
