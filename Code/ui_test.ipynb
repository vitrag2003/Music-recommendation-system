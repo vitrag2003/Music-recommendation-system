{
 "cells": [
  {
   "cell_type": "code",
   "execution_count": 53,
   "metadata": {},
   "outputs": [],
   "source": [
    "import pandas as pd\n",
    "import numpy as np"
   ]
  },
  {
   "cell_type": "code",
   "execution_count": 54,
   "metadata": {},
   "outputs": [],
   "source": [
    "df=pd.read_csv('Spotify_with_genre.csv')"
   ]
  },
  {
   "cell_type": "code",
   "execution_count": 55,
   "metadata": {},
   "outputs": [
    {
     "data": {
      "text/html": [
       "<div>\n",
       "<style scoped>\n",
       "    .dataframe tbody tr th:only-of-type {\n",
       "        vertical-align: middle;\n",
       "    }\n",
       "\n",
       "    .dataframe tbody tr th {\n",
       "        vertical-align: top;\n",
       "    }\n",
       "\n",
       "    .dataframe thead th {\n",
       "        text-align: right;\n",
       "    }\n",
       "</style>\n",
       "<table border=\"1\" class=\"dataframe\">\n",
       "  <thead>\n",
       "    <tr style=\"text-align: right;\">\n",
       "      <th></th>\n",
       "      <th>artist_name</th>\n",
       "      <th>track_name</th>\n",
       "      <th>artist_pop</th>\n",
       "      <th>popularity</th>\n",
       "      <th>release_date</th>\n",
       "      <th>genre</th>\n",
       "      <th>track_uri</th>\n",
       "      <th>artist_uri</th>\n",
       "    </tr>\n",
       "  </thead>\n",
       "  <tbody>\n",
       "    <tr>\n",
       "      <th>0</th>\n",
       "      <td>A Thousand Horses</td>\n",
       "      <td>Preachin' To The Choir</td>\n",
       "      <td>37.0</td>\n",
       "      <td>0.0</td>\n",
       "      <td>2017-06-02</td>\n",
       "      <td>Rap</td>\n",
       "      <td>6JKj9seJCshLVCfBLFp7dS</td>\n",
       "      <td>55RI2GNCfyXr0f14uIdhwd</td>\n",
       "    </tr>\n",
       "    <tr>\n",
       "      <th>1</th>\n",
       "      <td>Water Liars</td>\n",
       "      <td>You Work Days I Work Nights</td>\n",
       "      <td>29.0</td>\n",
       "      <td>10.0</td>\n",
       "      <td>2012</td>\n",
       "      <td>dnb</td>\n",
       "      <td>7L7u4PrNt5WMtVI9lHWlLm</td>\n",
       "      <td>6k3UpifDbb2ox25edM5j3P</td>\n",
       "    </tr>\n",
       "    <tr>\n",
       "      <th>2</th>\n",
       "      <td>Chambao</td>\n",
       "      <td>Sera</td>\n",
       "      <td>44.0</td>\n",
       "      <td>31.0</td>\n",
       "      <td>2007-11-06</td>\n",
       "      <td>Rap</td>\n",
       "      <td>12EyOqMPMyAKlKSynICAGN</td>\n",
       "      <td>2qhLqZ1pkiUl5HNrU2Nz0R</td>\n",
       "    </tr>\n",
       "    <tr>\n",
       "      <th>3</th>\n",
       "      <td>Jeezy</td>\n",
       "      <td>Big Shit Poppin</td>\n",
       "      <td>69.0</td>\n",
       "      <td>19.0</td>\n",
       "      <td>2007-08-07</td>\n",
       "      <td>Rap</td>\n",
       "      <td>3tCDjKseLQJhShfbeg4m7K</td>\n",
       "      <td>4yBK75WVCQXej1p04GWqxH</td>\n",
       "    </tr>\n",
       "    <tr>\n",
       "      <th>4</th>\n",
       "      <td>La Arrolladora Banda El Limón De Rene Camacho</td>\n",
       "      <td>No La Voy A Engañar</td>\n",
       "      <td>74.0</td>\n",
       "      <td>54.0</td>\n",
       "      <td>2012</td>\n",
       "      <td>Rap</td>\n",
       "      <td>0UICwSsSpUt98XkeCfupFn</td>\n",
       "      <td>5bSfBBCxY8QAk4Pifveisz</td>\n",
       "    </tr>\n",
       "  </tbody>\n",
       "</table>\n",
       "</div>"
      ],
      "text/plain": [
       "                                     artist_name                   track_name  \\\n",
       "0                              A Thousand Horses       Preachin' To The Choir   \n",
       "1                                    Water Liars  You Work Days I Work Nights   \n",
       "2                                        Chambao                         Sera   \n",
       "3                                          Jeezy              Big Shit Poppin   \n",
       "4  La Arrolladora Banda El Limón De Rene Camacho          No La Voy A Engañar   \n",
       "\n",
       "   artist_pop  popularity release_date genre               track_uri  \\\n",
       "0        37.0         0.0   2017-06-02   Rap  6JKj9seJCshLVCfBLFp7dS   \n",
       "1        29.0        10.0         2012   dnb  7L7u4PrNt5WMtVI9lHWlLm   \n",
       "2        44.0        31.0   2007-11-06   Rap  12EyOqMPMyAKlKSynICAGN   \n",
       "3        69.0        19.0   2007-08-07   Rap  3tCDjKseLQJhShfbeg4m7K   \n",
       "4        74.0        54.0         2012   Rap  0UICwSsSpUt98XkeCfupFn   \n",
       "\n",
       "               artist_uri  \n",
       "0  55RI2GNCfyXr0f14uIdhwd  \n",
       "1  6k3UpifDbb2ox25edM5j3P  \n",
       "2  2qhLqZ1pkiUl5HNrU2Nz0R  \n",
       "3  4yBK75WVCQXej1p04GWqxH  \n",
       "4  5bSfBBCxY8QAk4Pifveisz  "
      ]
     },
     "execution_count": 55,
     "metadata": {},
     "output_type": "execute_result"
    }
   ],
   "source": [
    "df.head()"
   ]
  },
  {
   "cell_type": "code",
   "execution_count": 56,
   "metadata": {},
   "outputs": [],
   "source": [
    "import spotipy\n",
    "from spotipy.oauth2 import SpotifyClientCredentials\n",
    "from spotipy.client import SpotifyException"
   ]
  },
  {
   "cell_type": "code",
   "execution_count": 57,
   "metadata": {},
   "outputs": [],
   "source": [
    "client_id = '6444952d25014134affbddb6854f27c7'\n",
    "client_secret = '49c9c42e4b54426785ae5856b45b719e'\n",
    "client_credentials_manager = SpotifyClientCredentials(client_id=client_id, client_secret=client_secret)\n",
    "sp = spotipy.Spotify(client_credentials_manager=client_credentials_manager)"
   ]
  },
  {
   "cell_type": "code",
   "execution_count": 58,
   "metadata": {},
   "outputs": [],
   "source": [
    "# Function to fetch track info\n",
    "def get_track_info(track_name):\n",
    "    results = sp.search(q=track_name, limit=1)\n",
    "    if results['tracks']['items']:\n",
    "        track = results['tracks']['items'][0]\n",
    "        track_uri = track['uri'].split(':')[-1]  # Extracting the track URI\n",
    "        artist_name = track['artists'][0]['name']  # Extracting the artist name\n",
    "        release_date = track['album']['release_date'][:4]  # Extracting the year of release\n",
    "        popularity = track['popularity']  # Track popularity\n",
    "        artist_pop = sp.artist(track['artists'][0]['id'])['popularity']  # Artist popularity\n",
    "        return track_uri, artist_name, release_date, popularity, artist_pop\n",
    "    else:\n",
    "        return None, None, None, None, None"
   ]
  },
  {
   "cell_type": "code",
   "execution_count": 59,
   "metadata": {},
   "outputs": [],
   "source": [
    "# Function to fetch specific audio features\n",
    "def get_audio_features(track_url):\n",
    "    audio_features = sp.audio_features([track_url])\n",
    "    if audio_features:\n",
    "        # Extracting only desired audio features\n",
    "        selected_features = {\n",
    "            'danceability': audio_features[0]['danceability'],\n",
    "            'energy': audio_features[0]['energy'],\n",
    "            'key': audio_features[0]['key'],\n",
    "            'loudness': audio_features[0]['loudness'],\n",
    "            'mode': audio_features[0]['mode'],\n",
    "            'speechiness': audio_features[0]['speechiness'],\n",
    "            'acousticness': audio_features[0]['acousticness'],\n",
    "            'instrumentalness': audio_features[0]['instrumentalness'],\n",
    "            'liveness': audio_features[0]['liveness'],\n",
    "            'valence': audio_features[0]['valence'],\n",
    "            'tempo': audio_features[0]['tempo']\n",
    "        }\n",
    "        return selected_features\n",
    "    else:\n",
    "        return None"
   ]
  },
  {
   "cell_type": "code",
   "execution_count": 61,
   "metadata": {},
   "outputs": [
    {
     "name": "stdout",
     "output_type": "stream",
     "text": [
      "Track URL: 3jJ5HgLRNydtLRghjWVaCG\n",
      "Artist: Pritam\n",
      "Release Year: 2013\n",
      "Track Popularity: 65\n",
      "Artist Popularity: 87\n",
      "Audio Features: {'danceability': 0.611, 'energy': 0.612, 'key': 2, 'loudness': -7.978, 'mode': 1, 'speechiness': 0.114, 'acousticness': 0.441, 'instrumentalness': 0, 'liveness': 0.18, 'valence': 0.898, 'tempo': 171.841}\n"
     ]
    }
   ],
   "source": [
    "# Example usage\n",
    "track_name = input(\"Enter the track name: \")\n",
    "track_uri, artist_name, release_date, popularity, artist_pop = get_track_info(track_name)\n",
    "if track_uri:\n",
    "    print(\"Track URL:\", track_uri)\n",
    "    print(\"Artist:\", artist_name)\n",
    "    print(\"Release Year:\", release_date)\n",
    "    print(\"Track Popularity:\", popularity)\n",
    "    print(\"Artist Popularity:\", artist_pop)\n",
    "    audio_features = get_audio_features(track_uri)\n",
    "    if audio_features:\n",
    "        print(\"Audio Features:\", audio_features)\n",
    "    else:\n",
    "        print(\"Failed to fetch audio features.\")\n",
    "else:\n",
    "    print(\"Track not found.\")"
   ]
  },
  {
   "cell_type": "code",
   "execution_count": 62,
   "metadata": {},
   "outputs": [],
   "source": [
    "import pickle"
   ]
  },
  {
   "cell_type": "code",
   "execution_count": 63,
   "metadata": {},
   "outputs": [
    {
     "name": "stderr",
     "output_type": "stream",
     "text": [
      "c:\\Users\\Vitrag Khatadia\\AppData\\Local\\Programs\\Python\\Python39\\lib\\site-packages\\sklearn\\base.py:376: InconsistentVersionWarning: Trying to unpickle estimator MinMaxScaler from version 1.3.2 when using version 1.4.1.post1. This might lead to breaking code or invalid results. Use at your own risk. For more info please refer to:\n",
      "https://scikit-learn.org/stable/model_persistence.html#security-maintainability-limitations\n",
      "  warnings.warn(\n",
      "c:\\Users\\Vitrag Khatadia\\AppData\\Local\\Programs\\Python\\Python39\\lib\\site-packages\\sklearn\\base.py:376: InconsistentVersionWarning: Trying to unpickle estimator GridSearchCV from version 1.3.2 when using version 1.4.1.post1. This might lead to breaking code or invalid results. Use at your own risk. For more info please refer to:\n",
      "https://scikit-learn.org/stable/model_persistence.html#security-maintainability-limitations\n",
      "  warnings.warn(\n"
     ]
    }
   ],
   "source": [
    "# Load scaler and XGBoost model\n",
    "with open('scaler.pkl', 'rb') as f:\n",
    "    scaler = pickle.load(f)\n",
    "\n",
    "with open('xgb.pkl', 'rb') as f:\n",
    "    xgb_model = pickle.load(f)"
   ]
  },
  {
   "cell_type": "code",
   "execution_count": 64,
   "metadata": {},
   "outputs": [],
   "source": [
    "# Function to preprocess input features using scaler\n",
    "def preprocess_input(audio_features):\n",
    "    # Convert audio features to numpy array\n",
    "    features_array = np.array(list(audio_features.values())).reshape(1, -1)\n",
    "    # Scale the features\n",
    "    scaled_features = scaler.transform(features_array)\n",
    "    return scaled_features"
   ]
  },
  {
   "cell_type": "code",
   "execution_count": 65,
   "metadata": {},
   "outputs": [],
   "source": [
    "# Function to make prediction using XGBoost model\n",
    "def predict(features):\n",
    "    return xgb_model.predict(features)[0]"
   ]
  },
  {
   "cell_type": "code",
   "execution_count": 66,
   "metadata": {},
   "outputs": [
    {
     "name": "stderr",
     "output_type": "stream",
     "text": [
      "c:\\Users\\Vitrag Khatadia\\AppData\\Local\\Programs\\Python\\Python39\\lib\\site-packages\\sklearn\\base.py:493: UserWarning: X does not have valid feature names, but MinMaxScaler was fitted with feature names\n",
      "  warnings.warn(\n"
     ]
    }
   ],
   "source": [
    "# Preprocess input features\n",
    "scaled_features = preprocess_input(audio_features)"
   ]
  },
  {
   "cell_type": "code",
   "execution_count": 67,
   "metadata": {},
   "outputs": [],
   "source": [
    "# Make prediction\n",
    "genre = predict(scaled_features)"
   ]
  },
  {
   "cell_type": "code",
   "execution_count": 74,
   "metadata": {},
   "outputs": [],
   "source": [
    "# Create DataFrame\n",
    "data_df = pd.DataFrame({\n",
    "    \"artist_pop\": [artist_pop],\n",
    "    \"popularity\": [popularity],\n",
    "    \"year\": [release_date],\n",
    "    \"genre\": [genre]\n",
    "})"
   ]
  },
  {
   "cell_type": "code",
   "execution_count": 75,
   "metadata": {},
   "outputs": [],
   "source": [
    "# Load the model\n",
    "with open('birch.pkl', 'rb') as f:\n",
    "    birch_model = pickle.load(f)"
   ]
  },
  {
   "cell_type": "code",
   "execution_count": 76,
   "metadata": {},
   "outputs": [],
   "source": [
    "# Use the model to predict clusters\n",
    "clusters = birch_model.predict(data_df)"
   ]
  },
  {
   "cell_type": "code",
   "execution_count": 77,
   "metadata": {},
   "outputs": [
    {
     "data": {
      "text/plain": [
       "array([1], dtype=int64)"
      ]
     },
     "execution_count": 77,
     "metadata": {},
     "output_type": "execute_result"
    }
   ],
   "source": [
    "clusters"
   ]
  },
  {
   "cell_type": "code",
   "execution_count": null,
   "metadata": {},
   "outputs": [],
   "source": []
  }
 ],
 "metadata": {
  "kernelspec": {
   "display_name": "Python 3",
   "language": "python",
   "name": "python3"
  },
  "language_info": {
   "codemirror_mode": {
    "name": "ipython",
    "version": 3
   },
   "file_extension": ".py",
   "mimetype": "text/x-python",
   "name": "python",
   "nbconvert_exporter": "python",
   "pygments_lexer": "ipython3",
   "version": "3.9.5"
  }
 },
 "nbformat": 4,
 "nbformat_minor": 2
}
