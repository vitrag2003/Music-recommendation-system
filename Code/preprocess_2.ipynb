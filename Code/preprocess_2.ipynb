{
 "cells": [
  {
   "cell_type": "markdown",
   "metadata": {},
   "source": [
    "# Importing the libraries"
   ]
  },
  {
   "cell_type": "code",
   "execution_count": 392,
   "metadata": {},
   "outputs": [],
   "source": [
    "import os\n",
    "import pandas as pd\n",
    "import numpy as np\n",
    "import json\n",
    "import spotipy\n",
    "import spotipy.oauth2 as oauth2\n",
    "from spotipy.oauth2 import SpotifyOAuth,SpotifyClientCredentials\n",
    "import yaml\n",
    "import re\n",
    "from tqdm import tqdm\n",
    "import multiprocessing as mp\n",
    "import time\n",
    "import random\n",
    "import datetime\n",
    "\n",
    "from sklearn.feature_extraction.text import TfidfVectorizer\n",
    "from sklearn.metrics.pairwise import cosine_similarity\n",
    "from sklearn.preprocessing import MinMaxScaler\n",
    "import matplotlib.pyplot as plt"
   ]
  },
  {
   "cell_type": "code",
   "execution_count": 393,
   "metadata": {},
   "outputs": [],
   "source": [
    "# Spotify API credentials\n",
    "client_id = 'd4eec2244fb2416ebce8ec488b1f9587'\n",
    "client_secret = '0cf3c26eca6244e796a10a847dc11f17'\n",
    "\n",
    "auth_manager = SpotifyClientCredentials(client_id=client_id, client_secret=client_secret)\n",
    "sp = spotipy.client.Spotify(auth_manager=auth_manager)"
   ]
  },
  {
   "cell_type": "markdown",
   "metadata": {},
   "source": [
    "# Importing the dataset"
   ]
  },
  {
   "cell_type": "code",
   "execution_count": 394,
   "metadata": {},
   "outputs": [],
   "source": [
    "df=pd.read_csv('../Data/unique_tracks.csv')\n",
    "artist_features=pd.read_csv('../Data/artist_features.csv')\n",
    "audio_features=pd.read_csv('../Data/audio_features.csv')\n",
    "track_features=pd.read_csv('../Data/track_features.csv')"
   ]
  },
  {
   "cell_type": "code",
   "execution_count": 395,
   "metadata": {},
   "outputs": [
    {
     "data": {
      "text/plain": [
       "Index(['track_uri', 'release_date', 'popularity'], dtype='object')"
      ]
     },
     "execution_count": 395,
     "metadata": {},
     "output_type": "execute_result"
    }
   ],
   "source": [
    "track_features.columns"
   ]
  },
  {
   "cell_type": "code",
   "execution_count": 396,
   "metadata": {},
   "outputs": [
    {
     "data": {
      "text/plain": [
       "Index(['danceability', 'energy', 'key', 'loudness', 'mode', 'speechiness',\n",
       "       'acousticness', 'instrumentalness', 'liveness', 'valence', 'tempo',\n",
       "       'type', 'id', 'uri', 'track_href', 'analysis_url', 'duration_ms',\n",
       "       'time_signature'],\n",
       "      dtype='object')"
      ]
     },
     "execution_count": 396,
     "metadata": {},
     "output_type": "execute_result"
    }
   ],
   "source": [
    "audio_features.columns"
   ]
  },
  {
   "cell_type": "code",
   "execution_count": 397,
   "metadata": {},
   "outputs": [
    {
     "data": {
      "text/plain": [
       "Index(['0', 'artist_pop', 'genres'], dtype='object')"
      ]
     },
     "execution_count": 397,
     "metadata": {},
     "output_type": "execute_result"
    }
   ],
   "source": [
    "artist_features.columns"
   ]
  },
  {
   "cell_type": "code",
   "execution_count": 398,
   "metadata": {},
   "outputs": [
    {
     "data": {
      "text/plain": [
       "Index(['name', 'num_holdouts', 'pid', 'num_tracks', 'num_samples', '0', 'pos',\n",
       "       'artist_name', 'track_uri', 'artist_uri', 'track_name', 'album_uri',\n",
       "       'duration_ms', 'album_name'],\n",
       "      dtype='object')"
      ]
     },
     "execution_count": 398,
     "metadata": {},
     "output_type": "execute_result"
    }
   ],
   "source": [
    "df.columns"
   ]
  },
  {
   "cell_type": "code",
   "execution_count": 399,
   "metadata": {},
   "outputs": [],
   "source": [
    "# Remove 'spotify:track:' from 'track_uri' in df\n",
    "df['track_uri'] = df['track_uri'].str.replace('spotify:track:', '')\n",
    "\n",
    "df['artist_uri'] = df['artist_uri'].str.replace('spotify:artist:', '')\n",
    "\n",
    "# Rename the column '0' to 'artist_uri' in artist_features DataFrame\n",
    "artist_features.rename(columns={'0': 'artist_uri'}, inplace=True)\n",
    "\n",
    "# Merge df with audio_features using the modified 'track_uri' and 'id'\n",
    "final_df = pd.merge(df, audio_features, left_on='track_uri', right_on='id', how='outer')\n"
   ]
  },
  {
   "cell_type": "code",
   "execution_count": 400,
   "metadata": {},
   "outputs": [
    {
     "data": {
      "text/plain": [
       "name                 15254\n",
       "num_holdouts             0\n",
       "pid                      0\n",
       "num_tracks               0\n",
       "num_samples              0\n",
       "0                   287205\n",
       "pos                   1000\n",
       "artist_name           1000\n",
       "track_uri             1000\n",
       "artist_uri            1000\n",
       "track_name            1001\n",
       "album_uri             1000\n",
       "duration_ms_x         1000\n",
       "album_name            1000\n",
       "danceability         74117\n",
       "energy               74117\n",
       "key                  74117\n",
       "loudness             74117\n",
       "mode                 74117\n",
       "speechiness          74117\n",
       "acousticness         74117\n",
       "instrumentalness     74117\n",
       "liveness             74117\n",
       "valence              74117\n",
       "tempo                74117\n",
       "type                 74117\n",
       "id                   74117\n",
       "uri                  74117\n",
       "track_href           74117\n",
       "analysis_url         74117\n",
       "duration_ms_y        74117\n",
       "time_signature       74117\n",
       "dtype: int64"
      ]
     },
     "execution_count": 400,
     "metadata": {},
     "output_type": "execute_result"
    }
   ],
   "source": [
    "final_df.isna().sum()"
   ]
  },
  {
   "cell_type": "code",
   "execution_count": 401,
   "metadata": {},
   "outputs": [
    {
     "data": {
      "text/html": [
       "<div>\n",
       "<style scoped>\n",
       "    .dataframe tbody tr th:only-of-type {\n",
       "        vertical-align: middle;\n",
       "    }\n",
       "\n",
       "    .dataframe tbody tr th {\n",
       "        vertical-align: top;\n",
       "    }\n",
       "\n",
       "    .dataframe thead th {\n",
       "        text-align: right;\n",
       "    }\n",
       "</style>\n",
       "<table border=\"1\" class=\"dataframe\">\n",
       "  <thead>\n",
       "    <tr style=\"text-align: right;\">\n",
       "      <th></th>\n",
       "      <th>name</th>\n",
       "      <th>num_holdouts</th>\n",
       "      <th>pid</th>\n",
       "      <th>num_tracks</th>\n",
       "      <th>num_samples</th>\n",
       "      <th>0</th>\n",
       "      <th>pos</th>\n",
       "      <th>artist_name</th>\n",
       "      <th>track_uri</th>\n",
       "      <th>artist_uri</th>\n",
       "      <th>...</th>\n",
       "      <th>id</th>\n",
       "      <th>uri</th>\n",
       "      <th>track_href</th>\n",
       "      <th>analysis_url</th>\n",
       "      <th>duration_ms_y</th>\n",
       "      <th>time_signature</th>\n",
       "      <th>release_date</th>\n",
       "      <th>popularity</th>\n",
       "      <th>artist_pop</th>\n",
       "      <th>genres</th>\n",
       "    </tr>\n",
       "  </thead>\n",
       "  <tbody>\n",
       "    <tr>\n",
       "      <th>0</th>\n",
       "      <td>spanish playlist</td>\n",
       "      <td>11</td>\n",
       "      <td>1000002</td>\n",
       "      <td>11</td>\n",
       "      <td>0</td>\n",
       "      <td>NaN</td>\n",
       "      <td>NaN</td>\n",
       "      <td>NaN</td>\n",
       "      <td>NaN</td>\n",
       "      <td>NaN</td>\n",
       "      <td>...</td>\n",
       "      <td>NaN</td>\n",
       "      <td>NaN</td>\n",
       "      <td>NaN</td>\n",
       "      <td>NaN</td>\n",
       "      <td>NaN</td>\n",
       "      <td>NaN</td>\n",
       "      <td>NaN</td>\n",
       "      <td>NaN</td>\n",
       "      <td>NaN</td>\n",
       "      <td>NaN</td>\n",
       "    </tr>\n",
       "    <tr>\n",
       "      <th>1</th>\n",
       "      <td>Groovin</td>\n",
       "      <td>48</td>\n",
       "      <td>1000003</td>\n",
       "      <td>48</td>\n",
       "      <td>0</td>\n",
       "      <td>NaN</td>\n",
       "      <td>NaN</td>\n",
       "      <td>NaN</td>\n",
       "      <td>NaN</td>\n",
       "      <td>NaN</td>\n",
       "      <td>...</td>\n",
       "      <td>NaN</td>\n",
       "      <td>NaN</td>\n",
       "      <td>NaN</td>\n",
       "      <td>NaN</td>\n",
       "      <td>NaN</td>\n",
       "      <td>NaN</td>\n",
       "      <td>NaN</td>\n",
       "      <td>NaN</td>\n",
       "      <td>NaN</td>\n",
       "      <td>NaN</td>\n",
       "    </tr>\n",
       "    <tr>\n",
       "      <th>2</th>\n",
       "      <td>uplift</td>\n",
       "      <td>40</td>\n",
       "      <td>1000004</td>\n",
       "      <td>40</td>\n",
       "      <td>0</td>\n",
       "      <td>NaN</td>\n",
       "      <td>NaN</td>\n",
       "      <td>NaN</td>\n",
       "      <td>NaN</td>\n",
       "      <td>NaN</td>\n",
       "      <td>...</td>\n",
       "      <td>NaN</td>\n",
       "      <td>NaN</td>\n",
       "      <td>NaN</td>\n",
       "      <td>NaN</td>\n",
       "      <td>NaN</td>\n",
       "      <td>NaN</td>\n",
       "      <td>NaN</td>\n",
       "      <td>NaN</td>\n",
       "      <td>NaN</td>\n",
       "      <td>NaN</td>\n",
       "    </tr>\n",
       "    <tr>\n",
       "      <th>3</th>\n",
       "      <td>WUBZ</td>\n",
       "      <td>27</td>\n",
       "      <td>1000006</td>\n",
       "      <td>27</td>\n",
       "      <td>0</td>\n",
       "      <td>NaN</td>\n",
       "      <td>NaN</td>\n",
       "      <td>NaN</td>\n",
       "      <td>NaN</td>\n",
       "      <td>NaN</td>\n",
       "      <td>...</td>\n",
       "      <td>NaN</td>\n",
       "      <td>NaN</td>\n",
       "      <td>NaN</td>\n",
       "      <td>NaN</td>\n",
       "      <td>NaN</td>\n",
       "      <td>NaN</td>\n",
       "      <td>NaN</td>\n",
       "      <td>NaN</td>\n",
       "      <td>NaN</td>\n",
       "      <td>NaN</td>\n",
       "    </tr>\n",
       "    <tr>\n",
       "      <th>4</th>\n",
       "      <td>new</td>\n",
       "      <td>41</td>\n",
       "      <td>1000007</td>\n",
       "      <td>41</td>\n",
       "      <td>0</td>\n",
       "      <td>NaN</td>\n",
       "      <td>NaN</td>\n",
       "      <td>NaN</td>\n",
       "      <td>NaN</td>\n",
       "      <td>NaN</td>\n",
       "      <td>...</td>\n",
       "      <td>NaN</td>\n",
       "      <td>NaN</td>\n",
       "      <td>NaN</td>\n",
       "      <td>NaN</td>\n",
       "      <td>NaN</td>\n",
       "      <td>NaN</td>\n",
       "      <td>NaN</td>\n",
       "      <td>NaN</td>\n",
       "      <td>NaN</td>\n",
       "      <td>NaN</td>\n",
       "    </tr>\n",
       "  </tbody>\n",
       "</table>\n",
       "<p>5 rows × 36 columns</p>\n",
       "</div>"
      ],
      "text/plain": [
       "               name  num_holdouts      pid  num_tracks  num_samples   0  pos  \\\n",
       "0  spanish playlist            11  1000002          11            0 NaN  NaN   \n",
       "1           Groovin            48  1000003          48            0 NaN  NaN   \n",
       "2            uplift            40  1000004          40            0 NaN  NaN   \n",
       "3              WUBZ            27  1000006          27            0 NaN  NaN   \n",
       "4               new            41  1000007          41            0 NaN  NaN   \n",
       "\n",
       "  artist_name track_uri artist_uri  ...   id  uri  track_href analysis_url  \\\n",
       "0         NaN       NaN        NaN  ...  NaN  NaN         NaN          NaN   \n",
       "1         NaN       NaN        NaN  ...  NaN  NaN         NaN          NaN   \n",
       "2         NaN       NaN        NaN  ...  NaN  NaN         NaN          NaN   \n",
       "3         NaN       NaN        NaN  ...  NaN  NaN         NaN          NaN   \n",
       "4         NaN       NaN        NaN  ...  NaN  NaN         NaN          NaN   \n",
       "\n",
       "   duration_ms_y  time_signature  release_date  popularity  artist_pop  genres  \n",
       "0            NaN             NaN           NaN         NaN         NaN     NaN  \n",
       "1            NaN             NaN           NaN         NaN         NaN     NaN  \n",
       "2            NaN             NaN           NaN         NaN         NaN     NaN  \n",
       "3            NaN             NaN           NaN         NaN         NaN     NaN  \n",
       "4            NaN             NaN           NaN         NaN         NaN     NaN  \n",
       "\n",
       "[5 rows x 36 columns]"
      ]
     },
     "execution_count": 401,
     "metadata": {},
     "output_type": "execute_result"
    }
   ],
   "source": [
    "# Merging df with track_features based on 'track_uri'\n",
    "final_df = pd.merge(final_df, track_features, on='track_uri', how='outer')\n",
    "\n",
    "# Now, let's merge artist_features using the column 'track_uri' from final_df and '0' from artist_features\n",
    "final_df = pd.merge(final_df, artist_features, on='artist_uri', how='outer')\n",
    "\n",
    "# Drop duplicate columns (if any)\n",
    "final_df = final_df.loc[:, ~final_df.columns.duplicated()]\n",
    "\n",
    "# Display the first few rows of the final DataFrame\n",
    "final_df.head()\n"
   ]
  },
  {
   "cell_type": "code",
   "execution_count": 402,
   "metadata": {},
   "outputs": [
    {
     "data": {
      "text/html": [
       "<div>\n",
       "<style scoped>\n",
       "    .dataframe tbody tr th:only-of-type {\n",
       "        vertical-align: middle;\n",
       "    }\n",
       "\n",
       "    .dataframe tbody tr th {\n",
       "        vertical-align: top;\n",
       "    }\n",
       "\n",
       "    .dataframe thead th {\n",
       "        text-align: right;\n",
       "    }\n",
       "</style>\n",
       "<table border=\"1\" class=\"dataframe\">\n",
       "  <thead>\n",
       "    <tr style=\"text-align: right;\">\n",
       "      <th></th>\n",
       "      <th>name</th>\n",
       "      <th>num_holdouts</th>\n",
       "      <th>pid</th>\n",
       "      <th>num_tracks</th>\n",
       "      <th>num_samples</th>\n",
       "      <th>0</th>\n",
       "      <th>pos</th>\n",
       "      <th>artist_name</th>\n",
       "      <th>track_uri</th>\n",
       "      <th>artist_uri</th>\n",
       "      <th>...</th>\n",
       "      <th>liveness</th>\n",
       "      <th>valence</th>\n",
       "      <th>tempo</th>\n",
       "      <th>type</th>\n",
       "      <th>audio_duration_ms</th>\n",
       "      <th>time_signature</th>\n",
       "      <th>release_date</th>\n",
       "      <th>popularity</th>\n",
       "      <th>artist_pop</th>\n",
       "      <th>genres</th>\n",
       "    </tr>\n",
       "  </thead>\n",
       "  <tbody>\n",
       "    <tr>\n",
       "      <th>0</th>\n",
       "      <td>spanish playlist</td>\n",
       "      <td>11</td>\n",
       "      <td>1000002</td>\n",
       "      <td>11</td>\n",
       "      <td>0</td>\n",
       "      <td>NaN</td>\n",
       "      <td>NaN</td>\n",
       "      <td>NaN</td>\n",
       "      <td>NaN</td>\n",
       "      <td>NaN</td>\n",
       "      <td>...</td>\n",
       "      <td>NaN</td>\n",
       "      <td>NaN</td>\n",
       "      <td>NaN</td>\n",
       "      <td>NaN</td>\n",
       "      <td>NaN</td>\n",
       "      <td>NaN</td>\n",
       "      <td>NaN</td>\n",
       "      <td>NaN</td>\n",
       "      <td>NaN</td>\n",
       "      <td>NaN</td>\n",
       "    </tr>\n",
       "    <tr>\n",
       "      <th>1</th>\n",
       "      <td>Groovin</td>\n",
       "      <td>48</td>\n",
       "      <td>1000003</td>\n",
       "      <td>48</td>\n",
       "      <td>0</td>\n",
       "      <td>NaN</td>\n",
       "      <td>NaN</td>\n",
       "      <td>NaN</td>\n",
       "      <td>NaN</td>\n",
       "      <td>NaN</td>\n",
       "      <td>...</td>\n",
       "      <td>NaN</td>\n",
       "      <td>NaN</td>\n",
       "      <td>NaN</td>\n",
       "      <td>NaN</td>\n",
       "      <td>NaN</td>\n",
       "      <td>NaN</td>\n",
       "      <td>NaN</td>\n",
       "      <td>NaN</td>\n",
       "      <td>NaN</td>\n",
       "      <td>NaN</td>\n",
       "    </tr>\n",
       "    <tr>\n",
       "      <th>2</th>\n",
       "      <td>uplift</td>\n",
       "      <td>40</td>\n",
       "      <td>1000004</td>\n",
       "      <td>40</td>\n",
       "      <td>0</td>\n",
       "      <td>NaN</td>\n",
       "      <td>NaN</td>\n",
       "      <td>NaN</td>\n",
       "      <td>NaN</td>\n",
       "      <td>NaN</td>\n",
       "      <td>...</td>\n",
       "      <td>NaN</td>\n",
       "      <td>NaN</td>\n",
       "      <td>NaN</td>\n",
       "      <td>NaN</td>\n",
       "      <td>NaN</td>\n",
       "      <td>NaN</td>\n",
       "      <td>NaN</td>\n",
       "      <td>NaN</td>\n",
       "      <td>NaN</td>\n",
       "      <td>NaN</td>\n",
       "    </tr>\n",
       "    <tr>\n",
       "      <th>3</th>\n",
       "      <td>WUBZ</td>\n",
       "      <td>27</td>\n",
       "      <td>1000006</td>\n",
       "      <td>27</td>\n",
       "      <td>0</td>\n",
       "      <td>NaN</td>\n",
       "      <td>NaN</td>\n",
       "      <td>NaN</td>\n",
       "      <td>NaN</td>\n",
       "      <td>NaN</td>\n",
       "      <td>...</td>\n",
       "      <td>NaN</td>\n",
       "      <td>NaN</td>\n",
       "      <td>NaN</td>\n",
       "      <td>NaN</td>\n",
       "      <td>NaN</td>\n",
       "      <td>NaN</td>\n",
       "      <td>NaN</td>\n",
       "      <td>NaN</td>\n",
       "      <td>NaN</td>\n",
       "      <td>NaN</td>\n",
       "    </tr>\n",
       "    <tr>\n",
       "      <th>4</th>\n",
       "      <td>new</td>\n",
       "      <td>41</td>\n",
       "      <td>1000007</td>\n",
       "      <td>41</td>\n",
       "      <td>0</td>\n",
       "      <td>NaN</td>\n",
       "      <td>NaN</td>\n",
       "      <td>NaN</td>\n",
       "      <td>NaN</td>\n",
       "      <td>NaN</td>\n",
       "      <td>...</td>\n",
       "      <td>NaN</td>\n",
       "      <td>NaN</td>\n",
       "      <td>NaN</td>\n",
       "      <td>NaN</td>\n",
       "      <td>NaN</td>\n",
       "      <td>NaN</td>\n",
       "      <td>NaN</td>\n",
       "      <td>NaN</td>\n",
       "      <td>NaN</td>\n",
       "      <td>NaN</td>\n",
       "    </tr>\n",
       "  </tbody>\n",
       "</table>\n",
       "<p>5 rows × 32 columns</p>\n",
       "</div>"
      ],
      "text/plain": [
       "               name  num_holdouts      pid  num_tracks  num_samples   0  pos  \\\n",
       "0  spanish playlist            11  1000002          11            0 NaN  NaN   \n",
       "1           Groovin            48  1000003          48            0 NaN  NaN   \n",
       "2            uplift            40  1000004          40            0 NaN  NaN   \n",
       "3              WUBZ            27  1000006          27            0 NaN  NaN   \n",
       "4               new            41  1000007          41            0 NaN  NaN   \n",
       "\n",
       "  artist_name track_uri artist_uri  ... liveness valence  tempo type  \\\n",
       "0         NaN       NaN        NaN  ...      NaN     NaN    NaN  NaN   \n",
       "1         NaN       NaN        NaN  ...      NaN     NaN    NaN  NaN   \n",
       "2         NaN       NaN        NaN  ...      NaN     NaN    NaN  NaN   \n",
       "3         NaN       NaN        NaN  ...      NaN     NaN    NaN  NaN   \n",
       "4         NaN       NaN        NaN  ...      NaN     NaN    NaN  NaN   \n",
       "\n",
       "   audio_duration_ms  time_signature  release_date  popularity  artist_pop  \\\n",
       "0                NaN             NaN           NaN         NaN         NaN   \n",
       "1                NaN             NaN           NaN         NaN         NaN   \n",
       "2                NaN             NaN           NaN         NaN         NaN   \n",
       "3                NaN             NaN           NaN         NaN         NaN   \n",
       "4                NaN             NaN           NaN         NaN         NaN   \n",
       "\n",
       "   genres  \n",
       "0     NaN  \n",
       "1     NaN  \n",
       "2     NaN  \n",
       "3     NaN  \n",
       "4     NaN  \n",
       "\n",
       "[5 rows x 32 columns]"
      ]
     },
     "execution_count": 402,
     "metadata": {},
     "output_type": "execute_result"
    }
   ],
   "source": [
    "# Rename columns for clarity\n",
    "final_df.rename(columns={\n",
    " \n",
    "    'duration_ms_x': 'track_duration_ms',\n",
    "    'duration_ms_y': 'audio_duration_ms'\n",
    "    # ... other columns need renaming as per your preference\n",
    "}, inplace=True)\n",
    "\n",
    "# Drop duplicate columns or unwanted columns\n",
    "final_df = final_df.drop(['id', 'uri', 'track_href', 'analysis_url'], axis=1)\n",
    "\n",
    "# Display the modified DataFrame\n",
    "final_df.head()\n"
   ]
  },
  {
   "cell_type": "code",
   "execution_count": 403,
   "metadata": {},
   "outputs": [
    {
     "data": {
      "text/plain": [
       "name                  15254\n",
       "num_holdouts              0\n",
       "pid                       0\n",
       "num_tracks                0\n",
       "num_samples               0\n",
       "0                    287205\n",
       "pos                    1000\n",
       "artist_name            1000\n",
       "track_uri              1000\n",
       "artist_uri             1000\n",
       "track_name             1001\n",
       "album_uri              1000\n",
       "track_duration_ms      1000\n",
       "album_name             1000\n",
       "danceability          74117\n",
       "energy                74117\n",
       "key                   74117\n",
       "loudness              74117\n",
       "mode                  74117\n",
       "speechiness           74117\n",
       "acousticness          74117\n",
       "instrumentalness      74117\n",
       "liveness              74117\n",
       "valence               74117\n",
       "tempo                 74117\n",
       "type                  74117\n",
       "audio_duration_ms     74117\n",
       "time_signature        74117\n",
       "release_date           2967\n",
       "popularity             2967\n",
       "artist_pop            17702\n",
       "genres                17702\n",
       "dtype: int64"
      ]
     },
     "execution_count": 403,
     "metadata": {},
     "output_type": "execute_result"
    }
   ],
   "source": [
    "final_df.isna().sum()"
   ]
  },
  {
   "cell_type": "markdown",
   "metadata": {},
   "source": [
    "# Droping Unwanted Columns Save Space"
   ]
  },
  {
   "cell_type": "markdown",
   "metadata": {},
   "source": [
    "There were still 101 from audio_features and 576 from track_features extraction that were missing from the soptify api, so I had to drop them."
   ]
  },
  {
   "cell_type": "code",
   "execution_count": 404,
   "metadata": {},
   "outputs": [
    {
     "data": {
      "text/plain": [
       "(287205, 32)"
      ]
     },
     "execution_count": 404,
     "metadata": {},
     "output_type": "execute_result"
    }
   ],
   "source": [
    "final_df.shape"
   ]
  },
  {
   "cell_type": "code",
   "execution_count": 405,
   "metadata": {},
   "outputs": [
    {
     "data": {
      "text/plain": [
       "(287205, 32)"
      ]
     },
     "execution_count": 405,
     "metadata": {},
     "output_type": "execute_result"
    }
   ],
   "source": [
    "#final_df.dropna(axis=0,inplace=True)\n",
    "final_df.shape"
   ]
  },
  {
   "cell_type": "code",
   "execution_count": 406,
   "metadata": {},
   "outputs": [],
   "source": [
    "missing_t_uri=final_df.track_uri.isna()\n",
    "missing_t_uri=missing_t_uri.unique()\n",
    "random.shuffle(missing_t_uri)\n"
   ]
  },
  {
   "cell_type": "code",
   "execution_count": 407,
   "metadata": {},
   "outputs": [
    {
     "name": "stderr",
     "output_type": "stream",
     "text": [
      "100%|██████████| 2/2 [00:02<00:00,  1.01s/it]\n"
     ]
    }
   ],
   "source": [
    "f = open('track_features.csv','a')\n",
    "for i in tqdm(range(0,len(missing_t_uri),1)):\n",
    "    try:\n",
    "        track_features = sp.tracks(missing_t_uri[i:i+1])\n",
    "        for x in range(1):\n",
    "            track_pop=pd.DataFrame([missing_t_uri[i+x]])\n",
    "            track_pop['release_date']=track_features['tracks'][x]['album']['release_date']\n",
    "            track_pop['pop'] = track_features['tracks'][x][\"popularity\"]\n",
    "            csv_data = track_pop.to_csv(header=False,index=False)\n",
    "            f.write(csv_data)\n",
    "    except Exception as e:\n",
    "        r = open(\"extract_log.txt\", \"a\")\n",
    "        r.write(datetime.datetime.now().strftime(\"%d.%b %Y %H:%M:%S\")+\": \"+str(e)+'\\n')\n",
    "        r.close()\n",
    "        time.sleep(1)\n",
    "        continue\n",
    "f.close()"
   ]
  },
  {
   "cell_type": "code",
   "execution_count": 408,
   "metadata": {},
   "outputs": [
    {
     "name": "stderr",
     "output_type": "stream",
     "text": [
      "100%|██████████| 2/2 [00:02<00:00,  1.01s/it]\n"
     ]
    }
   ],
   "source": [
    "f = open('audio_features.csv','a')\n",
    "for i in tqdm(range(0,len(missing_t_uri),1)):\n",
    "    try:\n",
    "     track_feature = sp.audio_features(missing_t_uri[i:i+1])\n",
    "     track_df = pd.DataFrame(track_feature)\n",
    "     csv_data = track_df.to_csv(header=False,index=False)\n",
    "     f.write(csv_data)\n",
    "    except Exception as e:\n",
    "        r = open(\"extract_log0.txt\", \"a\")\n",
    "        r.write(datetime.datetime.now().strftime(\"%d.%b %Y %H:%M:%S\")+\": \"+str(e)+'\\n')\n",
    "        r.close()\n",
    "        time.sleep(1)\n",
    "        continue\n",
    "f.close()"
   ]
  },
  {
   "cell_type": "code",
   "execution_count": 409,
   "metadata": {},
   "outputs": [
    {
     "data": {
      "text/plain": [
       "Index(['name', 'num_holdouts', 'pid', 'num_tracks', 'num_samples', '0', 'pos',\n",
       "       'artist_name', 'track_uri', 'artist_uri', 'track_name', 'album_uri',\n",
       "       'track_duration_ms', 'album_name', 'danceability', 'energy', 'key',\n",
       "       'loudness', 'mode', 'speechiness', 'acousticness', 'instrumentalness',\n",
       "       'liveness', 'valence', 'tempo', 'type', 'audio_duration_ms',\n",
       "       'time_signature', 'release_date', 'popularity', 'artist_pop', 'genres'],\n",
       "      dtype='object')"
      ]
     },
     "execution_count": 409,
     "metadata": {},
     "output_type": "execute_result"
    }
   ],
   "source": [
    "final_df.columns"
   ]
  },
  {
   "cell_type": "code",
   "execution_count": 410,
   "metadata": {},
   "outputs": [],
   "source": [
    "final_df.dropna(subset='track_uri',inplace=True)"
   ]
  },
  {
   "cell_type": "code",
   "execution_count": 411,
   "metadata": {},
   "outputs": [
    {
     "data": {
      "text/html": [
       "<div>\n",
       "<style scoped>\n",
       "    .dataframe tbody tr th:only-of-type {\n",
       "        vertical-align: middle;\n",
       "    }\n",
       "\n",
       "    .dataframe tbody tr th {\n",
       "        vertical-align: top;\n",
       "    }\n",
       "\n",
       "    .dataframe thead th {\n",
       "        text-align: right;\n",
       "    }\n",
       "</style>\n",
       "<table border=\"1\" class=\"dataframe\">\n",
       "  <thead>\n",
       "    <tr style=\"text-align: right;\">\n",
       "      <th></th>\n",
       "      <th>name</th>\n",
       "      <th>num_holdouts</th>\n",
       "      <th>pid</th>\n",
       "      <th>num_tracks</th>\n",
       "      <th>num_samples</th>\n",
       "      <th>0</th>\n",
       "      <th>pos</th>\n",
       "      <th>artist_name</th>\n",
       "      <th>track_uri</th>\n",
       "      <th>artist_uri</th>\n",
       "      <th>...</th>\n",
       "      <th>liveness</th>\n",
       "      <th>valence</th>\n",
       "      <th>tempo</th>\n",
       "      <th>type</th>\n",
       "      <th>audio_duration_ms</th>\n",
       "      <th>time_signature</th>\n",
       "      <th>release_date</th>\n",
       "      <th>popularity</th>\n",
       "      <th>artist_pop</th>\n",
       "      <th>genres</th>\n",
       "    </tr>\n",
       "  </thead>\n",
       "  <tbody>\n",
       "    <tr>\n",
       "      <th>1000</th>\n",
       "      <td>Party</td>\n",
       "      <td>70</td>\n",
       "      <td>1000000</td>\n",
       "      <td>75</td>\n",
       "      <td>5</td>\n",
       "      <td>NaN</td>\n",
       "      <td>0.0</td>\n",
       "      <td>AronChupa</td>\n",
       "      <td>66U0ASk1VHZsqIkpMjKX3B</td>\n",
       "      <td>5vCOdeiQt9LyzdI87kt5Sh</td>\n",
       "      <td>...</td>\n",
       "      <td>NaN</td>\n",
       "      <td>NaN</td>\n",
       "      <td>NaN</td>\n",
       "      <td>NaN</td>\n",
       "      <td>NaN</td>\n",
       "      <td>NaN</td>\n",
       "      <td>NaN</td>\n",
       "      <td>NaN</td>\n",
       "      <td>NaN</td>\n",
       "      <td>NaN</td>\n",
       "    </tr>\n",
       "    <tr>\n",
       "      <th>1001</th>\n",
       "      <td>Party 1</td>\n",
       "      <td>54</td>\n",
       "      <td>1039848</td>\n",
       "      <td>154</td>\n",
       "      <td>100</td>\n",
       "      <td>NaN</td>\n",
       "      <td>130.0</td>\n",
       "      <td>AronChupa</td>\n",
       "      <td>66U0ASk1VHZsqIkpMjKX3B</td>\n",
       "      <td>5vCOdeiQt9LyzdI87kt5Sh</td>\n",
       "      <td>...</td>\n",
       "      <td>NaN</td>\n",
       "      <td>NaN</td>\n",
       "      <td>NaN</td>\n",
       "      <td>NaN</td>\n",
       "      <td>NaN</td>\n",
       "      <td>NaN</td>\n",
       "      <td>NaN</td>\n",
       "      <td>NaN</td>\n",
       "      <td>NaN</td>\n",
       "      <td>NaN</td>\n",
       "    </tr>\n",
       "    <tr>\n",
       "      <th>1002</th>\n",
       "      <td>Party</td>\n",
       "      <td>70</td>\n",
       "      <td>1000000</td>\n",
       "      <td>75</td>\n",
       "      <td>5</td>\n",
       "      <td>NaN</td>\n",
       "      <td>1.0</td>\n",
       "      <td>AronChupa</td>\n",
       "      <td>5MhsZlmKJG6X5kTHkdwC4B</td>\n",
       "      <td>5vCOdeiQt9LyzdI87kt5Sh</td>\n",
       "      <td>...</td>\n",
       "      <td>NaN</td>\n",
       "      <td>NaN</td>\n",
       "      <td>NaN</td>\n",
       "      <td>NaN</td>\n",
       "      <td>NaN</td>\n",
       "      <td>NaN</td>\n",
       "      <td>NaN</td>\n",
       "      <td>NaN</td>\n",
       "      <td>NaN</td>\n",
       "      <td>NaN</td>\n",
       "    </tr>\n",
       "    <tr>\n",
       "      <th>1003</th>\n",
       "      <td>AC</td>\n",
       "      <td>39</td>\n",
       "      <td>1009575</td>\n",
       "      <td>49</td>\n",
       "      <td>10</td>\n",
       "      <td>NaN</td>\n",
       "      <td>2.0</td>\n",
       "      <td>AronChupa</td>\n",
       "      <td>5MhsZlmKJG6X5kTHkdwC4B</td>\n",
       "      <td>5vCOdeiQt9LyzdI87kt5Sh</td>\n",
       "      <td>...</td>\n",
       "      <td>NaN</td>\n",
       "      <td>NaN</td>\n",
       "      <td>NaN</td>\n",
       "      <td>NaN</td>\n",
       "      <td>NaN</td>\n",
       "      <td>NaN</td>\n",
       "      <td>NaN</td>\n",
       "      <td>NaN</td>\n",
       "      <td>NaN</td>\n",
       "      <td>NaN</td>\n",
       "    </tr>\n",
       "    <tr>\n",
       "      <th>1004</th>\n",
       "      <td>Party</td>\n",
       "      <td>76</td>\n",
       "      <td>1007292</td>\n",
       "      <td>101</td>\n",
       "      <td>25</td>\n",
       "      <td>NaN</td>\n",
       "      <td>32.0</td>\n",
       "      <td>AronChupa</td>\n",
       "      <td>5MhsZlmKJG6X5kTHkdwC4B</td>\n",
       "      <td>5vCOdeiQt9LyzdI87kt5Sh</td>\n",
       "      <td>...</td>\n",
       "      <td>NaN</td>\n",
       "      <td>NaN</td>\n",
       "      <td>NaN</td>\n",
       "      <td>NaN</td>\n",
       "      <td>NaN</td>\n",
       "      <td>NaN</td>\n",
       "      <td>NaN</td>\n",
       "      <td>NaN</td>\n",
       "      <td>NaN</td>\n",
       "      <td>NaN</td>\n",
       "    </tr>\n",
       "  </tbody>\n",
       "</table>\n",
       "<p>5 rows × 32 columns</p>\n",
       "</div>"
      ],
      "text/plain": [
       "         name  num_holdouts      pid  num_tracks  num_samples   0    pos  \\\n",
       "1000    Party            70  1000000          75            5 NaN    0.0   \n",
       "1001  Party 1            54  1039848         154          100 NaN  130.0   \n",
       "1002    Party            70  1000000          75            5 NaN    1.0   \n",
       "1003       AC            39  1009575          49           10 NaN    2.0   \n",
       "1004    Party            76  1007292         101           25 NaN   32.0   \n",
       "\n",
       "     artist_name               track_uri              artist_uri  ...  \\\n",
       "1000   AronChupa  66U0ASk1VHZsqIkpMjKX3B  5vCOdeiQt9LyzdI87kt5Sh  ...   \n",
       "1001   AronChupa  66U0ASk1VHZsqIkpMjKX3B  5vCOdeiQt9LyzdI87kt5Sh  ...   \n",
       "1002   AronChupa  5MhsZlmKJG6X5kTHkdwC4B  5vCOdeiQt9LyzdI87kt5Sh  ...   \n",
       "1003   AronChupa  5MhsZlmKJG6X5kTHkdwC4B  5vCOdeiQt9LyzdI87kt5Sh  ...   \n",
       "1004   AronChupa  5MhsZlmKJG6X5kTHkdwC4B  5vCOdeiQt9LyzdI87kt5Sh  ...   \n",
       "\n",
       "     liveness valence  tempo type  audio_duration_ms  time_signature  \\\n",
       "1000      NaN     NaN    NaN  NaN                NaN             NaN   \n",
       "1001      NaN     NaN    NaN  NaN                NaN             NaN   \n",
       "1002      NaN     NaN    NaN  NaN                NaN             NaN   \n",
       "1003      NaN     NaN    NaN  NaN                NaN             NaN   \n",
       "1004      NaN     NaN    NaN  NaN                NaN             NaN   \n",
       "\n",
       "      release_date  popularity  artist_pop  genres  \n",
       "1000           NaN         NaN         NaN     NaN  \n",
       "1001           NaN         NaN         NaN     NaN  \n",
       "1002           NaN         NaN         NaN     NaN  \n",
       "1003           NaN         NaN         NaN     NaN  \n",
       "1004           NaN         NaN         NaN     NaN  \n",
       "\n",
       "[5 rows x 32 columns]"
      ]
     },
     "execution_count": 411,
     "metadata": {},
     "output_type": "execute_result"
    }
   ],
   "source": [
    "final_df.head()"
   ]
  },
  {
   "cell_type": "code",
   "execution_count": 412,
   "metadata": {},
   "outputs": [
    {
     "data": {
      "text/plain": [
       "(286205, 32)"
      ]
     },
     "execution_count": 412,
     "metadata": {},
     "output_type": "execute_result"
    }
   ],
   "source": [
    "final_df.shape"
   ]
  },
  {
   "cell_type": "code",
   "execution_count": 413,
   "metadata": {},
   "outputs": [],
   "source": [
    "final_df.drop('0',axis=1,inplace=True)"
   ]
  },
  {
   "cell_type": "code",
   "execution_count": 414,
   "metadata": {},
   "outputs": [
    {
     "data": {
      "text/plain": [
       "name                 15254\n",
       "num_holdouts             0\n",
       "pid                      0\n",
       "num_tracks               0\n",
       "num_samples              0\n",
       "pos                      0\n",
       "artist_name              0\n",
       "track_uri                0\n",
       "artist_uri               0\n",
       "track_name               1\n",
       "album_uri                0\n",
       "track_duration_ms        0\n",
       "album_name               0\n",
       "danceability         73117\n",
       "energy               73117\n",
       "key                  73117\n",
       "loudness             73117\n",
       "mode                 73117\n",
       "speechiness          73117\n",
       "acousticness         73117\n",
       "instrumentalness     73117\n",
       "liveness             73117\n",
       "valence              73117\n",
       "tempo                73117\n",
       "type                 73117\n",
       "audio_duration_ms    73117\n",
       "time_signature       73117\n",
       "release_date          1967\n",
       "popularity            1967\n",
       "artist_pop           16702\n",
       "genres               16702\n",
       "dtype: int64"
      ]
     },
     "execution_count": 414,
     "metadata": {},
     "output_type": "execute_result"
    }
   ],
   "source": [
    "final_df.isna().sum()"
   ]
  },
  {
   "cell_type": "code",
   "execution_count": 416,
   "metadata": {},
   "outputs": [],
   "source": [
    "final_df.to_csv('../Data/1M_unique_processed_data.csv',index=False)"
   ]
  }
 ],
 "metadata": {
  "kernelspec": {
   "display_name": "Python 3.9.13 ('base')",
   "language": "python",
   "name": "python3"
  },
  "language_info": {
   "codemirror_mode": {
    "name": "ipython",
    "version": 3
   },
   "file_extension": ".py",
   "mimetype": "text/x-python",
   "name": "python",
   "nbconvert_exporter": "python",
   "pygments_lexer": "ipython3",
   "version": "3.11.6"
  },
  "orig_nbformat": 4,
  "vscode": {
   "interpreter": {
    "hash": "e246d2215c418239c9316a1ebf2d8abb44dc50b2e5b0e29defd87143398aa387"
   }
  }
 },
 "nbformat": 4,
 "nbformat_minor": 2
}
