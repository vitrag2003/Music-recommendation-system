{
 "cells": [
  {
   "cell_type": "code",
   "execution_count": 1,
   "metadata": {},
   "outputs": [],
   "source": [
    "import pandas as pd\n",
    "import numpy as np"
   ]
  },
  {
   "cell_type": "code",
   "execution_count": 2,
   "metadata": {},
   "outputs": [],
   "source": [
    "df=pd.read_csv('1M_unique_processed_data.csv')"
   ]
  },
  {
   "cell_type": "code",
   "execution_count": 3,
   "metadata": {},
   "outputs": [
    {
     "data": {
      "text/html": [
       "<div>\n",
       "<style scoped>\n",
       "    .dataframe tbody tr th:only-of-type {\n",
       "        vertical-align: middle;\n",
       "    }\n",
       "\n",
       "    .dataframe tbody tr th {\n",
       "        vertical-align: top;\n",
       "    }\n",
       "\n",
       "    .dataframe thead th {\n",
       "        text-align: right;\n",
       "    }\n",
       "</style>\n",
       "<table border=\"1\" class=\"dataframe\">\n",
       "  <thead>\n",
       "    <tr style=\"text-align: right;\">\n",
       "      <th></th>\n",
       "      <th>name</th>\n",
       "      <th>num_holdouts</th>\n",
       "      <th>pid</th>\n",
       "      <th>num_tracks</th>\n",
       "      <th>num_samples</th>\n",
       "      <th>pos</th>\n",
       "      <th>artist_name</th>\n",
       "      <th>track_uri</th>\n",
       "      <th>artist_uri</th>\n",
       "      <th>track_name</th>\n",
       "      <th>...</th>\n",
       "      <th>liveness</th>\n",
       "      <th>valence</th>\n",
       "      <th>tempo</th>\n",
       "      <th>type</th>\n",
       "      <th>audio_duration_ms</th>\n",
       "      <th>time_signature</th>\n",
       "      <th>release_date</th>\n",
       "      <th>popularity</th>\n",
       "      <th>artist_pop</th>\n",
       "      <th>genres</th>\n",
       "    </tr>\n",
       "  </thead>\n",
       "  <tbody>\n",
       "    <tr>\n",
       "      <th>0</th>\n",
       "      <td>Party</td>\n",
       "      <td>70</td>\n",
       "      <td>1000000</td>\n",
       "      <td>75</td>\n",
       "      <td>5</td>\n",
       "      <td>0.0</td>\n",
       "      <td>AronChupa</td>\n",
       "      <td>66U0ASk1VHZsqIkpMjKX3B</td>\n",
       "      <td>5vCOdeiQt9LyzdI87kt5Sh</td>\n",
       "      <td>Little Swing</td>\n",
       "      <td>...</td>\n",
       "      <td>NaN</td>\n",
       "      <td>NaN</td>\n",
       "      <td>NaN</td>\n",
       "      <td>NaN</td>\n",
       "      <td>NaN</td>\n",
       "      <td>NaN</td>\n",
       "      <td>NaN</td>\n",
       "      <td>NaN</td>\n",
       "      <td>NaN</td>\n",
       "      <td>NaN</td>\n",
       "    </tr>\n",
       "    <tr>\n",
       "      <th>1</th>\n",
       "      <td>Party 1</td>\n",
       "      <td>54</td>\n",
       "      <td>1039848</td>\n",
       "      <td>154</td>\n",
       "      <td>100</td>\n",
       "      <td>130.0</td>\n",
       "      <td>AronChupa</td>\n",
       "      <td>66U0ASk1VHZsqIkpMjKX3B</td>\n",
       "      <td>5vCOdeiQt9LyzdI87kt5Sh</td>\n",
       "      <td>Little Swing</td>\n",
       "      <td>...</td>\n",
       "      <td>NaN</td>\n",
       "      <td>NaN</td>\n",
       "      <td>NaN</td>\n",
       "      <td>NaN</td>\n",
       "      <td>NaN</td>\n",
       "      <td>NaN</td>\n",
       "      <td>NaN</td>\n",
       "      <td>NaN</td>\n",
       "      <td>NaN</td>\n",
       "      <td>NaN</td>\n",
       "    </tr>\n",
       "    <tr>\n",
       "      <th>2</th>\n",
       "      <td>Party</td>\n",
       "      <td>70</td>\n",
       "      <td>1000000</td>\n",
       "      <td>75</td>\n",
       "      <td>5</td>\n",
       "      <td>1.0</td>\n",
       "      <td>AronChupa</td>\n",
       "      <td>5MhsZlmKJG6X5kTHkdwC4B</td>\n",
       "      <td>5vCOdeiQt9LyzdI87kt5Sh</td>\n",
       "      <td>I'm an Albatraoz</td>\n",
       "      <td>...</td>\n",
       "      <td>NaN</td>\n",
       "      <td>NaN</td>\n",
       "      <td>NaN</td>\n",
       "      <td>NaN</td>\n",
       "      <td>NaN</td>\n",
       "      <td>NaN</td>\n",
       "      <td>NaN</td>\n",
       "      <td>NaN</td>\n",
       "      <td>NaN</td>\n",
       "      <td>NaN</td>\n",
       "    </tr>\n",
       "    <tr>\n",
       "      <th>3</th>\n",
       "      <td>AC</td>\n",
       "      <td>39</td>\n",
       "      <td>1009575</td>\n",
       "      <td>49</td>\n",
       "      <td>10</td>\n",
       "      <td>2.0</td>\n",
       "      <td>AronChupa</td>\n",
       "      <td>5MhsZlmKJG6X5kTHkdwC4B</td>\n",
       "      <td>5vCOdeiQt9LyzdI87kt5Sh</td>\n",
       "      <td>I'm an Albatraoz</td>\n",
       "      <td>...</td>\n",
       "      <td>NaN</td>\n",
       "      <td>NaN</td>\n",
       "      <td>NaN</td>\n",
       "      <td>NaN</td>\n",
       "      <td>NaN</td>\n",
       "      <td>NaN</td>\n",
       "      <td>NaN</td>\n",
       "      <td>NaN</td>\n",
       "      <td>NaN</td>\n",
       "      <td>NaN</td>\n",
       "    </tr>\n",
       "    <tr>\n",
       "      <th>4</th>\n",
       "      <td>Party</td>\n",
       "      <td>76</td>\n",
       "      <td>1007292</td>\n",
       "      <td>101</td>\n",
       "      <td>25</td>\n",
       "      <td>32.0</td>\n",
       "      <td>AronChupa</td>\n",
       "      <td>5MhsZlmKJG6X5kTHkdwC4B</td>\n",
       "      <td>5vCOdeiQt9LyzdI87kt5Sh</td>\n",
       "      <td>I'm an Albatraoz</td>\n",
       "      <td>...</td>\n",
       "      <td>NaN</td>\n",
       "      <td>NaN</td>\n",
       "      <td>NaN</td>\n",
       "      <td>NaN</td>\n",
       "      <td>NaN</td>\n",
       "      <td>NaN</td>\n",
       "      <td>NaN</td>\n",
       "      <td>NaN</td>\n",
       "      <td>NaN</td>\n",
       "      <td>NaN</td>\n",
       "    </tr>\n",
       "  </tbody>\n",
       "</table>\n",
       "<p>5 rows × 31 columns</p>\n",
       "</div>"
      ],
      "text/plain": [
       "      name  num_holdouts      pid  num_tracks  num_samples    pos artist_name  \\\n",
       "0    Party            70  1000000          75            5    0.0   AronChupa   \n",
       "1  Party 1            54  1039848         154          100  130.0   AronChupa   \n",
       "2    Party            70  1000000          75            5    1.0   AronChupa   \n",
       "3       AC            39  1009575          49           10    2.0   AronChupa   \n",
       "4    Party            76  1007292         101           25   32.0   AronChupa   \n",
       "\n",
       "                track_uri              artist_uri        track_name  ...  \\\n",
       "0  66U0ASk1VHZsqIkpMjKX3B  5vCOdeiQt9LyzdI87kt5Sh      Little Swing  ...   \n",
       "1  66U0ASk1VHZsqIkpMjKX3B  5vCOdeiQt9LyzdI87kt5Sh      Little Swing  ...   \n",
       "2  5MhsZlmKJG6X5kTHkdwC4B  5vCOdeiQt9LyzdI87kt5Sh  I'm an Albatraoz  ...   \n",
       "3  5MhsZlmKJG6X5kTHkdwC4B  5vCOdeiQt9LyzdI87kt5Sh  I'm an Albatraoz  ...   \n",
       "4  5MhsZlmKJG6X5kTHkdwC4B  5vCOdeiQt9LyzdI87kt5Sh  I'm an Albatraoz  ...   \n",
       "\n",
       "  liveness  valence tempo  type  audio_duration_ms  time_signature  \\\n",
       "0      NaN      NaN   NaN   NaN                NaN             NaN   \n",
       "1      NaN      NaN   NaN   NaN                NaN             NaN   \n",
       "2      NaN      NaN   NaN   NaN                NaN             NaN   \n",
       "3      NaN      NaN   NaN   NaN                NaN             NaN   \n",
       "4      NaN      NaN   NaN   NaN                NaN             NaN   \n",
       "\n",
       "   release_date  popularity  artist_pop  genres  \n",
       "0           NaN         NaN         NaN     NaN  \n",
       "1           NaN         NaN         NaN     NaN  \n",
       "2           NaN         NaN         NaN     NaN  \n",
       "3           NaN         NaN         NaN     NaN  \n",
       "4           NaN         NaN         NaN     NaN  \n",
       "\n",
       "[5 rows x 31 columns]"
      ]
     },
     "execution_count": 3,
     "metadata": {},
     "output_type": "execute_result"
    }
   ],
   "source": [
    "df.head()"
   ]
  },
  {
   "cell_type": "code",
   "execution_count": 4,
   "metadata": {},
   "outputs": [
    {
     "data": {
      "text/plain": [
       "(286205, 31)"
      ]
     },
     "execution_count": 4,
     "metadata": {},
     "output_type": "execute_result"
    }
   ],
   "source": [
    "df.shape"
   ]
  },
  {
   "cell_type": "code",
   "execution_count": 5,
   "metadata": {},
   "outputs": [],
   "source": [
    "df.drop_duplicates(subset='track_uri', keep='first', inplace=True)"
   ]
  },
  {
   "cell_type": "code",
   "execution_count": 6,
   "metadata": {},
   "outputs": [
    {
     "data": {
      "text/plain": [
       "(66243, 31)"
      ]
     },
     "execution_count": 6,
     "metadata": {},
     "output_type": "execute_result"
    }
   ],
   "source": [
    "df.shape"
   ]
  },
  {
   "cell_type": "code",
   "execution_count": 7,
   "metadata": {},
   "outputs": [
    {
     "data": {
      "text/html": [
       "<div>\n",
       "<style scoped>\n",
       "    .dataframe tbody tr th:only-of-type {\n",
       "        vertical-align: middle;\n",
       "    }\n",
       "\n",
       "    .dataframe tbody tr th {\n",
       "        vertical-align: top;\n",
       "    }\n",
       "\n",
       "    .dataframe thead th {\n",
       "        text-align: right;\n",
       "    }\n",
       "</style>\n",
       "<table border=\"1\" class=\"dataframe\">\n",
       "  <thead>\n",
       "    <tr style=\"text-align: right;\">\n",
       "      <th></th>\n",
       "      <th>name</th>\n",
       "      <th>num_holdouts</th>\n",
       "      <th>pid</th>\n",
       "      <th>num_tracks</th>\n",
       "      <th>num_samples</th>\n",
       "      <th>pos</th>\n",
       "      <th>artist_name</th>\n",
       "      <th>track_uri</th>\n",
       "      <th>artist_uri</th>\n",
       "      <th>track_name</th>\n",
       "      <th>...</th>\n",
       "      <th>liveness</th>\n",
       "      <th>valence</th>\n",
       "      <th>tempo</th>\n",
       "      <th>type</th>\n",
       "      <th>audio_duration_ms</th>\n",
       "      <th>time_signature</th>\n",
       "      <th>release_date</th>\n",
       "      <th>popularity</th>\n",
       "      <th>artist_pop</th>\n",
       "      <th>genres</th>\n",
       "    </tr>\n",
       "  </thead>\n",
       "  <tbody>\n",
       "    <tr>\n",
       "      <th>0</th>\n",
       "      <td>Party</td>\n",
       "      <td>70</td>\n",
       "      <td>1000000</td>\n",
       "      <td>75</td>\n",
       "      <td>5</td>\n",
       "      <td>0.0</td>\n",
       "      <td>AronChupa</td>\n",
       "      <td>66U0ASk1VHZsqIkpMjKX3B</td>\n",
       "      <td>5vCOdeiQt9LyzdI87kt5Sh</td>\n",
       "      <td>Little Swing</td>\n",
       "      <td>...</td>\n",
       "      <td>NaN</td>\n",
       "      <td>NaN</td>\n",
       "      <td>NaN</td>\n",
       "      <td>NaN</td>\n",
       "      <td>NaN</td>\n",
       "      <td>NaN</td>\n",
       "      <td>NaN</td>\n",
       "      <td>NaN</td>\n",
       "      <td>NaN</td>\n",
       "      <td>NaN</td>\n",
       "    </tr>\n",
       "    <tr>\n",
       "      <th>2</th>\n",
       "      <td>Party</td>\n",
       "      <td>70</td>\n",
       "      <td>1000000</td>\n",
       "      <td>75</td>\n",
       "      <td>5</td>\n",
       "      <td>1.0</td>\n",
       "      <td>AronChupa</td>\n",
       "      <td>5MhsZlmKJG6X5kTHkdwC4B</td>\n",
       "      <td>5vCOdeiQt9LyzdI87kt5Sh</td>\n",
       "      <td>I'm an Albatraoz</td>\n",
       "      <td>...</td>\n",
       "      <td>NaN</td>\n",
       "      <td>NaN</td>\n",
       "      <td>NaN</td>\n",
       "      <td>NaN</td>\n",
       "      <td>NaN</td>\n",
       "      <td>NaN</td>\n",
       "      <td>NaN</td>\n",
       "      <td>NaN</td>\n",
       "      <td>NaN</td>\n",
       "      <td>NaN</td>\n",
       "    </tr>\n",
       "    <tr>\n",
       "      <th>15</th>\n",
       "      <td>Happy Beats</td>\n",
       "      <td>56</td>\n",
       "      <td>1027019</td>\n",
       "      <td>156</td>\n",
       "      <td>100</td>\n",
       "      <td>80.0</td>\n",
       "      <td>AronChupa</td>\n",
       "      <td>3MBwTrIg7HrNXSFVQ5rj41</td>\n",
       "      <td>5vCOdeiQt9LyzdI87kt5Sh</td>\n",
       "      <td>Bad Water</td>\n",
       "      <td>...</td>\n",
       "      <td>0.459</td>\n",
       "      <td>0.67</td>\n",
       "      <td>123.016</td>\n",
       "      <td>audio_features</td>\n",
       "      <td>210000.0</td>\n",
       "      <td>4.0</td>\n",
       "      <td>2017-06-09</td>\n",
       "      <td>0.0</td>\n",
       "      <td>NaN</td>\n",
       "      <td>NaN</td>\n",
       "    </tr>\n",
       "    <tr>\n",
       "      <th>16</th>\n",
       "      <td>Party</td>\n",
       "      <td>70</td>\n",
       "      <td>1000000</td>\n",
       "      <td>75</td>\n",
       "      <td>5</td>\n",
       "      <td>2.0</td>\n",
       "      <td>Lorde</td>\n",
       "      <td>0GZoB8h0kqXn7XFm4Sj06k</td>\n",
       "      <td>163tK9Wjr9P9DmM0AVK7lm</td>\n",
       "      <td>Yellow Flicker Beat - From The Hunger Games: M...</td>\n",
       "      <td>...</td>\n",
       "      <td>NaN</td>\n",
       "      <td>NaN</td>\n",
       "      <td>NaN</td>\n",
       "      <td>NaN</td>\n",
       "      <td>NaN</td>\n",
       "      <td>NaN</td>\n",
       "      <td>NaN</td>\n",
       "      <td>NaN</td>\n",
       "      <td>NaN</td>\n",
       "      <td>NaN</td>\n",
       "    </tr>\n",
       "    <tr>\n",
       "      <th>28</th>\n",
       "      <td>Party</td>\n",
       "      <td>70</td>\n",
       "      <td>1000000</td>\n",
       "      <td>75</td>\n",
       "      <td>5</td>\n",
       "      <td>3.0</td>\n",
       "      <td>Lorde</td>\n",
       "      <td>35kahykNu00FPysz3C2euR</td>\n",
       "      <td>163tK9Wjr9P9DmM0AVK7lm</td>\n",
       "      <td>White Teeth Teens</td>\n",
       "      <td>...</td>\n",
       "      <td>NaN</td>\n",
       "      <td>NaN</td>\n",
       "      <td>NaN</td>\n",
       "      <td>NaN</td>\n",
       "      <td>NaN</td>\n",
       "      <td>NaN</td>\n",
       "      <td>NaN</td>\n",
       "      <td>NaN</td>\n",
       "      <td>NaN</td>\n",
       "      <td>NaN</td>\n",
       "    </tr>\n",
       "  </tbody>\n",
       "</table>\n",
       "<p>5 rows × 31 columns</p>\n",
       "</div>"
      ],
      "text/plain": [
       "           name  num_holdouts      pid  num_tracks  num_samples   pos  \\\n",
       "0         Party            70  1000000          75            5   0.0   \n",
       "2         Party            70  1000000          75            5   1.0   \n",
       "15  Happy Beats            56  1027019         156          100  80.0   \n",
       "16        Party            70  1000000          75            5   2.0   \n",
       "28        Party            70  1000000          75            5   3.0   \n",
       "\n",
       "   artist_name               track_uri              artist_uri  \\\n",
       "0    AronChupa  66U0ASk1VHZsqIkpMjKX3B  5vCOdeiQt9LyzdI87kt5Sh   \n",
       "2    AronChupa  5MhsZlmKJG6X5kTHkdwC4B  5vCOdeiQt9LyzdI87kt5Sh   \n",
       "15   AronChupa  3MBwTrIg7HrNXSFVQ5rj41  5vCOdeiQt9LyzdI87kt5Sh   \n",
       "16       Lorde  0GZoB8h0kqXn7XFm4Sj06k  163tK9Wjr9P9DmM0AVK7lm   \n",
       "28       Lorde  35kahykNu00FPysz3C2euR  163tK9Wjr9P9DmM0AVK7lm   \n",
       "\n",
       "                                           track_name  ... liveness  valence  \\\n",
       "0                                        Little Swing  ...      NaN      NaN   \n",
       "2                                    I'm an Albatraoz  ...      NaN      NaN   \n",
       "15                                          Bad Water  ...    0.459     0.67   \n",
       "16  Yellow Flicker Beat - From The Hunger Games: M...  ...      NaN      NaN   \n",
       "28                                  White Teeth Teens  ...      NaN      NaN   \n",
       "\n",
       "      tempo            type  audio_duration_ms  time_signature  release_date  \\\n",
       "0       NaN             NaN                NaN             NaN           NaN   \n",
       "2       NaN             NaN                NaN             NaN           NaN   \n",
       "15  123.016  audio_features           210000.0             4.0    2017-06-09   \n",
       "16      NaN             NaN                NaN             NaN           NaN   \n",
       "28      NaN             NaN                NaN             NaN           NaN   \n",
       "\n",
       "    popularity  artist_pop  genres  \n",
       "0          NaN         NaN     NaN  \n",
       "2          NaN         NaN     NaN  \n",
       "15         0.0         NaN     NaN  \n",
       "16         NaN         NaN     NaN  \n",
       "28         NaN         NaN     NaN  \n",
       "\n",
       "[5 rows x 31 columns]"
      ]
     },
     "execution_count": 7,
     "metadata": {},
     "output_type": "execute_result"
    }
   ],
   "source": [
    "df.head()"
   ]
  },
  {
   "cell_type": "code",
   "execution_count": 8,
   "metadata": {},
   "outputs": [],
   "source": [
    "df.dropna(subset=['release_date'], inplace=True)"
   ]
  },
  {
   "cell_type": "code",
   "execution_count": 9,
   "metadata": {},
   "outputs": [],
   "source": [
    "columns_to_keep = ['track_uri', 'artist_name','track_name','release_date']\n",
    "df = df[columns_to_keep]\n"
   ]
  },
  {
   "cell_type": "code",
   "execution_count": 10,
   "metadata": {},
   "outputs": [
    {
     "data": {
      "text/html": [
       "<div>\n",
       "<style scoped>\n",
       "    .dataframe tbody tr th:only-of-type {\n",
       "        vertical-align: middle;\n",
       "    }\n",
       "\n",
       "    .dataframe tbody tr th {\n",
       "        vertical-align: top;\n",
       "    }\n",
       "\n",
       "    .dataframe thead th {\n",
       "        text-align: right;\n",
       "    }\n",
       "</style>\n",
       "<table border=\"1\" class=\"dataframe\">\n",
       "  <thead>\n",
       "    <tr style=\"text-align: right;\">\n",
       "      <th></th>\n",
       "      <th>track_uri</th>\n",
       "      <th>artist_name</th>\n",
       "      <th>track_name</th>\n",
       "      <th>release_date</th>\n",
       "    </tr>\n",
       "  </thead>\n",
       "  <tbody>\n",
       "    <tr>\n",
       "      <th>15</th>\n",
       "      <td>3MBwTrIg7HrNXSFVQ5rj41</td>\n",
       "      <td>AronChupa</td>\n",
       "      <td>Bad Water</td>\n",
       "      <td>2017-06-09</td>\n",
       "    </tr>\n",
       "    <tr>\n",
       "      <th>76</th>\n",
       "      <td>0gbBzIqrECJOEPvQJIBFs5</td>\n",
       "      <td>Lorde</td>\n",
       "      <td>Green Light</td>\n",
       "      <td>2017-06-16</td>\n",
       "    </tr>\n",
       "    <tr>\n",
       "      <th>115</th>\n",
       "      <td>3Lw7lWTJlcqlx8E9HFmByr</td>\n",
       "      <td>Lorde</td>\n",
       "      <td>Million Dollar Bills</td>\n",
       "      <td>2013-01-01</td>\n",
       "    </tr>\n",
       "    <tr>\n",
       "      <th>123</th>\n",
       "      <td>2yrJ1jWo3HLksJFUqUsZE4</td>\n",
       "      <td>Lorde</td>\n",
       "      <td>The Love Club</td>\n",
       "      <td>2013-01-01</td>\n",
       "    </tr>\n",
       "    <tr>\n",
       "      <th>136</th>\n",
       "      <td>60jI0JgMLLj1VggHJVhtRs</td>\n",
       "      <td>Lorde</td>\n",
       "      <td>Glory And Gore</td>\n",
       "      <td>2013-09-27</td>\n",
       "    </tr>\n",
       "  </tbody>\n",
       "</table>\n",
       "</div>"
      ],
      "text/plain": [
       "                  track_uri artist_name            track_name release_date\n",
       "15   3MBwTrIg7HrNXSFVQ5rj41   AronChupa             Bad Water   2017-06-09\n",
       "76   0gbBzIqrECJOEPvQJIBFs5       Lorde           Green Light   2017-06-16\n",
       "115  3Lw7lWTJlcqlx8E9HFmByr       Lorde  Million Dollar Bills   2013-01-01\n",
       "123  2yrJ1jWo3HLksJFUqUsZE4       Lorde         The Love Club   2013-01-01\n",
       "136  60jI0JgMLLj1VggHJVhtRs       Lorde        Glory And Gore   2013-09-27"
      ]
     },
     "execution_count": 10,
     "metadata": {},
     "output_type": "execute_result"
    }
   ],
   "source": [
    "df.head()"
   ]
  },
  {
   "cell_type": "code",
   "execution_count": 11,
   "metadata": {},
   "outputs": [],
   "source": [
    "df.reset_index(drop=True, inplace=True)"
   ]
  },
  {
   "cell_type": "code",
   "execution_count": 12,
   "metadata": {},
   "outputs": [
    {
     "data": {
      "text/html": [
       "<div>\n",
       "<style scoped>\n",
       "    .dataframe tbody tr th:only-of-type {\n",
       "        vertical-align: middle;\n",
       "    }\n",
       "\n",
       "    .dataframe tbody tr th {\n",
       "        vertical-align: top;\n",
       "    }\n",
       "\n",
       "    .dataframe thead th {\n",
       "        text-align: right;\n",
       "    }\n",
       "</style>\n",
       "<table border=\"1\" class=\"dataframe\">\n",
       "  <thead>\n",
       "    <tr style=\"text-align: right;\">\n",
       "      <th></th>\n",
       "      <th>track_uri</th>\n",
       "      <th>artist_name</th>\n",
       "      <th>track_name</th>\n",
       "      <th>release_date</th>\n",
       "    </tr>\n",
       "  </thead>\n",
       "  <tbody>\n",
       "    <tr>\n",
       "      <th>0</th>\n",
       "      <td>3MBwTrIg7HrNXSFVQ5rj41</td>\n",
       "      <td>AronChupa</td>\n",
       "      <td>Bad Water</td>\n",
       "      <td>2017-06-09</td>\n",
       "    </tr>\n",
       "    <tr>\n",
       "      <th>1</th>\n",
       "      <td>0gbBzIqrECJOEPvQJIBFs5</td>\n",
       "      <td>Lorde</td>\n",
       "      <td>Green Light</td>\n",
       "      <td>2017-06-16</td>\n",
       "    </tr>\n",
       "    <tr>\n",
       "      <th>2</th>\n",
       "      <td>3Lw7lWTJlcqlx8E9HFmByr</td>\n",
       "      <td>Lorde</td>\n",
       "      <td>Million Dollar Bills</td>\n",
       "      <td>2013-01-01</td>\n",
       "    </tr>\n",
       "    <tr>\n",
       "      <th>3</th>\n",
       "      <td>2yrJ1jWo3HLksJFUqUsZE4</td>\n",
       "      <td>Lorde</td>\n",
       "      <td>The Love Club</td>\n",
       "      <td>2013-01-01</td>\n",
       "    </tr>\n",
       "    <tr>\n",
       "      <th>4</th>\n",
       "      <td>60jI0JgMLLj1VggHJVhtRs</td>\n",
       "      <td>Lorde</td>\n",
       "      <td>Glory And Gore</td>\n",
       "      <td>2013-09-27</td>\n",
       "    </tr>\n",
       "  </tbody>\n",
       "</table>\n",
       "</div>"
      ],
      "text/plain": [
       "                track_uri artist_name            track_name release_date\n",
       "0  3MBwTrIg7HrNXSFVQ5rj41   AronChupa             Bad Water   2017-06-09\n",
       "1  0gbBzIqrECJOEPvQJIBFs5       Lorde           Green Light   2017-06-16\n",
       "2  3Lw7lWTJlcqlx8E9HFmByr       Lorde  Million Dollar Bills   2013-01-01\n",
       "3  2yrJ1jWo3HLksJFUqUsZE4       Lorde         The Love Club   2013-01-01\n",
       "4  60jI0JgMLLj1VggHJVhtRs       Lorde        Glory And Gore   2013-09-27"
      ]
     },
     "execution_count": 12,
     "metadata": {},
     "output_type": "execute_result"
    }
   ],
   "source": [
    "df.head()"
   ]
  },
  {
   "cell_type": "code",
   "execution_count": 13,
   "metadata": {},
   "outputs": [],
   "source": [
    "def convert_uri_to_url(track_uri):\n",
    "    return f'https://open.spotify.com/track/{track_uri}'\n",
    "  "
   ]
  },
  {
   "cell_type": "code",
   "execution_count": 14,
   "metadata": {},
   "outputs": [
    {
     "data": {
      "text/plain": [
       "'https://open.spotify.com/track/3MBwTrIg7HrNXSFVQ5rj41'"
      ]
     },
     "execution_count": 14,
     "metadata": {},
     "output_type": "execute_result"
    }
   ],
   "source": [
    "convert_uri_to_url(df['track_uri'][0])"
   ]
  },
  {
   "cell_type": "code",
   "execution_count": 15,
   "metadata": {},
   "outputs": [],
   "source": [
    "from tqdm import tqdm"
   ]
  },
  {
   "cell_type": "code",
   "execution_count": 16,
   "metadata": {},
   "outputs": [
    {
     "name": "stderr",
     "output_type": "stream",
     "text": [
      "Fetching track URLs:  11%|█         | 7267/65937 [00:00<00:03, 17987.74it/s]"
     ]
    },
    {
     "name": "stderr",
     "output_type": "stream",
     "text": [
      "Fetching track URLs: 100%|██████████| 65937/65937 [00:03<00:00, 19722.17it/s]\n"
     ]
    }
   ],
   "source": [
    "df['track_url'] = None\n",
    "for index, row in tqdm(df.iterrows(), total=len(df), desc=\"Fetching track URLs\"):\n",
    "    track_id = row['track_uri']\n",
    "    df.at[index, 'track_url'] = convert_uri_to_url(track_id)"
   ]
  },
  {
   "cell_type": "code",
   "execution_count": 17,
   "metadata": {},
   "outputs": [
    {
     "data": {
      "text/html": [
       "<div>\n",
       "<style scoped>\n",
       "    .dataframe tbody tr th:only-of-type {\n",
       "        vertical-align: middle;\n",
       "    }\n",
       "\n",
       "    .dataframe tbody tr th {\n",
       "        vertical-align: top;\n",
       "    }\n",
       "\n",
       "    .dataframe thead th {\n",
       "        text-align: right;\n",
       "    }\n",
       "</style>\n",
       "<table border=\"1\" class=\"dataframe\">\n",
       "  <thead>\n",
       "    <tr style=\"text-align: right;\">\n",
       "      <th></th>\n",
       "      <th>track_uri</th>\n",
       "      <th>artist_name</th>\n",
       "      <th>track_name</th>\n",
       "      <th>release_date</th>\n",
       "      <th>track_url</th>\n",
       "    </tr>\n",
       "  </thead>\n",
       "  <tbody>\n",
       "    <tr>\n",
       "      <th>0</th>\n",
       "      <td>3MBwTrIg7HrNXSFVQ5rj41</td>\n",
       "      <td>AronChupa</td>\n",
       "      <td>Bad Water</td>\n",
       "      <td>2017-06-09</td>\n",
       "      <td>https://open.spotify.com/track/3MBwTrIg7HrNXSF...</td>\n",
       "    </tr>\n",
       "    <tr>\n",
       "      <th>1</th>\n",
       "      <td>0gbBzIqrECJOEPvQJIBFs5</td>\n",
       "      <td>Lorde</td>\n",
       "      <td>Green Light</td>\n",
       "      <td>2017-06-16</td>\n",
       "      <td>https://open.spotify.com/track/0gbBzIqrECJOEPv...</td>\n",
       "    </tr>\n",
       "    <tr>\n",
       "      <th>2</th>\n",
       "      <td>3Lw7lWTJlcqlx8E9HFmByr</td>\n",
       "      <td>Lorde</td>\n",
       "      <td>Million Dollar Bills</td>\n",
       "      <td>2013-01-01</td>\n",
       "      <td>https://open.spotify.com/track/3Lw7lWTJlcqlx8E...</td>\n",
       "    </tr>\n",
       "    <tr>\n",
       "      <th>3</th>\n",
       "      <td>2yrJ1jWo3HLksJFUqUsZE4</td>\n",
       "      <td>Lorde</td>\n",
       "      <td>The Love Club</td>\n",
       "      <td>2013-01-01</td>\n",
       "      <td>https://open.spotify.com/track/2yrJ1jWo3HLksJF...</td>\n",
       "    </tr>\n",
       "    <tr>\n",
       "      <th>4</th>\n",
       "      <td>60jI0JgMLLj1VggHJVhtRs</td>\n",
       "      <td>Lorde</td>\n",
       "      <td>Glory And Gore</td>\n",
       "      <td>2013-09-27</td>\n",
       "      <td>https://open.spotify.com/track/60jI0JgMLLj1Vgg...</td>\n",
       "    </tr>\n",
       "  </tbody>\n",
       "</table>\n",
       "</div>"
      ],
      "text/plain": [
       "                track_uri artist_name            track_name release_date  \\\n",
       "0  3MBwTrIg7HrNXSFVQ5rj41   AronChupa             Bad Water   2017-06-09   \n",
       "1  0gbBzIqrECJOEPvQJIBFs5       Lorde           Green Light   2017-06-16   \n",
       "2  3Lw7lWTJlcqlx8E9HFmByr       Lorde  Million Dollar Bills   2013-01-01   \n",
       "3  2yrJ1jWo3HLksJFUqUsZE4       Lorde         The Love Club   2013-01-01   \n",
       "4  60jI0JgMLLj1VggHJVhtRs       Lorde        Glory And Gore   2013-09-27   \n",
       "\n",
       "                                           track_url  \n",
       "0  https://open.spotify.com/track/3MBwTrIg7HrNXSF...  \n",
       "1  https://open.spotify.com/track/0gbBzIqrECJOEPv...  \n",
       "2  https://open.spotify.com/track/3Lw7lWTJlcqlx8E...  \n",
       "3  https://open.spotify.com/track/2yrJ1jWo3HLksJF...  \n",
       "4  https://open.spotify.com/track/60jI0JgMLLj1Vgg...  "
      ]
     },
     "execution_count": 17,
     "metadata": {},
     "output_type": "execute_result"
    }
   ],
   "source": [
    "df.head()"
   ]
  },
  {
   "cell_type": "code",
   "execution_count": 18,
   "metadata": {},
   "outputs": [],
   "source": [
    "df['release_date']=pd.to_datetime(df['release_date'], errors='coerce')"
   ]
  },
  {
   "cell_type": "code",
   "execution_count": 19,
   "metadata": {},
   "outputs": [],
   "source": [
    "df.dropna(subset=['release_date'], inplace=True)"
   ]
  },
  {
   "cell_type": "code",
   "execution_count": 20,
   "metadata": {},
   "outputs": [],
   "source": [
    "df['year'] = df['release_date'].dt.year"
   ]
  },
  {
   "cell_type": "code",
   "execution_count": 21,
   "metadata": {},
   "outputs": [],
   "source": [
    "df.drop(columns=['release_date'], inplace=True)"
   ]
  },
  {
   "cell_type": "code",
   "execution_count": 22,
   "metadata": {},
   "outputs": [
    {
     "data": {
      "text/html": [
       "<div>\n",
       "<style scoped>\n",
       "    .dataframe tbody tr th:only-of-type {\n",
       "        vertical-align: middle;\n",
       "    }\n",
       "\n",
       "    .dataframe tbody tr th {\n",
       "        vertical-align: top;\n",
       "    }\n",
       "\n",
       "    .dataframe thead th {\n",
       "        text-align: right;\n",
       "    }\n",
       "</style>\n",
       "<table border=\"1\" class=\"dataframe\">\n",
       "  <thead>\n",
       "    <tr style=\"text-align: right;\">\n",
       "      <th></th>\n",
       "      <th>track_uri</th>\n",
       "      <th>artist_name</th>\n",
       "      <th>track_name</th>\n",
       "      <th>track_url</th>\n",
       "      <th>year</th>\n",
       "    </tr>\n",
       "  </thead>\n",
       "  <tbody>\n",
       "    <tr>\n",
       "      <th>0</th>\n",
       "      <td>3MBwTrIg7HrNXSFVQ5rj41</td>\n",
       "      <td>AronChupa</td>\n",
       "      <td>Bad Water</td>\n",
       "      <td>https://open.spotify.com/track/3MBwTrIg7HrNXSF...</td>\n",
       "      <td>2017</td>\n",
       "    </tr>\n",
       "    <tr>\n",
       "      <th>1</th>\n",
       "      <td>0gbBzIqrECJOEPvQJIBFs5</td>\n",
       "      <td>Lorde</td>\n",
       "      <td>Green Light</td>\n",
       "      <td>https://open.spotify.com/track/0gbBzIqrECJOEPv...</td>\n",
       "      <td>2017</td>\n",
       "    </tr>\n",
       "    <tr>\n",
       "      <th>2</th>\n",
       "      <td>3Lw7lWTJlcqlx8E9HFmByr</td>\n",
       "      <td>Lorde</td>\n",
       "      <td>Million Dollar Bills</td>\n",
       "      <td>https://open.spotify.com/track/3Lw7lWTJlcqlx8E...</td>\n",
       "      <td>2013</td>\n",
       "    </tr>\n",
       "    <tr>\n",
       "      <th>3</th>\n",
       "      <td>2yrJ1jWo3HLksJFUqUsZE4</td>\n",
       "      <td>Lorde</td>\n",
       "      <td>The Love Club</td>\n",
       "      <td>https://open.spotify.com/track/2yrJ1jWo3HLksJF...</td>\n",
       "      <td>2013</td>\n",
       "    </tr>\n",
       "    <tr>\n",
       "      <th>4</th>\n",
       "      <td>60jI0JgMLLj1VggHJVhtRs</td>\n",
       "      <td>Lorde</td>\n",
       "      <td>Glory And Gore</td>\n",
       "      <td>https://open.spotify.com/track/60jI0JgMLLj1Vgg...</td>\n",
       "      <td>2013</td>\n",
       "    </tr>\n",
       "  </tbody>\n",
       "</table>\n",
       "</div>"
      ],
      "text/plain": [
       "                track_uri artist_name            track_name  \\\n",
       "0  3MBwTrIg7HrNXSFVQ5rj41   AronChupa             Bad Water   \n",
       "1  0gbBzIqrECJOEPvQJIBFs5       Lorde           Green Light   \n",
       "2  3Lw7lWTJlcqlx8E9HFmByr       Lorde  Million Dollar Bills   \n",
       "3  2yrJ1jWo3HLksJFUqUsZE4       Lorde         The Love Club   \n",
       "4  60jI0JgMLLj1VggHJVhtRs       Lorde        Glory And Gore   \n",
       "\n",
       "                                           track_url  year  \n",
       "0  https://open.spotify.com/track/3MBwTrIg7HrNXSF...  2017  \n",
       "1  https://open.spotify.com/track/0gbBzIqrECJOEPv...  2017  \n",
       "2  https://open.spotify.com/track/3Lw7lWTJlcqlx8E...  2013  \n",
       "3  https://open.spotify.com/track/2yrJ1jWo3HLksJF...  2013  \n",
       "4  https://open.spotify.com/track/60jI0JgMLLj1Vgg...  2013  "
      ]
     },
     "execution_count": 22,
     "metadata": {},
     "output_type": "execute_result"
    }
   ],
   "source": [
    "df.head()"
   ]
  },
  {
   "cell_type": "code",
   "execution_count": 23,
   "metadata": {},
   "outputs": [],
   "source": [
    "df.to_csv('D:/Recommendation system/year.csv', index=False)"
   ]
  },
  {
   "cell_type": "code",
   "execution_count": 24,
   "metadata": {},
   "outputs": [
    {
     "data": {
      "text/plain": [
       "(65922, 5)"
      ]
     },
     "execution_count": 24,
     "metadata": {},
     "output_type": "execute_result"
    }
   ],
   "source": [
    "df.shape"
   ]
  },
  {
   "cell_type": "code",
   "execution_count": 25,
   "metadata": {},
   "outputs": [
    {
     "name": "stdout",
     "output_type": "stream",
     "text": [
      "(6592, 5)\n"
     ]
    }
   ],
   "source": [
    "df = df.sample(frac=0.1, random_state=42)  # Adjust fraction size as needed\n",
    "\n",
    "# Display the shape of the sampled dataset\n",
    "print(df.shape)"
   ]
  },
  {
   "cell_type": "code",
   "execution_count": 26,
   "metadata": {},
   "outputs": [],
   "source": [
    "from sklearn.preprocessing import OneHotEncoder\n",
    "from sklearn.cluster import KMeans\n",
    "from sklearn.model_selection import GridSearchCV"
   ]
  },
  {
   "cell_type": "code",
   "execution_count": 27,
   "metadata": {},
   "outputs": [],
   "source": [
    "# One-hot encode the 'artist_name' column\n",
    "encoder = OneHotEncoder(sparse=False)\n",
    "artist_encoded = encoder.fit_transform(df[['artist_name']])\n",
    "\n",
    "# Concatenate the one-hot encoded array with the 'popularity' column\n",
    "year_column = df[['year']].values\n",
    "X = np.concatenate([artist_encoded, year_column], axis=1)"
   ]
  },
  {
   "cell_type": "code",
   "execution_count": 28,
   "metadata": {},
   "outputs": [],
   "source": [
    "kmeans = KMeans(random_state=42)"
   ]
  },
  {
   "cell_type": "code",
   "execution_count": 29,
   "metadata": {},
   "outputs": [],
   "source": [
    "# Initialize KMeans with the best parameters\n",
    "best_kmeans = KMeans(n_clusters=5, \n",
    "                     init='k-means++', \n",
    "                     max_iter=300, \n",
    "                     random_state=42)\n",
    "\n",
    "# Fit the best KMeans model to the data\n",
    "best_kmeans.fit(X)\n",
    "\n",
    "# Assign clusters to the data using the best model\n",
    "df['cluster'] = best_kmeans.labels_"
   ]
  },
  {
   "cell_type": "code",
   "execution_count": 30,
   "metadata": {},
   "outputs": [],
   "source": [
    "import spotipy\n",
    "import spotipy.oauth2 as oauth2\n",
    "from spotipy.oauth2 import SpotifyOAuth,SpotifyClientCredentials"
   ]
  },
  {
   "cell_type": "code",
   "execution_count": 31,
   "metadata": {},
   "outputs": [],
   "source": [
    "# Spotify API credentials\n",
    "client_id = 'daad7d25071943918fca8024759891b1'\n",
    "client_secret = 'af6037af702f4dfbba567e6174ec3dfd'\n",
    "\n",
    "auth_manager = SpotifyClientCredentials(client_id=client_id, client_secret=client_secret)\n",
    "sp = spotipy.client.Spotify(auth_manager=auth_manager)"
   ]
  },
  {
   "cell_type": "code",
   "execution_count": 32,
   "metadata": {},
   "outputs": [
    {
     "data": {
      "text/html": [
       "<div>\n",
       "<style scoped>\n",
       "    .dataframe tbody tr th:only-of-type {\n",
       "        vertical-align: middle;\n",
       "    }\n",
       "\n",
       "    .dataframe tbody tr th {\n",
       "        vertical-align: top;\n",
       "    }\n",
       "\n",
       "    .dataframe thead th {\n",
       "        text-align: right;\n",
       "    }\n",
       "</style>\n",
       "<table border=\"1\" class=\"dataframe\">\n",
       "  <thead>\n",
       "    <tr style=\"text-align: right;\">\n",
       "      <th></th>\n",
       "      <th>track_uri</th>\n",
       "      <th>artist_name</th>\n",
       "      <th>track_name</th>\n",
       "      <th>track_url</th>\n",
       "      <th>year</th>\n",
       "      <th>cluster</th>\n",
       "    </tr>\n",
       "  </thead>\n",
       "  <tbody>\n",
       "    <tr>\n",
       "      <th>42794</th>\n",
       "      <td>3LFhPZqd9GC9sV8ZTnu99P</td>\n",
       "      <td>Luke Christopher</td>\n",
       "      <td>Bedroom Trip</td>\n",
       "      <td>https://open.spotify.com/track/3LFhPZqd9GC9sV8...</td>\n",
       "      <td>2015</td>\n",
       "      <td>0</td>\n",
       "    </tr>\n",
       "    <tr>\n",
       "      <th>1295</th>\n",
       "      <td>2uQNcZYa0SEbfW4cj0d9OS</td>\n",
       "      <td>Lauv</td>\n",
       "      <td>I Like Me Better - Recorded at Spotify Studios...</td>\n",
       "      <td>https://open.spotify.com/track/2uQNcZYa0SEbfW4...</td>\n",
       "      <td>2017</td>\n",
       "      <td>0</td>\n",
       "    </tr>\n",
       "    <tr>\n",
       "      <th>13039</th>\n",
       "      <td>0PJIbOdMs3bd5AT8liULMQ</td>\n",
       "      <td>Jeremih</td>\n",
       "      <td>oui</td>\n",
       "      <td>https://open.spotify.com/track/0PJIbOdMs3bd5AT...</td>\n",
       "      <td>2015</td>\n",
       "      <td>0</td>\n",
       "    </tr>\n",
       "    <tr>\n",
       "      <th>45492</th>\n",
       "      <td>5sp0v1NDTtfzcPMtFotz80</td>\n",
       "      <td>Clay Walker</td>\n",
       "      <td>This Woman And This Man</td>\n",
       "      <td>https://open.spotify.com/track/5sp0v1NDTtfzcPM...</td>\n",
       "      <td>1994</td>\n",
       "      <td>2</td>\n",
       "    </tr>\n",
       "    <tr>\n",
       "      <th>9194</th>\n",
       "      <td>3V0ak0F8fLXmp3hYAEQKZH</td>\n",
       "      <td>Passion Pit</td>\n",
       "      <td>Love Is Greed</td>\n",
       "      <td>https://open.spotify.com/track/3V0ak0F8fLXmp3h...</td>\n",
       "      <td>2012</td>\n",
       "      <td>0</td>\n",
       "    </tr>\n",
       "  </tbody>\n",
       "</table>\n",
       "</div>"
      ],
      "text/plain": [
       "                    track_uri       artist_name  \\\n",
       "42794  3LFhPZqd9GC9sV8ZTnu99P  Luke Christopher   \n",
       "1295   2uQNcZYa0SEbfW4cj0d9OS              Lauv   \n",
       "13039  0PJIbOdMs3bd5AT8liULMQ           Jeremih   \n",
       "45492  5sp0v1NDTtfzcPMtFotz80       Clay Walker   \n",
       "9194   3V0ak0F8fLXmp3hYAEQKZH       Passion Pit   \n",
       "\n",
       "                                              track_name  \\\n",
       "42794                                       Bedroom Trip   \n",
       "1295   I Like Me Better - Recorded at Spotify Studios...   \n",
       "13039                                                oui   \n",
       "45492                            This Woman And This Man   \n",
       "9194                                       Love Is Greed   \n",
       "\n",
       "                                               track_url  year  cluster  \n",
       "42794  https://open.spotify.com/track/3LFhPZqd9GC9sV8...  2015        0  \n",
       "1295   https://open.spotify.com/track/2uQNcZYa0SEbfW4...  2017        0  \n",
       "13039  https://open.spotify.com/track/0PJIbOdMs3bd5AT...  2015        0  \n",
       "45492  https://open.spotify.com/track/5sp0v1NDTtfzcPM...  1994        2  \n",
       "9194   https://open.spotify.com/track/3V0ak0F8fLXmp3h...  2012        0  "
      ]
     },
     "execution_count": 32,
     "metadata": {},
     "output_type": "execute_result"
    }
   ],
   "source": [
    "df.head()"
   ]
  },
  {
   "cell_type": "code",
   "execution_count": 33,
   "metadata": {},
   "outputs": [],
   "source": [
    "df.reset_index(drop=True, inplace=True)"
   ]
  },
  {
   "cell_type": "code",
   "execution_count": 34,
   "metadata": {},
   "outputs": [],
   "source": [
    "def get_track_info(track_uri):\n",
    "    try:\n",
    "        # Use the Spotify API to get the track information\n",
    "        track_info = sp.track(track_uri)\n",
    "        \n",
    "        # Get the artist information\n",
    "        artist_id = track_info['artists'][0]['id']\n",
    "        artist_info = sp.artist(artist_id)\n",
    "        \n",
    "        # Extract release date from the album's release_date\n",
    "        release_date = track_info['album']['release_date']\n",
    "        release_year = int(release_date.split('-')[0])\n",
    "\n",
    "        return artist_info, release_year\n",
    "    except Exception as e:\n",
    "        print(f\"Error: {e}\")\n",
    "        return None, None"
   ]
  },
  {
   "cell_type": "code",
   "execution_count": 44,
   "metadata": {},
   "outputs": [],
   "source": [
    "example_track_uri = 'spotify:track:60a0Rd6pjrkxjPbaKzXjfq'"
   ]
  },
  {
   "cell_type": "code",
   "execution_count": 45,
   "metadata": {},
   "outputs": [],
   "source": [
    "artist_info, release_year = get_track_info(example_track_uri)"
   ]
  },
  {
   "cell_type": "code",
   "execution_count": 46,
   "metadata": {},
   "outputs": [],
   "source": [
    "artist_name=artist_info['name']"
   ]
  },
  {
   "cell_type": "code",
   "execution_count": 47,
   "metadata": {},
   "outputs": [
    {
     "name": "stdout",
     "output_type": "stream",
     "text": [
      "Artist(s): Linkin Park\n",
      "Release year: 2000\n"
     ]
    }
   ],
   "source": [
    "if artist_name is not None and release_year is not None:\n",
    "    print(f\"Artist(s): {artist_name}\")\n",
    "    print(f\"Release year: {release_year}\")\n",
    "else:\n",
    "    print(\"Failed to retrieve track information.\")"
   ]
  },
  {
   "cell_type": "code",
   "execution_count": 53,
   "metadata": {},
   "outputs": [
    {
     "name": "stdout",
     "output_type": "stream",
     "text": [
      "         artist_name        track_name  year                                             track_url\n",
      "           Sugar Ray           Someday  1998 https://open.spotify.com/track/6zeDYmP3ARpURvpK29Q09P\n",
      "          Tim McGraw  The Cowboy In Me  2001 https://open.spotify.com/track/7iGdNkROFlxqUJkHNlkoQV\n",
      "Los Tigres Del Norte La Camioneta Gris  2001 https://open.spotify.com/track/66p7jmGKdqNsvp0hPRXHNm\n",
      "            R. Kelly   Step In My Room  1995 https://open.spotify.com/track/4hiCJivJVBw5SIzLD9t8Rx\n",
      "   Ol' Dirty Bastard     Cuttin' Headz  1995 https://open.spotify.com/track/3RzkPirkWficp2bWVUNrXn\n"
     ]
    },
    {
     "name": "stderr",
     "output_type": "stream",
     "text": [
      "c:\\Users\\Vitrag Khatadia\\AppData\\Local\\Programs\\Python\\Python39\\lib\\site-packages\\sklearn\\base.py:450: UserWarning: X does not have valid feature names, but OneHotEncoder was fitted with feature names\n",
      "  warnings.warn(\n"
     ]
    }
   ],
   "source": [
    "# Concatenate the selected features of the given track\n",
    "track_features = np.concatenate([encoder.transform([[artist_info['name']]]), [[release_year]]], axis=1)\n",
    "\n",
    "# Find the cluster of the given track based on selected features\n",
    "track_cluster = best_kmeans.predict(track_features)[0]\n",
    "\n",
    "# Select similar tracks from the same cluster\n",
    "num_recommendations = 5  # Adjust the number of recommendations\n",
    "similar_tracks = df[df['cluster'] == track_cluster].sample(num_recommendations)\n",
    "\n",
    "# Show the recommended tracks\n",
    "recommended_tracks = similar_tracks[['artist_name', 'track_name','year','track_url']]\n",
    "output_str = recommended_tracks.to_string(index=False)\n",
    "print(output_str)"
   ]
  },
  {
   "cell_type": "code",
   "execution_count": 50,
   "metadata": {},
   "outputs": [
    {
     "data": {
      "text/plain": [
       "'https://open.spotify.com/track/02ePjHjIiszSYqeLykvpTN'"
      ]
     },
     "execution_count": 50,
     "metadata": {},
     "output_type": "execute_result"
    }
   ],
   "source": [
    "df['track_url'][475]"
   ]
  },
  {
   "cell_type": "code",
   "execution_count": null,
   "metadata": {},
   "outputs": [],
   "source": []
  }
 ],
 "metadata": {
  "kernelspec": {
   "display_name": "Python 3",
   "language": "python",
   "name": "python3"
  },
  "language_info": {
   "codemirror_mode": {
    "name": "ipython",
    "version": 3
   },
   "file_extension": ".py",
   "mimetype": "text/x-python",
   "name": "python",
   "nbconvert_exporter": "python",
   "pygments_lexer": "ipython3",
   "version": "3.9.5"
  }
 },
 "nbformat": 4,
 "nbformat_minor": 2
}
