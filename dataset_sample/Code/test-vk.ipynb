{
 "cells": [
  {
   "cell_type": "code",
   "execution_count": 1,
   "metadata": {},
   "outputs": [],
   "source": [
    "import pandas as pd\n",
    "import numpy as np"
   ]
  },
  {
   "cell_type": "code",
   "execution_count": 2,
   "metadata": {},
   "outputs": [],
   "source": [
    "df=pd.read_csv('../Data/Spotify_with_genre.csv')"
   ]
  },
  {
   "cell_type": "code",
   "execution_count": 3,
   "metadata": {},
   "outputs": [
    {
     "data": {
      "text/html": [
       "<div>\n",
       "<style scoped>\n",
       "    .dataframe tbody tr th:only-of-type {\n",
       "        vertical-align: middle;\n",
       "    }\n",
       "\n",
       "    .dataframe tbody tr th {\n",
       "        vertical-align: top;\n",
       "    }\n",
       "\n",
       "    .dataframe thead th {\n",
       "        text-align: right;\n",
       "    }\n",
       "</style>\n",
       "<table border=\"1\" class=\"dataframe\">\n",
       "  <thead>\n",
       "    <tr style=\"text-align: right;\">\n",
       "      <th></th>\n",
       "      <th>artist_name</th>\n",
       "      <th>track_name</th>\n",
       "      <th>artist_pop</th>\n",
       "      <th>popularity</th>\n",
       "      <th>release_date</th>\n",
       "      <th>genre</th>\n",
       "    </tr>\n",
       "  </thead>\n",
       "  <tbody>\n",
       "    <tr>\n",
       "      <th>0</th>\n",
       "      <td>A Thousand Horses</td>\n",
       "      <td>Preachin' To The Choir</td>\n",
       "      <td>37.0</td>\n",
       "      <td>0.0</td>\n",
       "      <td>2017-06-02</td>\n",
       "      <td>Rap</td>\n",
       "    </tr>\n",
       "    <tr>\n",
       "      <th>1</th>\n",
       "      <td>Water Liars</td>\n",
       "      <td>You Work Days I Work Nights</td>\n",
       "      <td>29.0</td>\n",
       "      <td>10.0</td>\n",
       "      <td>2012</td>\n",
       "      <td>dnb</td>\n",
       "    </tr>\n",
       "    <tr>\n",
       "      <th>2</th>\n",
       "      <td>Chambao</td>\n",
       "      <td>Sera</td>\n",
       "      <td>44.0</td>\n",
       "      <td>31.0</td>\n",
       "      <td>2007-11-06</td>\n",
       "      <td>Rap</td>\n",
       "    </tr>\n",
       "    <tr>\n",
       "      <th>3</th>\n",
       "      <td>Jeezy</td>\n",
       "      <td>Big Shit Poppin</td>\n",
       "      <td>69.0</td>\n",
       "      <td>19.0</td>\n",
       "      <td>2007-08-07</td>\n",
       "      <td>Rap</td>\n",
       "    </tr>\n",
       "    <tr>\n",
       "      <th>4</th>\n",
       "      <td>La Arrolladora Banda El Limón De Rene Camacho</td>\n",
       "      <td>No La Voy A Engañar</td>\n",
       "      <td>74.0</td>\n",
       "      <td>54.0</td>\n",
       "      <td>2012</td>\n",
       "      <td>Rap</td>\n",
       "    </tr>\n",
       "  </tbody>\n",
       "</table>\n",
       "</div>"
      ],
      "text/plain": [
       "                                     artist_name                   track_name  \\\n",
       "0                              A Thousand Horses       Preachin' To The Choir   \n",
       "1                                    Water Liars  You Work Days I Work Nights   \n",
       "2                                        Chambao                         Sera   \n",
       "3                                          Jeezy              Big Shit Poppin   \n",
       "4  La Arrolladora Banda El Limón De Rene Camacho          No La Voy A Engañar   \n",
       "\n",
       "   artist_pop  popularity release_date genre  \n",
       "0        37.0         0.0   2017-06-02   Rap  \n",
       "1        29.0        10.0         2012   dnb  \n",
       "2        44.0        31.0   2007-11-06   Rap  \n",
       "3        69.0        19.0   2007-08-07   Rap  \n",
       "4        74.0        54.0         2012   Rap  "
      ]
     },
     "execution_count": 3,
     "metadata": {},
     "output_type": "execute_result"
    }
   ],
   "source": [
    "df.head()"
   ]
  },
  {
   "cell_type": "code",
   "execution_count": 4,
   "metadata": {},
   "outputs": [],
   "source": [
    "from sklearn.preprocessing import LabelEncoder"
   ]
  },
  {
   "cell_type": "code",
   "execution_count": 5,
   "metadata": {},
   "outputs": [],
   "source": [
    "label_encoder = LabelEncoder()"
   ]
  },
  {
   "cell_type": "code",
   "execution_count": 7,
   "metadata": {},
   "outputs": [],
   "source": [
    "df['artist_name'] = label_encoder.fit_transform(df['artist_name'])\n",
    "df['genre'] = label_encoder.fit_transform(df['genre'])"
   ]
  },
  {
   "cell_type": "code",
   "execution_count": 8,
   "metadata": {},
   "outputs": [],
   "source": [
    "df['release_date']=pd.to_datetime(df['release_date'], errors='coerce')"
   ]
  },
  {
   "cell_type": "code",
   "execution_count": 9,
   "metadata": {},
   "outputs": [],
   "source": [
    "df.dropna(subset=['release_date'], inplace=True)"
   ]
  },
  {
   "cell_type": "code",
   "execution_count": 10,
   "metadata": {},
   "outputs": [],
   "source": [
    "df['year'] = df['release_date'].dt.year"
   ]
  },
  {
   "cell_type": "code",
   "execution_count": 11,
   "metadata": {},
   "outputs": [],
   "source": [
    "df.drop(columns=['release_date'], inplace=True)"
   ]
  },
  {
   "cell_type": "code",
   "execution_count": 12,
   "metadata": {},
   "outputs": [
    {
     "data": {
      "text/html": [
       "<div>\n",
       "<style scoped>\n",
       "    .dataframe tbody tr th:only-of-type {\n",
       "        vertical-align: middle;\n",
       "    }\n",
       "\n",
       "    .dataframe tbody tr th {\n",
       "        vertical-align: top;\n",
       "    }\n",
       "\n",
       "    .dataframe thead th {\n",
       "        text-align: right;\n",
       "    }\n",
       "</style>\n",
       "<table border=\"1\" class=\"dataframe\">\n",
       "  <thead>\n",
       "    <tr style=\"text-align: right;\">\n",
       "      <th></th>\n",
       "      <th>artist_name</th>\n",
       "      <th>track_name</th>\n",
       "      <th>artist_pop</th>\n",
       "      <th>popularity</th>\n",
       "      <th>genre</th>\n",
       "      <th>year</th>\n",
       "    </tr>\n",
       "  </thead>\n",
       "  <tbody>\n",
       "    <tr>\n",
       "      <th>0</th>\n",
       "      <td>34</td>\n",
       "      <td>Preachin' To The Choir</td>\n",
       "      <td>37.0</td>\n",
       "      <td>0.0</td>\n",
       "      <td>1</td>\n",
       "      <td>2017</td>\n",
       "    </tr>\n",
       "    <tr>\n",
       "      <th>1</th>\n",
       "      <td>2911</td>\n",
       "      <td>You Work Days I Work Nights</td>\n",
       "      <td>29.0</td>\n",
       "      <td>10.0</td>\n",
       "      <td>2</td>\n",
       "      <td>2012</td>\n",
       "    </tr>\n",
       "    <tr>\n",
       "      <th>2</th>\n",
       "      <td>485</td>\n",
       "      <td>Sera</td>\n",
       "      <td>44.0</td>\n",
       "      <td>31.0</td>\n",
       "      <td>1</td>\n",
       "      <td>2007</td>\n",
       "    </tr>\n",
       "    <tr>\n",
       "      <th>3</th>\n",
       "      <td>1268</td>\n",
       "      <td>Big Shit Poppin</td>\n",
       "      <td>69.0</td>\n",
       "      <td>19.0</td>\n",
       "      <td>1</td>\n",
       "      <td>2007</td>\n",
       "    </tr>\n",
       "    <tr>\n",
       "      <th>4</th>\n",
       "      <td>1525</td>\n",
       "      <td>No La Voy A Engañar</td>\n",
       "      <td>74.0</td>\n",
       "      <td>54.0</td>\n",
       "      <td>1</td>\n",
       "      <td>2012</td>\n",
       "    </tr>\n",
       "  </tbody>\n",
       "</table>\n",
       "</div>"
      ],
      "text/plain": [
       "   artist_name                   track_name  artist_pop  popularity  genre  \\\n",
       "0           34       Preachin' To The Choir        37.0         0.0      1   \n",
       "1         2911  You Work Days I Work Nights        29.0        10.0      2   \n",
       "2          485                         Sera        44.0        31.0      1   \n",
       "3         1268              Big Shit Poppin        69.0        19.0      1   \n",
       "4         1525          No La Voy A Engañar        74.0        54.0      1   \n",
       "\n",
       "   year  \n",
       "0  2017  \n",
       "1  2012  \n",
       "2  2007  \n",
       "3  2007  \n",
       "4  2012  "
      ]
     },
     "execution_count": 12,
     "metadata": {},
     "output_type": "execute_result"
    }
   ],
   "source": [
    "df.head()"
   ]
  },
  {
   "cell_type": "code",
   "execution_count": 13,
   "metadata": {},
   "outputs": [],
   "source": [
    "from sklearn.preprocessing import MinMaxScaler"
   ]
  },
  {
   "cell_type": "code",
   "execution_count": 14,
   "metadata": {},
   "outputs": [],
   "source": [
    "scaler = MinMaxScaler()"
   ]
  },
  {
   "cell_type": "code",
   "execution_count": 20,
   "metadata": {},
   "outputs": [],
   "source": [
    "numerical_features = ['artist_pop', 'popularity']\n",
    "df[numerical_features] = scaler.fit_transform(df[numerical_features])"
   ]
  },
  {
   "cell_type": "code",
   "execution_count": 21,
   "metadata": {},
   "outputs": [],
   "source": [
    "from sklearn.cluster import DBSCAN\n",
    "from sklearn.preprocessing import StandardScaler"
   ]
  },
  {
   "cell_type": "code",
   "execution_count": 22,
   "metadata": {},
   "outputs": [],
   "source": [
    "features_for_clustering = ['artist_pop', 'popularity', 'year', 'genre']"
   ]
  },
  {
   "cell_type": "code",
   "execution_count": 23,
   "metadata": {},
   "outputs": [],
   "source": [
    "# Initialize DBSCAN\n",
    "dbscan = DBSCAN(eps=0.3, min_samples=2)  # Adjust eps and min_samples as per your data"
   ]
  },
  {
   "cell_type": "code",
   "execution_count": 24,
   "metadata": {},
   "outputs": [],
   "source": [
    "# Fit DBSCAN clustering\n",
    "clusters = dbscan.fit_predict(df[features_for_clustering])"
   ]
  },
  {
   "cell_type": "code",
   "execution_count": 25,
   "metadata": {},
   "outputs": [],
   "source": [
    "# Add cluster labels to dataframe\n",
    "df['cluster'] = clusters"
   ]
  },
  {
   "cell_type": "code",
   "execution_count": 26,
   "metadata": {},
   "outputs": [
    {
     "data": {
      "text/html": [
       "<div>\n",
       "<style scoped>\n",
       "    .dataframe tbody tr th:only-of-type {\n",
       "        vertical-align: middle;\n",
       "    }\n",
       "\n",
       "    .dataframe tbody tr th {\n",
       "        vertical-align: top;\n",
       "    }\n",
       "\n",
       "    .dataframe thead th {\n",
       "        text-align: right;\n",
       "    }\n",
       "</style>\n",
       "<table border=\"1\" class=\"dataframe\">\n",
       "  <thead>\n",
       "    <tr style=\"text-align: right;\">\n",
       "      <th></th>\n",
       "      <th>artist_name</th>\n",
       "      <th>track_name</th>\n",
       "      <th>artist_pop</th>\n",
       "      <th>popularity</th>\n",
       "      <th>genre</th>\n",
       "      <th>year</th>\n",
       "      <th>cluster</th>\n",
       "    </tr>\n",
       "  </thead>\n",
       "  <tbody>\n",
       "    <tr>\n",
       "      <th>0</th>\n",
       "      <td>34</td>\n",
       "      <td>Preachin' To The Choir</td>\n",
       "      <td>0.37</td>\n",
       "      <td>0.000000</td>\n",
       "      <td>1</td>\n",
       "      <td>2017</td>\n",
       "      <td>0</td>\n",
       "    </tr>\n",
       "    <tr>\n",
       "      <th>1</th>\n",
       "      <td>2911</td>\n",
       "      <td>You Work Days I Work Nights</td>\n",
       "      <td>0.29</td>\n",
       "      <td>0.108696</td>\n",
       "      <td>2</td>\n",
       "      <td>2012</td>\n",
       "      <td>-1</td>\n",
       "    </tr>\n",
       "    <tr>\n",
       "      <th>2</th>\n",
       "      <td>485</td>\n",
       "      <td>Sera</td>\n",
       "      <td>0.44</td>\n",
       "      <td>0.336957</td>\n",
       "      <td>1</td>\n",
       "      <td>2007</td>\n",
       "      <td>1</td>\n",
       "    </tr>\n",
       "    <tr>\n",
       "      <th>3</th>\n",
       "      <td>1268</td>\n",
       "      <td>Big Shit Poppin</td>\n",
       "      <td>0.69</td>\n",
       "      <td>0.206522</td>\n",
       "      <td>1</td>\n",
       "      <td>2007</td>\n",
       "      <td>1</td>\n",
       "    </tr>\n",
       "    <tr>\n",
       "      <th>4</th>\n",
       "      <td>1525</td>\n",
       "      <td>No La Voy A Engañar</td>\n",
       "      <td>0.74</td>\n",
       "      <td>0.586957</td>\n",
       "      <td>1</td>\n",
       "      <td>2012</td>\n",
       "      <td>2</td>\n",
       "    </tr>\n",
       "    <tr>\n",
       "      <th>...</th>\n",
       "      <td>...</td>\n",
       "      <td>...</td>\n",
       "      <td>...</td>\n",
       "      <td>...</td>\n",
       "      <td>...</td>\n",
       "      <td>...</td>\n",
       "      <td>...</td>\n",
       "    </tr>\n",
       "    <tr>\n",
       "      <th>5019</th>\n",
       "      <td>2440</td>\n",
       "      <td>Children of the Wild (feat. Mako)</td>\n",
       "      <td>0.58</td>\n",
       "      <td>0.478261</td>\n",
       "      <td>7</td>\n",
       "      <td>2016</td>\n",
       "      <td>39</td>\n",
       "    </tr>\n",
       "    <tr>\n",
       "      <th>5020</th>\n",
       "      <td>193</td>\n",
       "      <td>Twenty Years</td>\n",
       "      <td>0.43</td>\n",
       "      <td>0.380435</td>\n",
       "      <td>1</td>\n",
       "      <td>2008</td>\n",
       "      <td>33</td>\n",
       "    </tr>\n",
       "    <tr>\n",
       "      <th>5021</th>\n",
       "      <td>2299</td>\n",
       "      <td>Ride It</td>\n",
       "      <td>0.59</td>\n",
       "      <td>0.358696</td>\n",
       "      <td>8</td>\n",
       "      <td>2017</td>\n",
       "      <td>99</td>\n",
       "    </tr>\n",
       "    <tr>\n",
       "      <th>5022</th>\n",
       "      <td>1689</td>\n",
       "      <td>Loot My Body</td>\n",
       "      <td>0.34</td>\n",
       "      <td>0.369565</td>\n",
       "      <td>0</td>\n",
       "      <td>2013</td>\n",
       "      <td>25</td>\n",
       "    </tr>\n",
       "    <tr>\n",
       "      <th>5023</th>\n",
       "      <td>2548</td>\n",
       "      <td>Roam - Edit</td>\n",
       "      <td>0.58</td>\n",
       "      <td>0.500000</td>\n",
       "      <td>1</td>\n",
       "      <td>1989</td>\n",
       "      <td>36</td>\n",
       "    </tr>\n",
       "  </tbody>\n",
       "</table>\n",
       "<p>5024 rows × 7 columns</p>\n",
       "</div>"
      ],
      "text/plain": [
       "      artist_name                         track_name  artist_pop  popularity  \\\n",
       "0              34             Preachin' To The Choir        0.37    0.000000   \n",
       "1            2911        You Work Days I Work Nights        0.29    0.108696   \n",
       "2             485                               Sera        0.44    0.336957   \n",
       "3            1268                    Big Shit Poppin        0.69    0.206522   \n",
       "4            1525                No La Voy A Engañar        0.74    0.586957   \n",
       "...           ...                                ...         ...         ...   \n",
       "5019         2440  Children of the Wild (feat. Mako)        0.58    0.478261   \n",
       "5020          193                       Twenty Years        0.43    0.380435   \n",
       "5021         2299                            Ride It        0.59    0.358696   \n",
       "5022         1689                       Loot My Body        0.34    0.369565   \n",
       "5023         2548                        Roam - Edit        0.58    0.500000   \n",
       "\n",
       "      genre  year  cluster  \n",
       "0         1  2017        0  \n",
       "1         2  2012       -1  \n",
       "2         1  2007        1  \n",
       "3         1  2007        1  \n",
       "4         1  2012        2  \n",
       "...     ...   ...      ...  \n",
       "5019      7  2016       39  \n",
       "5020      1  2008       33  \n",
       "5021      8  2017       99  \n",
       "5022      0  2013       25  \n",
       "5023      1  1989       36  \n",
       "\n",
       "[5024 rows x 7 columns]"
      ]
     },
     "execution_count": 26,
     "metadata": {},
     "output_type": "execute_result"
    }
   ],
   "source": [
    "df"
   ]
  },
  {
   "cell_type": "code",
   "execution_count": 27,
   "metadata": {},
   "outputs": [
    {
     "data": {
      "image/png": "[encoded data removed]",
      "text/plain": [
       "<Figure size 576x432 with 2 Axes>"
      ]
     },
     "metadata": {
      "needs_background": "light"
     },
     "output_type": "display_data"
    }
   ],
   "source": [
    "import matplotlib.pyplot as plt\n",
    "\n",
    "# Plot clusters\n",
    "plt.figure(figsize=(8, 6))\n",
    "plt.scatter(df['year'], df['popularity'], c=df['cluster'], cmap='viridis', marker='o', alpha=0.8)\n",
    "plt.xlabel('Year')\n",
    "plt.ylabel('Track Popularity')\n",
    "plt.title('DBSCAN Clustering')\n",
    "plt.colorbar(label='Cluster')\n",
    "plt.grid(True)\n",
    "plt.show()\n"
   ]
  },
  {
   "cell_type": "code",
   "execution_count": 28,
   "metadata": {},
   "outputs": [
    {
     "name": "stdout",
     "output_type": "stream",
     "text": [
      "Centroid values:\n",
      "         artist_pop  popularity    year     genre\n",
      "cluster                                          \n",
      "-1         0.521961    0.356405  1995.0  3.980392\n",
      " 0         0.568000    0.283972  2017.0  1.000000\n",
      " 1         0.529293    0.250000  2007.0  1.000000\n",
      " 2         0.569395    0.242724  2012.0  1.000000\n",
      " 3         0.558438    0.345788  2010.0  0.000000\n",
      "...             ...         ...     ...       ...\n",
      " 175       0.300000    0.326087  2012.0  3.000000\n",
      " 176       0.595000    0.630435  1985.0  1.000000\n",
      " 177       0.595000    0.445652  2016.0  5.000000\n",
      " 178       0.610000    0.000000  1967.0  1.000000\n",
      " 179       0.275000    0.375000  2011.0  5.000000\n",
      "\n",
      "[181 rows x 4 columns]\n"
     ]
    }
   ],
   "source": [
    "# Calculate centroid values\n",
    "centroid_values = df.groupby('cluster')[['artist_pop', 'popularity', 'year', 'genre']].mean()\n",
    "\n",
    "print(\"Centroid values:\")\n",
    "print(centroid_values)"
   ]
  },
  {
   "cell_type": "code",
   "execution_count": 29,
   "metadata": {},
   "outputs": [
    {
     "name": "stdout",
     "output_type": "stream",
     "text": [
      "Number of clusters formed: 180\n"
     ]
    }
   ],
   "source": [
    "# Count the number of clusters formed\n",
    "num_clusters = len(set(clusters)) - (1 if -1 in clusters else 0)  # Exclude noise points if present (-1 indicates noise)\n",
    "print(\"Number of clusters formed:\", num_clusters)"
   ]
  },
  {
   "cell_type": "code",
   "execution_count": null,
   "metadata": {},
   "outputs": [],
   "source": [
    "import cvxpy as cp\n",
    "import numpy as np\n",
    "\n",
    "# Generate random data\n",
    "np.random.seed(0)\n",
    "m = 10\n",
    "n = 5\n",
    "A = np.random.randn(m, n)\n",
    "b = np.random.randn(m)\n",
    "\n",
    "# Define variables\n",
    "x = cp.Variable(n)\n",
    "\n",
    "# Define objective function\n",
    "objective = cp.Minimize(cp.sum_squares(A @ x - b))\n",
    "\n",
    "# Define constraint: Norm of x <= 1\n",
    "constraints = [cp.norm(x) <= 1]\n",
    "\n",
    "# Formulate and solve problem\n",
    "problem = cp.Problem(objective, constraints)\n",
    "problem.solve()\n",
    "\n",
    "# Display results\n",
    "print(\"Optimal value (minimum sum of squares):\", problem.value)\n",
    "print(\"Optimal solution x:\", x.value)\n"
   ]
  }
 ],
 "metadata": {
  "kernelspec": {
   "display_name": "Python 3",
   "language": "python",
   "name": "python3"
  },
  "language_info": {
   "codemirror_mode": {
    "name": "ipython",
    "version": 3
   },
   "file_extension": ".py",
   "mimetype": "text/x-python",
   "name": "python",
   "nbconvert_exporter": "python",
   "pygments_lexer": "ipython3",
   "version": "3.9.5"
  }
 },
 "nbformat": 4,
 "nbformat_minor": 2
}
