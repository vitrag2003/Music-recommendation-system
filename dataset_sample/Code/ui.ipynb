{
 "cells": [
  {
   "cell_type": "code",
   "execution_count": 12,
   "metadata": {},
   "outputs": [
    {
     "name": "stdout",
     "output_type": "stream",
     "text": [
      "Title: Don’t Blame Me\n",
      "Artist: Taylor Swift\n",
      "Album Cover URL: https://i.scdn.co/image/ab67616d0000b273da5d5aeeabacacc1263c0f4b\n"
     ]
    }
   ],
   "source": [
    "import spotipy\n",
    "from spotipy.oauth2 import SpotifyClientCredentials\n",
    "import urllib.request\n",
    "from PIL import Image, ImageDraw, ImageFont\n",
    "\n",
    "import ssl\n",
    "import urllib.request\n",
    "\n",
    "# This is insecure and not recommended for production use\n",
    "ssl._create_default_https_context = ssl._create_unverified_context\n",
    "\n",
    "# Your existing code to download the album cover image\n",
    "\n",
    "\n",
    "# Spotify credentials\n",
    "client_id = 'd4eec2244fb2416ebce8ec488b1f9587'\n",
    "client_secret = '0cf3c26eca6244e796a10a847dc11f17'\n",
    "\n",
    "# Initialize Spotipy with client credentials manager\n",
    "client_credentials_manager = SpotifyClientCredentials(client_id=client_id, client_secret=client_secret)\n",
    "sp = spotipy.Spotify(client_credentials_manager=client_credentials_manager)\n",
    "\n",
    "# Spotify track URL or ID\n",
    "track_id = '1R0a2iXumgCiFb7HEZ7gUE'  # Use just the track ID part\n",
    "\n",
    "# Fetch track information\n",
    "track_info = sp.track(track_id)\n",
    "\n",
    "# Extract song title, artist name, and album cover URL\n",
    "song_title = track_info['name']\n",
    "artist_name = track_info['artists'][0]['name']\n",
    "album_cover_url = track_info['album']['images'][0]['url']\n",
    "\n",
    "print(f\"Title: {song_title}\")\n",
    "print(f\"Artist: {artist_name}\")\n",
    "print(f\"Album Cover URL: {album_cover_url}\")\n",
    "\n",
    "# Optional: Download and display the album cover image in the terminal (if supported) or open it with a default image viewer\n",
    "urllib.request.urlretrieve(album_cover_url, 'album_cover.jpg')\n",
    "\n",
    "# Load the downloaded image\n",
    "album_cover = Image.open('album_cover.jpg')\n",
    "album_cover.show()\n"
   ]
  },
  {
   "cell_type": "code",
   "execution_count": null,
   "metadata": {},
   "outputs": [],
   "source": []
  }
 ],
 "metadata": {
  "kernelspec": {
   "display_name": "Python 3",
   "language": "python",
   "name": "python3"
  },
  "language_info": {
   "codemirror_mode": {
    "name": "ipython",
    "version": 3
   },
   "file_extension": ".py",
   "mimetype": "text/x-python",
   "name": "python",
   "nbconvert_exporter": "python",
   "pygments_lexer": "ipython3",
   "version": "3.11.6"
  }
 },
 "nbformat": 4,
 "nbformat_minor": 2
}
